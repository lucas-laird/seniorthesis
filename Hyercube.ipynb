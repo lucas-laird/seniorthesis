{
 "cells": [
  {
   "cell_type": "code",
   "execution_count": 2,
   "metadata": {
    "collapsed": true
   },
   "outputs": [],
   "source": [
    "from itertools import product\n",
    "from itertools import combinations\n",
    "import numpy as np\n",
    "import networkx as nx\n",
    "import matplotlib.pyplot as plt"
   ]
  },
  {
   "cell_type": "code",
   "execution_count": null,
   "metadata": {
    "collapsed": true
   },
   "outputs": [],
   "source": [
    "def dist_mat(nodes,R):\n",
    "    distMat = np.zeros((len(nodes), len(R)))\n",
    "    for i,n in enumerate(nodes):\n",
    "        for j,r in enumerate(R):\n",
    "            distMat[i,j] = sum(1 for c1, c2 in zip(n, r) if c1 != c2)\n",
    "    return(distMat)\n",
    "\n",
    "def check_resolving(H,R):\n",
    "    distMat = dist_mat(H,R)\n",
    "    n = len(H)\n",
    "    for i in range(n-1):\n",
    "        for j in range(i+1,n):\n",
    "            if all(distMat[i,:] == distMat[j,:]):\n",
    "                return(False)\n",
    "    return(True)"
   ]
  },
  {
   "cell_type": "code",
   "execution_count": null,
   "metadata": {
    "collapsed": true
   },
   "outputs": [],
   "source": [
    "nodes = [''.join(x) for x in product('01',repeat = 7)]\n",
    "sets = combinations(nodes,6)\n",
    "for i,s in enumerate(sets):\n",
    "    print('On set {}'.format(i+1))\n",
    "    print('set = {}'.format(s))\n",
    "    is_resSet = check_resolving(nodes,s)\n",
    "    if is_resSet:\n",
    "        print('Found res set = {}'.format(s))\n",
    "        resSet = s\n",
    "        break\n",
    "    \n",
    "\n"
   ]
  },
  {
   "cell_type": "code",
   "execution_count": null,
   "metadata": {
    "collapsed": true
   },
   "outputs": [],
   "source": [
    "nodes = [''.join(x) for x in product('01',repeat = 7)]\n",
    "n = len(nodes)\n",
    "G = nx.Graph()\n",
    "G.add_nodes_from(nodes)\n",
    "for i in range(n-1):\n",
    "    for j in range(i+1,n):\n",
    "        n1 = nodes[i]\n",
    "        n2 = nodes[j]\n",
    "        d = sum(1 if c1 is not c2 else 0 for c1,c2 in zip(n1,n2))\n",
    "        if d is 1:\n",
    "            G.add_edge(n1,n2)"
   ]
  },
  {
   "cell_type": "code",
   "execution_count": null,
   "metadata": {
    "collapsed": true
   },
   "outputs": [],
   "source": [
    "pos = nx.spring_layout(G)\n",
    "nx.draw(G, pos, node_color = 'r', node_size = 50)\n",
    "plt.show()"
   ]
  },
  {
   "cell_type": "code",
   "execution_count": null,
   "metadata": {
    "collapsed": true
   },
   "outputs": [],
   "source": [
    "node_list = list(G.nodes)\n",
    "resSet = list(resSet)\n",
    "print(resSet)\n",
    "color_list = ['b' if r in resSet else 'r' for r in node_list]\n",
    "size_list = [100 if r in resSet else 50 for r in node_list]\n",
    "pos = nx.spring_layout(G)\n",
    "nx.draw(G, pos, node_color = color_list, node_size = 50)\n",
    "plt.show()"
   ]
  },
  {
   "cell_type": "code",
   "execution_count": 11,
   "metadata": {
    "collapsed": true
   },
   "outputs": [],
   "source": [
    "from sympy import *\n",
    "from itertools import product\n",
    "from itertools import combinations\n",
    "from scipy.special import comb\n",
    "import numpy as np\n",
    "import networkx as nx\n",
    "import matplotlib.pyplot as plt\n",
    "def make_matrix(R):\n",
    "    m = len(R)\n",
    "    n = len(R[0])\n",
    "    A = np.zeros([m,n])\n",
    "    for i,r in enumerate(R):\n",
    "        for j,s in enumerate(r):\n",
    "            A[i,j] = int(s)\n",
    "    return(A)\n",
    "\n",
    "def check_resolving_mat(R,z):\n",
    "    A = make_matrix(R)\n",
    "    if np.linalg.matrix_rank(A) < len(R):\n",
    "        return(False)\n",
    "    print(\"Found a good candidate: {}\".format(R))\n",
    "    P = make_linear_equations(A,z)\n",
    "    F = 0\n",
    "    for v in z:\n",
    "        P.append(v*(v-1)*(v+1))\n",
    "        F += v**2\n",
    "    G = groebner(P,order = 'lex')\n",
    "    f = G.reduce(F)\n",
    "    k = len(z)\n",
    "    consts = np.arange(2,k+1,2)\n",
    "    for c in consts:\n",
    "        fi = f-c\n",
    "        Gi = G + fi\n",
    "        Gi = groebner(Gi,order = 'lex')\n",
    "        if(list(Gi) is [1]):\n",
    "            return(False)\n",
    "    return(True)\n",
    "    \n",
    "    \n",
    "    \n",
    "def make_linear_equations(A, z):\n",
    "    funcs = []\n",
    "    for r in A:\n",
    "        temp = 0\n",
    "        for j,v in enumerate(r):\n",
    "            temp += z[j]*v\n",
    "        funcs.append(temp)\n",
    "    return(funcs)\n"
   ]
  },
  {
   "cell_type": "code",
   "execution_count": null,
   "metadata": {},
   "outputs": [],
   "source": [
    "nodes = [''.join(x) for x in product('10',repeat = 15)]\n",
    "nodes.remove('111111111111111')\n",
    "z = var('z1,z2,z3,z4,z5,z6,z7,z8,z9,z10,z11,z12,z13,z14,z15')\n",
    "sets = combinations(nodes,9)\n",
    "for i,s in enumerate(sets):\n",
    "    s = list(s)\n",
    "    s.insert(0,'111111111111111')\n",
    "    is_resolving = check_resolving_mat(s,z)\n",
    "    if is_resolving:\n",
    "        print(\"Found resolving set s = {}\".format(s))\n",
    "        break"
   ]
  },
  {
   "cell_type": "code",
   "execution_count": 16,
   "metadata": {},
   "outputs": [
    {
     "name": "stdout",
     "output_type": "stream",
     "text": [
      "('111111111111111', '111111111111110', '111111111111101', '111111111111100', '111111111111011', '111111111111010', '111111111111001', '111111111111000', '111111111110111', '111111111110110')\n"
     ]
    }
   ],
   "source": []
  },
  {
   "cell_type": "code",
   "execution_count": null,
   "metadata": {
    "collapsed": true
   },
   "outputs": [],
   "source": []
  }
 ],
 "metadata": {
  "kernelspec": {
   "display_name": "Python 3",
   "language": "python",
   "name": "python3"
  },
  "language_info": {
   "codemirror_mode": {
    "name": "ipython",
    "version": 3
   },
   "file_extension": ".py",
   "mimetype": "text/x-python",
   "name": "python",
   "nbconvert_exporter": "python",
   "pygments_lexer": "ipython3",
   "version": "3.6.3"
  }
 },
 "nbformat": 4,
 "nbformat_minor": 2
}
