{
 "cells": [
  {
   "cell_type": "code",
   "execution_count": 10,
   "metadata": {
    "collapsed": true
   },
   "outputs": [],
   "source": [
    "import numpy as np\n",
    "from sympy import *\n",
    "from math import floor\n",
    "import time\n",
    "from itertools import product\n",
    "from itertools import combinations"
   ]
  },
  {
   "cell_type": "code",
   "execution_count": 2,
   "metadata": {
    "collapsed": true
   },
   "outputs": [],
   "source": [
    "def make_linearEqns(A,z):\n",
    "    #Takes matrix A and variable list z and converts it into a list of linear equations\n",
    "    z = Matrix(z)\n",
    "    A = Matrix(A)\n",
    "    A = A.rref()[0]\n",
    "    lin_fcns = A*z\n",
    "    lin_fcns = [f for f in lin_fcns if f != 0]\n",
    "    return(list(lin_fcns))"
   ]
  },
  {
   "cell_type": "code",
   "execution_count": 13,
   "metadata": {
    "collapsed": true
   },
   "outputs": [],
   "source": [
    "#Hypercube functions\n",
    "def apply_automorphism(R):\n",
    "    #Applies automorphism so that r1 = 0^k (Not useful for non-hypercubes)\n",
    "    position = [i for i,r in enumerate(R[0]) if r == '0']\n",
    "    R_new = [r for r in R]\n",
    "    for j,r in enumerate(R_new):\n",
    "        temp = list(r)\n",
    "        for i in position:\n",
    "            if temp[i] == '1':\n",
    "                temp[i] = '0'\n",
    "            else:\n",
    "                temp[i] = '1'\n",
    "        R_new[j] = ''.join(temp)\n",
    "    return(R_new)\n",
    "\n",
    "def hypercube_matrix(R):\n",
    "    A = np.zeros((len(R),len(R[0])))\n",
    "    for i,r in enumerate(R):\n",
    "        for j,letter in enumerate(r):\n",
    "            A[i,j] = int(letter)\n",
    "    return(A)\n",
    "\n",
    "def hypercube_polys(k):\n",
    "    variable_string = ''\n",
    "    for i in range(1,k+1):\n",
    "        variable_string = variable_string +'z{},'.format(i)\n",
    "    variable_string = variable_string[:-1]\n",
    "    z = var(variable_string)\n",
    "    P = []\n",
    "    f = 0\n",
    "    for i in range(k):\n",
    "        P.append(z[i]*(z[i]-1)*(z[i]+1))\n",
    "        f = f + z[i]**2\n",
    "    fs = []\n",
    "    for i in range(floor(k/2)):\n",
    "        fi = f-2*(i+1)\n",
    "        fs.append(fi)\n",
    "    return(P,fs,z)\n",
    "\n",
    "def check_hcube_resolving(A,k):\n",
    "    P,fs,z = hypercube_polys(k)\n",
    "    #Get linear functions from A matrix\n",
    "    lin_fcns = make_linearEqns(A,z)\n",
    "    #Get Grobner basis of P and linear functions\n",
    "    G = groebner(P+lin_fcns,order = 'lex')\n",
    "    for i,fi in enumerate(fs):\n",
    "        #Compute Grobner basis of G+fi\n",
    "        Gi = groebner(list(G)+[fi],order = 'lex')\n",
    "        #Solutions iff Gi neq 1, if Gi neq 1 then R is not resolving\n",
    "        if not (list(Gi) == [1]):\n",
    "            return False\n",
    "    return True\n",
    "    "
   ]
  },
  {
   "cell_type": "code",
   "execution_count": 11,
   "metadata": {
    "collapsed": true
   },
   "outputs": [],
   "source": [
    "def generate_hypercube_RSet(k):\n",
    "    a = 2\n",
    "    ones_string = '1'*k\n",
    "    nodes = [''.join(x) for x in product('01',repeat = k)]\n",
    "    nodes.remove(ones_string)\n",
    "    random_indices = np.random.permutation(len(nodes))\n",
    "    R = [ones_string]\n",
    "    rank = 0\n",
    "    for i in random_indices:\n",
    "        node = nodes[i]\n",
    "        A = hypercube_matrix(R+[node])\n",
    "        new_rank = np.linalg.matrix_rank(A)\n",
    "        if new_rank > rank:\n",
    "            rank = new_rank\n",
    "            R.append(node)\n",
    "            is_resolving = check_hcube_resolving(A,k)\n",
    "            if is_resolving:\n",
    "                return(R)"
   ]
  },
  {
   "cell_type": "code",
   "execution_count": 28,
   "metadata": {
    "collapsed": true
   },
   "outputs": [],
   "source": [
    "ks = np.arange(7,20,1)\n",
    "num_sets = 10"
   ]
  },
  {
   "cell_type": "code",
   "execution_count": null,
   "metadata": {},
   "outputs": [
    {
     "name": "stdout",
     "output_type": "stream",
     "text": [
      "Starting k = 7\n",
      "Making set #1\n",
      "Making set #2\n",
      "Making set #3\n",
      "Making set #4\n",
      "Making set #5\n",
      "Making set #6\n",
      "Making set #7\n",
      "Making set #8\n",
      "Making set #9\n",
      "Making set #10\n",
      "Starting k = 8\n",
      "Making set #1\n",
      "Making set #2\n",
      "Making set #3\n",
      "Making set #4\n",
      "Making set #5\n",
      "Making set #6\n",
      "Making set #7\n",
      "Making set #8\n",
      "Making set #9\n",
      "Making set #10\n",
      "Starting k = 9\n",
      "Making set #1\n",
      "Making set #2\n",
      "Making set #3\n",
      "Making set #4\n",
      "Making set #5\n",
      "Making set #6\n",
      "Making set #7\n",
      "Making set #8\n",
      "Making set #9\n",
      "Making set #10\n",
      "Starting k = 10\n",
      "Making set #1\n",
      "Making set #2\n",
      "Making set #3\n",
      "Making set #4\n",
      "Making set #5\n",
      "Making set #6\n",
      "Making set #7\n",
      "Making set #8\n",
      "Making set #9\n",
      "Making set #10\n",
      "Starting k = 11\n",
      "Making set #1\n",
      "Making set #2\n",
      "Making set #3\n",
      "Making set #4\n",
      "Making set #5\n",
      "Making set #6\n",
      "Making set #7\n",
      "Making set #8\n",
      "Making set #9\n",
      "Making set #10\n",
      "Starting k = 12\n",
      "Making set #1\n",
      "Making set #2\n",
      "Making set #3\n",
      "Making set #4\n",
      "Making set #5\n",
      "Making set #6\n",
      "Making set #7\n",
      "Making set #8\n",
      "Making set #9\n",
      "Making set #10\n",
      "Starting k = 13\n",
      "Making set #1\n",
      "Making set #2\n",
      "Making set #3\n",
      "Making set #4\n",
      "Making set #5\n",
      "Making set #6\n",
      "Making set #7\n",
      "Making set #8\n",
      "Making set #9\n",
      "Making set #10\n",
      "Starting k = 14\n",
      "Making set #1\n",
      "Making set #2\n",
      "Making set #3\n",
      "Making set #4\n",
      "Making set #5\n",
      "Making set #6\n",
      "Making set #7\n",
      "Making set #8\n",
      "Making set #9\n",
      "Making set #10\n",
      "Starting k = 15\n",
      "Making set #1\n",
      "Making set #2\n",
      "Making set #3\n"
     ]
    }
   ],
   "source": [
    "Sets = []\n",
    "avg_times = []\n",
    "for k in ks:\n",
    "    print(\"Starting k = {}\".format(k))\n",
    "    res_sets = []\n",
    "    times = []\n",
    "    for i in range(num_sets):\n",
    "        print(\"Making set #{}\".format(i+1))\n",
    "        start = time.time()\n",
    "        R = generate_hypercube_RSet(k)\n",
    "        end = time.time()\n",
    "        times.append(end-start)\n",
    "        res_sets.append(R)\n",
    "    avg_time = np.mean(times)\n",
    "    avg_times.append(avg_time)\n",
    "    Sets.append(res_sets)"
   ]
  },
  {
   "cell_type": "code",
   "execution_count": 27,
   "metadata": {},
   "outputs": [
    {
     "name": "stdout",
     "output_type": "stream",
     "text": [
      "[[6, 7], [8, 7], [8, 9]]\n"
     ]
    }
   ],
   "source": [
    "Sizes = []\n",
    "for res_sets in Sets:\n",
    "    temp = [len(R) for R in res_sets]\n",
    "    sizes = set(temp)\n",
    "    Sizes.append(list(sizes))\n",
    "print(Sizes)"
   ]
  },
  {
   "cell_type": "code",
   "execution_count": 20,
   "metadata": {},
   "outputs": [],
   "source": [
    "test_R = generate_hypercube_RSet(5)"
   ]
  },
  {
   "cell_type": "code",
   "execution_count": 21,
   "metadata": {},
   "outputs": [
    {
     "name": "stdout",
     "output_type": "stream",
     "text": [
      "['11111', '00010', '00100', '11000', '10010']\n"
     ]
    }
   ],
   "source": [
    "print(test_R)"
   ]
  },
  {
   "cell_type": "code",
   "execution_count": null,
   "metadata": {
    "collapsed": true
   },
   "outputs": [],
   "source": []
  }
 ],
 "metadata": {
  "kernelspec": {
   "display_name": "Python 3",
   "language": "python",
   "name": "python3"
  },
  "language_info": {
   "codemirror_mode": {
    "name": "ipython",
    "version": 3
   },
   "file_extension": ".py",
   "mimetype": "text/x-python",
   "name": "python",
   "nbconvert_exporter": "python",
   "pygments_lexer": "ipython3",
   "version": "3.6.3"
  }
 },
 "nbformat": 4,
 "nbformat_minor": 2
}
