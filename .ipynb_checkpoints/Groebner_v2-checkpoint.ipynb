{
 "cells": [
  {
   "cell_type": "code",
   "execution_count": 17,
   "metadata": {
    "collapsed": true
   },
   "outputs": [],
   "source": [
    "import numpy as np\n",
    "from sympy import *"
   ]
  },
  {
   "cell_type": "markdown",
   "metadata": {},
   "source": [
    "Computing S-Polynomials"
   ]
  },
  {
   "cell_type": "code",
   "execution_count": 18,
   "metadata": {
    "collapsed": true
   },
   "outputs": [],
   "source": [
    "def spoly(f1,f2,order = 'lex'):\n",
    "    LM1 = LM(f1,order = order)\n",
    "    LT1 = LT(f1,order = order)\n",
    "    LM2 = LM(f2,order = order)\n",
    "    LT2 = LT(f2,order = order)\n",
    "    numerator = lcm(LM1,LM2)\n",
    "    S = numerator/LT1*f1 - numerator/LT2 * f2\n",
    "    return(expand(S))"
   ]
  },
  {
   "cell_type": "markdown",
   "metadata": {},
   "source": [
    "Example"
   ]
  },
  {
   "cell_type": "code",
   "execution_count": 9,
   "metadata": {},
   "outputs": [
    {
     "name": "stdout",
     "output_type": "stream",
     "text": [
      "5*x**2*y**3/2 + 2*x*y**2/3 - y**3/3\n"
     ]
    }
   ],
   "source": [
    "x,y = var('x,y')\n",
    "f1 = 3*(x**3)*y + 2*x*y - y**2\n",
    "f2 = 2*x*(y**2)-5*y**3\n",
    "print(spoly(f1,f2,order = 'lex'))"
   ]
  },
  {
   "cell_type": "markdown",
   "metadata": {},
   "source": [
    "Computing Groebner Basis using Buchberger's Algorithm"
   ]
  },
  {
   "cell_type": "code",
   "execution_count": 12,
   "metadata": {
    "collapsed": true
   },
   "outputs": [],
   "source": [
    "def GBasis_BuchAlg(F,order = 'lex'):\n",
    "    Q = [g for g in F]\n",
    "    while len(Q) > 0:\n",
    "        g = Q.pop(0)\n",
    "        for f in Q:\n",
    "            S = spoly(g,f, order = order)\n",
    "            if not S == 0:\n",
    "                q,r = reduced(S, F, order = order)\n",
    "                if not r == 0:\n",
    "                    F.append(r)\n",
    "                    Q.append(r)\n",
    "    return(F)"
   ]
  },
  {
   "cell_type": "markdown",
   "metadata": {},
   "source": [
    "Examples"
   ]
  },
  {
   "cell_type": "code",
   "execution_count": 13,
   "metadata": {},
   "outputs": [
    {
     "name": "stdout",
     "output_type": "stream",
     "text": [
      "[x*y - x, x**2 - y, y**2 - y]\n"
     ]
    }
   ],
   "source": [
    "x,y = var('x,y')\n",
    "F = [x*y-x, x**2-y]\n",
    "G = GBasis_BuchAlg(F, order = 'lex')\n",
    "print(G)"
   ]
  },
  {
   "cell_type": "code",
   "execution_count": 7,
   "metadata": {},
   "outputs": [
    {
     "name": "stdout",
     "output_type": "stream",
     "text": [
      "[2*x**2 - 4*x + y**2 - 4*y + 3, x**2 - 2*x + 3*y**2 - 12*y + 9, -5*y**2/2 + 10*y - 15/2]\n"
     ]
    }
   ],
   "source": [
    "x,y = var('x,y')\n",
    "F = [2*x**2-4*x+y**2-4*y+3, x**2-2*x+3*y**2-12*y+9]\n",
    "G = GBasis_BuchAlg(F, order = 'lex')\n",
    "print(G)"
   ]
  },
  {
   "cell_type": "code",
   "execution_count": 8,
   "metadata": {},
   "outputs": [
    {
     "name": "stdout",
     "output_type": "stream",
     "text": [
      "[-x**2 + x*y**3, x**3*y**2 - y, -x**4 + y**2, -x*y + y**4]\n"
     ]
    }
   ],
   "source": [
    "x,y = var('x,y')\n",
    "F = [-x**2+x*y**3, x**3*y**2 - y]\n",
    "G = GBasis_BuchAlg(F,order = 'grlex')\n",
    "print(G)"
   ]
  },
  {
   "cell_type": "markdown",
   "metadata": {},
   "source": [
    "Minimizing Groebner Basis"
   ]
  },
  {
   "cell_type": "code",
   "execution_count": 14,
   "metadata": {
    "collapsed": true
   },
   "outputs": [],
   "source": [
    "def minimize_GBasis(G, order = 'lex'):\n",
    "    for i,g in enumerate(G):\n",
    "        G[i] = g/LC(g,order = order)\n",
    "    n = len(G)\n",
    "    G2 = []\n",
    "    for g in G:\n",
    "        H = [f for f in G]\n",
    "        H.remove(g)\n",
    "        H = [LT(f,order = order) for f in H]\n",
    "        LTg = LT(g,order = order)\n",
    "        q,r = reduced(LTg, H, order = order)\n",
    "        if not r == 0:\n",
    "            G2.append(g)\n",
    "    return(G2)\n",
    "        \n",
    "            "
   ]
  },
  {
   "cell_type": "markdown",
   "metadata": {},
   "source": [
    "Examples"
   ]
  },
  {
   "cell_type": "code",
   "execution_count": 10,
   "metadata": {},
   "outputs": [
    {
     "name": "stdout",
     "output_type": "stream",
     "text": [
      "[x**2, -x/2 + y**2, x*y]\n"
     ]
    }
   ],
   "source": [
    "x,y = var('x,y')\n",
    "F = [x**3 - 2*x*y, x**2*y-2*y**2 + x]\n",
    "G = GBasis_BuchAlg(F, order = 'grlex')\n",
    "MG = minimize_GBasis(G,order = 'grlex')\n",
    "print(MG)"
   ]
  },
  {
   "cell_type": "markdown",
   "metadata": {},
   "source": [
    "Reducing Groebner Basis"
   ]
  },
  {
   "cell_type": "code",
   "execution_count": 15,
   "metadata": {
    "collapsed": true
   },
   "outputs": [],
   "source": [
    "def reduce_GBasis(G, order = 'lex'):\n",
    "    G = minimize_GBasis(G, order = order)\n",
    "    for i,g in enumerate(G):\n",
    "        H = [f for f in G if not f == g]\n",
    "        q,r = reduced(g,H, order = order)\n",
    "        G[i] = r\n",
    "    return(G)"
   ]
  },
  {
   "cell_type": "code",
   "execution_count": 16,
   "metadata": {},
   "outputs": [
    {
     "name": "stdout",
     "output_type": "stream",
     "text": [
      "[x**2, x*y, -x/2 + y**2]\n",
      "[x**2, x*y, -x/2 + y**2]\n"
     ]
    }
   ],
   "source": [
    "x,y = var('x,y')\n",
    "F = [x**3 - 2*x*y, x**2*y-2*y**2 + x]\n",
    "G = GBasis_BuchAlg(F, order = 'grlex')\n",
    "RG = reduce_GBasis(G,order = 'grlex')\n",
    "print(RG)\n",
    "SG = groebner(F, order = 'grlex')\n",
    "print(list(SG))"
   ]
  },
  {
   "cell_type": "markdown",
   "metadata": {},
   "source": [
    "Putting it all together"
   ]
  },
  {
   "cell_type": "code",
   "execution_count": 13,
   "metadata": {
    "collapsed": true
   },
   "outputs": [],
   "source": [
    "def GrobAdd_Buchberger(G,f, order = 'lex'):\n",
    "    G.append(f)\n",
    "    Q = [f]\n",
    "    while len(Q) > 0:\n",
    "        g = Q.pop(0)\n",
    "        temp = [f for f in G if not f == g]\n",
    "        for f in temp: \n",
    "            S = spoly(g, f, order = order)\n",
    "            q,r = reduced(S,G,order = order)\n",
    "            if not r == 0: \n",
    "                G.append(r)\n",
    "                Q.append(r)\n",
    "    G = reduce_GBasis(G,order = order)\n",
    "    return(G)"
   ]
  },
  {
   "cell_type": "code",
   "execution_count": 15,
   "metadata": {},
   "outputs": [
    {
     "name": "stdout",
     "output_type": "stream",
     "text": [
      "[x - 2*y**2, y**3]\n",
      "[x - 2*y**2, y**3]\n",
      "[x - 2*y**2, y**3]\n"
     ]
    }
   ],
   "source": [
    "x,y = var('x,y')\n",
    "F = [x**3 - 2*x*y, x**2*y-2*y**2 + x]\n",
    "G = groebner(F,order = 'lex')\n",
    "G = list(G)\n",
    "print(G)\n",
    "f = x**2 - x*y**2 + x**2*y**3\n",
    "test = GrobAdd_Buchberger(G,f,order = 'lex')\n",
    "print(test)\n",
    "F.append(f)\n",
    "test = groebner(F,order = 'lex')\n",
    "print(list(test))"
   ]
  },
  {
   "cell_type": "code",
   "execution_count": 23,
   "metadata": {},
   "outputs": [
    {
     "name": "stdout",
     "output_type": "stream",
     "text": [
      "[x - 2*y**2, y**3]\n"
     ]
    },
    {
     "ename": "AttributeError",
     "evalue": "'Tuple' object has no attribute 'expand'",
     "output_type": "error",
     "traceback": [
      "\u001b[1;31m---------------------------------------------------------------------------\u001b[0m",
      "\u001b[1;31mAttributeError\u001b[0m                            Traceback (most recent call last)",
      "\u001b[1;32m<ipython-input-23-c3b033d3a600>\u001b[0m in \u001b[0;36m<module>\u001b[1;34m()\u001b[0m\n\u001b[0;32m     13\u001b[0m     \u001b[0mGr\u001b[0m \u001b[1;33m=\u001b[0m \u001b[0mG\u001b[0m\u001b[1;33m\u001b[0m\u001b[0m\n\u001b[0;32m     14\u001b[0m     \u001b[0mGr\u001b[0m\u001b[1;33m.\u001b[0m\u001b[0mappend\u001b[0m\u001b[1;33m(\u001b[0m\u001b[0mrv\u001b[0m\u001b[1;33m)\u001b[0m\u001b[1;33m\u001b[0m\u001b[0m\n\u001b[1;32m---> 15\u001b[1;33m     \u001b[0mGv2\u001b[0m \u001b[1;33m=\u001b[0m \u001b[0mgroebner\u001b[0m\u001b[1;33m(\u001b[0m\u001b[0mGr\u001b[0m\u001b[1;33m,\u001b[0m\u001b[0morder\u001b[0m \u001b[1;33m=\u001b[0m \u001b[1;34m'lex'\u001b[0m\u001b[1;33m)\u001b[0m\u001b[1;33m\u001b[0m\u001b[0m\n\u001b[0m\u001b[0;32m     16\u001b[0m     \u001b[0mprint\u001b[0m\u001b[1;33m(\u001b[0m\u001b[0mlist\u001b[0m\u001b[1;33m(\u001b[0m\u001b[0mGv\u001b[0m\u001b[1;33m)\u001b[0m\u001b[1;33m,\u001b[0m \u001b[0mlist\u001b[0m\u001b[1;33m(\u001b[0m\u001b[0mGv2\u001b[0m\u001b[1;33m)\u001b[0m\u001b[1;33m,\u001b[0m \u001b[0mrv\u001b[0m\u001b[1;33m)\u001b[0m\u001b[1;33m\u001b[0m\u001b[0m\n\u001b[0;32m     17\u001b[0m \u001b[1;33m\u001b[0m\u001b[0m\n",
      "\u001b[1;32m~\\Anaconda3\\lib\\site-packages\\sympy\\polys\\polytools.py\u001b[0m in \u001b[0;36mgroebner\u001b[1;34m(F, *gens, **args)\u001b[0m\n\u001b[0;32m   6584\u001b[0m \u001b[1;33m\u001b[0m\u001b[0m\n\u001b[0;32m   6585\u001b[0m     \"\"\"\n\u001b[1;32m-> 6586\u001b[1;33m     \u001b[1;32mreturn\u001b[0m \u001b[0mGroebnerBasis\u001b[0m\u001b[1;33m(\u001b[0m\u001b[0mF\u001b[0m\u001b[1;33m,\u001b[0m \u001b[1;33m*\u001b[0m\u001b[0mgens\u001b[0m\u001b[1;33m,\u001b[0m \u001b[1;33m**\u001b[0m\u001b[0margs\u001b[0m\u001b[1;33m)\u001b[0m\u001b[1;33m\u001b[0m\u001b[0m\n\u001b[0m\u001b[0;32m   6587\u001b[0m \u001b[1;33m\u001b[0m\u001b[0m\n\u001b[0;32m   6588\u001b[0m \u001b[1;33m\u001b[0m\u001b[0m\n",
      "\u001b[1;32m~\\Anaconda3\\lib\\site-packages\\sympy\\polys\\polytools.py\u001b[0m in \u001b[0;36m__new__\u001b[1;34m(cls, F, *gens, **args)\u001b[0m\n\u001b[0;32m   6614\u001b[0m \u001b[1;33m\u001b[0m\u001b[0m\n\u001b[0;32m   6615\u001b[0m         \u001b[1;32mtry\u001b[0m\u001b[1;33m:\u001b[0m\u001b[1;33m\u001b[0m\u001b[0m\n\u001b[1;32m-> 6616\u001b[1;33m             \u001b[0mpolys\u001b[0m\u001b[1;33m,\u001b[0m \u001b[0mopt\u001b[0m \u001b[1;33m=\u001b[0m \u001b[0mparallel_poly_from_expr\u001b[0m\u001b[1;33m(\u001b[0m\u001b[0mF\u001b[0m\u001b[1;33m,\u001b[0m \u001b[1;33m*\u001b[0m\u001b[0mgens\u001b[0m\u001b[1;33m,\u001b[0m \u001b[1;33m**\u001b[0m\u001b[0margs\u001b[0m\u001b[1;33m)\u001b[0m\u001b[1;33m\u001b[0m\u001b[0m\n\u001b[0m\u001b[0;32m   6617\u001b[0m         \u001b[1;32mexcept\u001b[0m \u001b[0mPolificationFailed\u001b[0m \u001b[1;32mas\u001b[0m \u001b[0mexc\u001b[0m\u001b[1;33m:\u001b[0m\u001b[1;33m\u001b[0m\u001b[0m\n\u001b[0;32m   6618\u001b[0m             \u001b[1;32mraise\u001b[0m \u001b[0mComputationFailed\u001b[0m\u001b[1;33m(\u001b[0m\u001b[1;34m'groebner'\u001b[0m\u001b[1;33m,\u001b[0m \u001b[0mlen\u001b[0m\u001b[1;33m(\u001b[0m\u001b[0mF\u001b[0m\u001b[1;33m)\u001b[0m\u001b[1;33m,\u001b[0m \u001b[0mexc\u001b[0m\u001b[1;33m)\u001b[0m\u001b[1;33m\u001b[0m\u001b[0m\n",
      "\u001b[1;32m~\\Anaconda3\\lib\\site-packages\\sympy\\polys\\polytools.py\u001b[0m in \u001b[0;36mparallel_poly_from_expr\u001b[1;34m(exprs, *gens, **args)\u001b[0m\n\u001b[0;32m   4264\u001b[0m     \u001b[1;34m\"\"\"Construct polynomials from expressions. \"\"\"\u001b[0m\u001b[1;33m\u001b[0m\u001b[0m\n\u001b[0;32m   4265\u001b[0m     \u001b[0mopt\u001b[0m \u001b[1;33m=\u001b[0m \u001b[0moptions\u001b[0m\u001b[1;33m.\u001b[0m\u001b[0mbuild_options\u001b[0m\u001b[1;33m(\u001b[0m\u001b[0mgens\u001b[0m\u001b[1;33m,\u001b[0m \u001b[0margs\u001b[0m\u001b[1;33m)\u001b[0m\u001b[1;33m\u001b[0m\u001b[0m\n\u001b[1;32m-> 4266\u001b[1;33m     \u001b[1;32mreturn\u001b[0m \u001b[0m_parallel_poly_from_expr\u001b[0m\u001b[1;33m(\u001b[0m\u001b[0mexprs\u001b[0m\u001b[1;33m,\u001b[0m \u001b[0mopt\u001b[0m\u001b[1;33m)\u001b[0m\u001b[1;33m\u001b[0m\u001b[0m\n\u001b[0m\u001b[0;32m   4267\u001b[0m \u001b[1;33m\u001b[0m\u001b[0m\n\u001b[0;32m   4268\u001b[0m \u001b[1;33m\u001b[0m\u001b[0m\n",
      "\u001b[1;32m~\\Anaconda3\\lib\\site-packages\\sympy\\polys\\polytools.py\u001b[0m in \u001b[0;36m_parallel_poly_from_expr\u001b[1;34m(exprs, opt)\u001b[0m\n\u001b[0;32m   4303\u001b[0m \u001b[1;33m\u001b[0m\u001b[0m\n\u001b[0;32m   4304\u001b[0m                 \u001b[1;32mif\u001b[0m \u001b[0mopt\u001b[0m\u001b[1;33m.\u001b[0m\u001b[0mexpand\u001b[0m\u001b[1;33m:\u001b[0m\u001b[1;33m\u001b[0m\u001b[0m\n\u001b[1;32m-> 4305\u001b[1;33m                     \u001b[0mexpr\u001b[0m \u001b[1;33m=\u001b[0m \u001b[0mexpr\u001b[0m\u001b[1;33m.\u001b[0m\u001b[0mexpand\u001b[0m\u001b[1;33m(\u001b[0m\u001b[1;33m)\u001b[0m\u001b[1;33m\u001b[0m\u001b[0m\n\u001b[0m\u001b[0;32m   4306\u001b[0m         \u001b[1;32melse\u001b[0m\u001b[1;33m:\u001b[0m\u001b[1;33m\u001b[0m\u001b[0m\n\u001b[0;32m   4307\u001b[0m             \u001b[0mfailed\u001b[0m \u001b[1;33m=\u001b[0m \u001b[1;32mTrue\u001b[0m\u001b[1;33m\u001b[0m\u001b[0m\n",
      "\u001b[1;31mAttributeError\u001b[0m: 'Tuple' object has no attribute 'expand'"
     ]
    }
   ],
   "source": [
    "F = [x**3 - 2*x*y, x**2*y-2*y**2 + x]\n",
    "G = groebner(F,order = 'lex')\n",
    "G = list(G)\n",
    "print(G)\n",
    "f = x**2 + y**2\n",
    "vals = [1,2,3,4]\n",
    "for v in vals:\n",
    "    fv = f-v\n",
    "    Gtemp = G\n",
    "    Gtemp.append(fv)\n",
    "    Gv = groebner(Gtemp,order = 'lex')\n",
    "    q,rv = reduced(fv,G,order = 'lex')\n",
    "    Gr = G\n",
    "    Gr.append(rv)\n",
    "    Gv2 = groebner(Gr,order = 'lex')\n",
    "    print(list(Gv), list(Gv2), rv)\n",
    "    "
   ]
  },
  {
   "cell_type": "code",
   "execution_count": null,
   "metadata": {
    "collapsed": true
   },
   "outputs": [],
   "source": []
  }
 ],
 "metadata": {
  "kernelspec": {
   "display_name": "Python 3",
   "language": "python",
   "name": "python3"
  },
  "language_info": {
   "codemirror_mode": {
    "name": "ipython",
    "version": 3
   },
   "file_extension": ".py",
   "mimetype": "text/x-python",
   "name": "python",
   "nbconvert_exporter": "python",
   "pygments_lexer": "ipython3",
   "version": "3.6.3"
  }
 },
 "nbformat": 4,
 "nbformat_minor": 2
}
