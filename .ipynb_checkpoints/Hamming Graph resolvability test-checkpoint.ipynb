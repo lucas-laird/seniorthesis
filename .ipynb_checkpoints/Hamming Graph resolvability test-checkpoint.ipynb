{
 "cells": [
  {
   "cell_type": "code",
   "execution_count": 1,
   "metadata": {},
   "outputs": [],
   "source": [
    "import numpy as np\n",
    "from sympy import *\n",
    "from math import floor"
   ]
  },
  {
   "cell_type": "markdown",
   "metadata": {},
   "source": [
    "Weird behvavior that makes me suspect something is wrong with the code itself:  \n",
    "\n",
    "1. If I do the sum(zi) for a position = 0 as a row in the linear equations, I get a different result than if I do it as part of the polynomial system. This doesn't make any sense and I don't understand why it's happening.\n",
    "\n",
    "2. If I put the above condition into the polynomial system, then I get correct results for all of the hypercubes with both the general approach and the simplified approach. If I put the condition in the linear equations I get incorrect results with the general approach. \n",
    "\n",
    "3. If I put the condition into the polynomial system, and test on a>2 systems, I sometimes get all correct, sometimes I don't. I also only ever mis-identify something as resolving when it is not resolving, never the other way around.\n",
    "\n",
    "4. If I put the condition into the linear system and test on a>2 systems, I basically just get everything is resolving which makes no sense."
   ]
  },
  {
   "cell_type": "code",
   "execution_count": 20,
   "metadata": {},
   "outputs": [],
   "source": [
    "#Useful functions for both Hypercubes and general Hamming graphs\n",
    "def read_sets(filename):\n",
    "    #Read in the sets of a file\n",
    "    results = []\n",
    "    with open(filename,'r') as f:\n",
    "        for line in f.read().splitlines():\n",
    "            results.append(line.split(','))\n",
    "    return(results)\n",
    "\n",
    "def make_linearEqns(A,z):\n",
    "    #Takes matrix A and variable list z and converts it into a list of linear equations\n",
    "    z = Matrix(z)\n",
    "    A = Matrix(A)\n",
    "    A = A.rref()\n",
    "    A = A[0]\n",
    "    lin_fcns = A*z\n",
    "    return(list(lin_fcns))"
   ]
  },
  {
   "cell_type": "code",
   "execution_count": 13,
   "metadata": {},
   "outputs": [],
   "source": [
    "#Hypercube functions\n",
    "def apply_automorphism(R):\n",
    "    #Applies automorphism so that r1 = 0^k (Not useful for non-hypercubes)\n",
    "    position = [i for i,r in enumerate(R[0]) if r == '0']\n",
    "    R_new = [r for r in R]\n",
    "    for j,r in enumerate(R_new):\n",
    "        temp = list(r)\n",
    "        for i in position:\n",
    "            if temp[i] == '1':\n",
    "                temp[i] = '0'\n",
    "            else:\n",
    "                temp[i] = '1'\n",
    "        R_new[j] = ''.join(temp)\n",
    "    return(R_new)\n",
    "\n",
    "def hypercube_matrix(R):\n",
    "    A = np.zeros((len(R),len(R[0])))\n",
    "    for i,r in enumerate(R):\n",
    "        for j,letter in enumerate(r):\n",
    "            A[i,j] = int(letter)\n",
    "    return(A)\n",
    "\n",
    "def hypercube_polys(k):\n",
    "    variable_string = ''\n",
    "    for i in range(1,k+1):\n",
    "        variable_string = variable_string +'z{},'.format(i)\n",
    "    variable_string = variable_string[:-1]\n",
    "    z = var(variable_string)\n",
    "    P = []\n",
    "    f = 0\n",
    "    for i in range(k):\n",
    "        P.append(z[i]*(z[i]-1)*(z[i]+1))\n",
    "        f = f + z[i]**2\n",
    "    fs = []\n",
    "    for i in range(floor(k/2)):\n",
    "        fi = f-2*(i+1)\n",
    "        fs.append(fi)\n",
    "    return(P,fs,z)\n",
    "\n",
    "def check_hcube_resolving(R,k):\n",
    "    #Convert R so that r1 = 1^k\n",
    "    R = apply_automorphism(R)\n",
    "    #Create matrix A from automorphized R\n",
    "    A = hypercube_matrix(R)\n",
    "    #Get polynomial functions and variables for H_k,2\n",
    "    P,fs,z = hypercube_polys(k)\n",
    "    #Get linear functions from A matrix\n",
    "    lin_fcns = make_linearEqns(A,z)\n",
    "    #Get Grobner basis of P and linear functions\n",
    "    G = groebner(P+lin_fcns,order = 'lex')\n",
    "    for i,fi in enumerate(fs):\n",
    "        #Compute Grobner basis of G+fi\n",
    "        Gi = groebner(list(G)+[fi],order = 'lex')\n",
    "        #Solutions iff Gi neq 1, if Gi neq 1 then R is not resolving\n",
    "        if not (list(Gi) == [1]):\n",
    "            return False\n",
    "    return True\n",
    "    "
   ]
  },
  {
   "cell_type": "code",
   "execution_count": 14,
   "metadata": {},
   "outputs": [],
   "source": [
    "def OneHot(R,k,a,alphabet = None):\n",
    "    #Converts list of strings to list of one-hot encodings\n",
    "    if alphabet == None:\n",
    "        temp = [str(i) for i in range(a)]\n",
    "        alphabet = ''.join(temp)\n",
    "    encodings = []\n",
    "    for r in R:\n",
    "        encoding = np.zeros((a,k))\n",
    "        for i in range(k):\n",
    "            for j,letter in enumerate(alphabet):\n",
    "                if r[i] == letter:\n",
    "                    encoding[j,i] = 1\n",
    "        encodings.append(encoding)\n",
    "    return(encodings)\n",
    "\n",
    "def create_polys(k,a):\n",
    "    #Setup polynomial system for H_k,a without knowing what R is\n",
    "    variable_string = 'z1'\n",
    "    for i in range(1,k*a):\n",
    "        variable_string = variable_string +',z{} '.format(i+1)\n",
    "    z = var(variable_string)\n",
    "    P = []\n",
    "    f = 0\n",
    "    for i in range(k):\n",
    "        func = 0\n",
    "        #func2 = 0\n",
    "        for j in range(0,a):\n",
    "            P.append(z[i*a+j]*(z[i*a+j]-1)*(z[i*a+j]+1)) #1st condition zi*(zi-1)*(zi+1)\n",
    "            func= func + z[i*a+j]**2\n",
    "            #func2 = func2 + z[i*a+j]\n",
    "            f = f + z[i*a+j]**2 #f so that sum(zi**2) neq 0\n",
    "        func = (2-func)*(func)\n",
    "        P.append(func)\n",
    "        #P.append(func2)\n",
    "    \n",
    "    fs = [f-2*i for i in range(1,k+1)]\n",
    "    return(P,fs,z)\n",
    "    \n",
    "def make_matrix(R,k,a):\n",
    "    #Converts list of one-hot encodings to the linear system\n",
    "    temp = [r.flatten('F') for r in R]\n",
    "    for i in range(k):\n",
    "        added_row = np.zeros(k*a)\n",
    "        for j in range(a):\n",
    "            #This is the 2nd condition where sum(zi)_i*a+1^i*a+a = 0\n",
    "            added_row[i*a+j] = 1\n",
    "        temp.append(list(added_row))\n",
    "    return(np.array(temp,dtype = int))\n",
    "\n",
    "def check_resolving(R,k,a,alphabet = None):\n",
    "    (P,fs,z) = create_polys(k,a)\n",
    "    OH_encodedR = OneHot(R,k,a)\n",
    "    A = make_matrix(OH_encodedR,k,a)\n",
    "    lin_fcns = make_linearEqns(A,z)\n",
    "    G = groebner(P+lin_fcns,order = 'lex')\n",
    "    for fi in fs:\n",
    "        Gi = groebner(list(G)+[fi],order = 'lex')\n",
    "        if not (list(Gi) == [1]):\n",
    "            return False\n",
    "    return True\n"
   ]
  },
  {
   "cell_type": "code",
   "execution_count": 21,
   "metadata": {},
   "outputs": [],
   "source": [
    "sets = read_sets('Test_Sets/H_3_5.txt')\n",
    "R = sets[0]\n",
    "OH_R = OneHot(R,5,3)\n",
    "A = make_matrix(OH_R,5,3)\n",
    "P,fs,z = create_polys(5,3)"
   ]
  },
  {
   "cell_type": "code",
   "execution_count": 25,
   "metadata": {},
   "outputs": [
    {
     "name": "stdout",
     "output_type": "stream",
     "text": [
      "(15, 1)\n"
     ]
    }
   ],
   "source": [
    "tempz = Matrix(z)\n",
    "print(tempz.shape)"
   ]
  },
  {
   "cell_type": "code",
   "execution_count": 29,
   "metadata": {},
   "outputs": [
    {
     "name": "stdout",
     "output_type": "stream",
     "text": [
      "Matrix([[1, 0, 0, 0, 0, 0, 0, 0, 0, 0, -1/3, 0, 0, 7/9, 14/9], [0, 1, 0, 0, 0, 0, 0, 0, 0, 0, -1/3, 0, 0, -2/9, -4/9], [0, 0, 1, 0, 0, 0, 0, 0, 0, 0, 2/3, 0, 0, -5/9, -10/9], [0, 0, 0, 1, 0, 0, 0, 0, 1, 0, 4/3, 0, 0, 11/9, 4/9], [0, 0, 0, 0, 1, 0, 0, 0, -1/2, 0, -7/6, 0, 0, -17/18, -8/9], [0, 0, 0, 0, 0, 1, 0, 0, -1/2, 0, -1/6, 0, 0, -5/18, 4/9], [0, 0, 0, 0, 0, 0, 1, 0, 1/2, 0, -1/2, 0, 0, 1/6, 1/3], [0, 0, 0, 0, 0, 0, 0, 1, 1/2, 0, 1/2, 0, 0, -1/6, -1/3], [0, 0, 0, 0, 0, 0, 0, 0, 0, 1, 1, 0, 0, -2/3, -4/3], [0, 0, 0, 0, 0, 0, 0, 0, 0, 0, 0, 1, 0, 2/3, 4/3], [0, 0, 0, 0, 0, 0, 0, 0, 0, 0, 0, 0, 1, 1, 1]])\n",
      "Matrix([[z1 - z11/3 + 7*z14/9 + 14*z15/9], [-z11/3 - 2*z14/9 - 4*z15/9 + z2], [2*z11/3 - 5*z14/9 - 10*z15/9 + z3], [4*z11/3 + 11*z14/9 + 4*z15/9 + z4 + z9], [-7*z11/6 - 17*z14/18 - 8*z15/9 + z5 - z9/2], [-z11/6 - 5*z14/18 + 4*z15/9 + z6 - z9/2], [-z11/2 + z14/6 + z15/3 + z7 + z9/2], [z11/2 - z14/6 - z15/3 + z8 + z9/2], [z10 + z11 - 2*z14/3 - 4*z15/3], [z12 + 2*z14/3 + 4*z15/3], [z13 + z14 + z15]])\n"
     ]
    }
   ],
   "source": [
    "M = Matrix(A)\n",
    "M = M.rref()\n",
    "M = M[0]\n",
    "print(M)\n",
    "lin_fcns = M*tempz\n",
    "print(lin_fcns)\n",
    "lin_fcns = list(lin_fcns)"
   ]
  },
  {
   "cell_type": "code",
   "execution_count": 15,
   "metadata": {},
   "outputs": [
    {
     "ename": "ValueError",
     "evalue": "setting an array element with a sequence.",
     "output_type": "error",
     "traceback": [
      "\u001b[1;31m---------------------------------------------------------------------------\u001b[0m",
      "\u001b[1;31mValueError\u001b[0m                                Traceback (most recent call last)",
      "\u001b[1;32m<ipython-input-15-284239d594f9>\u001b[0m in \u001b[0;36m<module>\u001b[1;34m\u001b[0m\n\u001b[0;32m      3\u001b[0m \u001b[0mis_resolving\u001b[0m \u001b[1;33m=\u001b[0m \u001b[1;33m[\u001b[0m\u001b[1;33m]\u001b[0m\u001b[1;33m\u001b[0m\u001b[1;33m\u001b[0m\u001b[0m\n\u001b[0;32m      4\u001b[0m \u001b[1;32mfor\u001b[0m \u001b[0mi\u001b[0m\u001b[1;33m,\u001b[0m\u001b[0mR\u001b[0m \u001b[1;32min\u001b[0m \u001b[0menumerate\u001b[0m\u001b[1;33m(\u001b[0m\u001b[0msets\u001b[0m\u001b[1;33m)\u001b[0m\u001b[1;33m:\u001b[0m\u001b[1;33m\u001b[0m\u001b[1;33m\u001b[0m\u001b[0m\n\u001b[1;32m----> 5\u001b[1;33m     \u001b[0mresolve\u001b[0m \u001b[1;33m=\u001b[0m \u001b[0mcheck_hcube_resolving\u001b[0m\u001b[1;33m(\u001b[0m\u001b[0mR\u001b[0m\u001b[1;33m,\u001b[0m\u001b[1;36m8\u001b[0m\u001b[1;33m)\u001b[0m\u001b[1;33m\u001b[0m\u001b[1;33m\u001b[0m\u001b[0m\n\u001b[0m\u001b[0;32m      6\u001b[0m     \u001b[0mis_resolving\u001b[0m\u001b[1;33m.\u001b[0m\u001b[0mappend\u001b[0m\u001b[1;33m(\u001b[0m\u001b[0mresolve\u001b[0m\u001b[1;33m)\u001b[0m\u001b[1;33m\u001b[0m\u001b[1;33m\u001b[0m\u001b[0m\n\u001b[0;32m      7\u001b[0m \u001b[1;32mfor\u001b[0m \u001b[0mi\u001b[0m\u001b[1;33m,\u001b[0m\u001b[0mr\u001b[0m \u001b[1;32min\u001b[0m \u001b[0menumerate\u001b[0m\u001b[1;33m(\u001b[0m\u001b[0mis_resolving\u001b[0m\u001b[1;33m)\u001b[0m\u001b[1;33m:\u001b[0m\u001b[1;33m\u001b[0m\u001b[1;33m\u001b[0m\u001b[0m\n",
      "\u001b[1;32m<ipython-input-13-3253b2bfb39e>\u001b[0m in \u001b[0;36mcheck_hcube_resolving\u001b[1;34m(R, k)\u001b[0m\n\u001b[0;32m     46\u001b[0m     \u001b[0mP\u001b[0m\u001b[1;33m,\u001b[0m\u001b[0mfs\u001b[0m\u001b[1;33m,\u001b[0m\u001b[0mz\u001b[0m \u001b[1;33m=\u001b[0m \u001b[0mhypercube_polys\u001b[0m\u001b[1;33m(\u001b[0m\u001b[0mk\u001b[0m\u001b[1;33m)\u001b[0m\u001b[1;33m\u001b[0m\u001b[1;33m\u001b[0m\u001b[0m\n\u001b[0;32m     47\u001b[0m     \u001b[1;31m#Get linear functions from A matrix\u001b[0m\u001b[1;33m\u001b[0m\u001b[1;33m\u001b[0m\u001b[1;33m\u001b[0m\u001b[0m\n\u001b[1;32m---> 48\u001b[1;33m     \u001b[0mlin_fcns\u001b[0m \u001b[1;33m=\u001b[0m \u001b[0mmake_linearEqns\u001b[0m\u001b[1;33m(\u001b[0m\u001b[0mA\u001b[0m\u001b[1;33m,\u001b[0m\u001b[0mz\u001b[0m\u001b[1;33m)\u001b[0m\u001b[1;33m\u001b[0m\u001b[1;33m\u001b[0m\u001b[0m\n\u001b[0m\u001b[0;32m     49\u001b[0m     \u001b[1;31m#Get Grobner basis of P and linear functions\u001b[0m\u001b[1;33m\u001b[0m\u001b[1;33m\u001b[0m\u001b[1;33m\u001b[0m\u001b[0m\n\u001b[0;32m     50\u001b[0m     \u001b[0mG\u001b[0m \u001b[1;33m=\u001b[0m \u001b[0mgroebner\u001b[0m\u001b[1;33m(\u001b[0m\u001b[0mP\u001b[0m\u001b[1;33m+\u001b[0m\u001b[0mlin_fcns\u001b[0m\u001b[1;33m,\u001b[0m\u001b[0morder\u001b[0m \u001b[1;33m=\u001b[0m \u001b[1;34m'lex'\u001b[0m\u001b[1;33m)\u001b[0m\u001b[1;33m\u001b[0m\u001b[1;33m\u001b[0m\u001b[0m\n",
      "\u001b[1;32m<ipython-input-12-904b9b882af7>\u001b[0m in \u001b[0;36mmake_linearEqns\u001b[1;34m(A, z)\u001b[0m\n\u001b[0;32m     13\u001b[0m     \u001b[0mA\u001b[0m \u001b[1;33m=\u001b[0m \u001b[0mMatrix\u001b[0m\u001b[1;33m(\u001b[0m\u001b[0mA\u001b[0m\u001b[1;33m)\u001b[0m\u001b[1;33m\u001b[0m\u001b[1;33m\u001b[0m\u001b[0m\n\u001b[0;32m     14\u001b[0m     \u001b[0mA\u001b[0m \u001b[1;33m=\u001b[0m \u001b[0mA\u001b[0m\u001b[1;33m.\u001b[0m\u001b[0mrref\u001b[0m\u001b[1;33m(\u001b[0m\u001b[1;33m)\u001b[0m\u001b[1;33m\u001b[0m\u001b[1;33m\u001b[0m\u001b[0m\n\u001b[1;32m---> 15\u001b[1;33m     \u001b[0mA\u001b[0m \u001b[1;33m=\u001b[0m \u001b[0mnp\u001b[0m\u001b[1;33m.\u001b[0m\u001b[0marray\u001b[0m\u001b[1;33m(\u001b[0m\u001b[0mA\u001b[0m\u001b[1;33m,\u001b[0m \u001b[0mdtype\u001b[0m \u001b[1;33m=\u001b[0m\u001b[1;34m'int'\u001b[0m\u001b[1;33m)\u001b[0m\u001b[1;33m\u001b[0m\u001b[1;33m\u001b[0m\u001b[0m\n\u001b[0m\u001b[0;32m     16\u001b[0m     \u001b[0mfcn_mat\u001b[0m \u001b[1;33m=\u001b[0m \u001b[0mA\u001b[0m\u001b[1;33m*\u001b[0m\u001b[0mz\u001b[0m\u001b[1;33m\u001b[0m\u001b[1;33m\u001b[0m\u001b[0m\n\u001b[0;32m     17\u001b[0m     \u001b[0mlin_fcns\u001b[0m \u001b[1;33m=\u001b[0m \u001b[1;33m[\u001b[0m\u001b[0mnp\u001b[0m\u001b[1;33m.\u001b[0m\u001b[0msum\u001b[0m\u001b[1;33m(\u001b[0m\u001b[0mrow\u001b[0m\u001b[1;33m)\u001b[0m \u001b[1;32mfor\u001b[0m \u001b[0mrow\u001b[0m \u001b[1;32min\u001b[0m \u001b[0mfcn_mat\u001b[0m\u001b[1;33m]\u001b[0m\u001b[1;33m\u001b[0m\u001b[1;33m\u001b[0m\u001b[0m\n",
      "\u001b[1;31mValueError\u001b[0m: setting an array element with a sequence."
     ]
    }
   ],
   "source": [
    "#Simplified Hypercube approach test\n",
    "sets = read_sets('Test_Sets/H_2_8.txt')\n",
    "is_resolving = []\n",
    "for i,R in enumerate(sets):\n",
    "    resolve = check_hcube_resolving(R,8)\n",
    "    is_resolving.append(resolve)\n",
    "for i,r in enumerate(is_resolving):\n",
    "    if r:\n",
    "        print('Set {} is resolving'.format(i+1))\n",
    "    else:\n",
    "        print('Set {} is not resolving'.format(i+1))"
   ]
  },
  {
   "cell_type": "code",
   "execution_count": 6,
   "metadata": {},
   "outputs": [
    {
     "name": "stdout",
     "output_type": "stream",
     "text": [
      "Set 1 is not resolving\n",
      "Set 2 is not resolving\n",
      "Set 3 is resolving\n",
      "Set 4 is resolving\n",
      "Set 5 is not resolving\n",
      "Set 6 is resolving\n",
      "Set 7 is resolving\n",
      "Set 8 is not resolving\n"
     ]
    }
   ],
   "source": [
    "#Checking if general approach produces same results as above\n",
    "sets = read_sets('Test_Sets/H_2_8.txt')\n",
    "is_resolving = []\n",
    "for i,R in enumerate(sets):\n",
    "    resolve = check_resolving(R,8,2)\n",
    "    is_resolving.append(resolve)\n",
    "for i,r in enumerate(is_resolving):\n",
    "    if r:\n",
    "        print('Set {} is resolving'.format(i+1))\n",
    "    else:\n",
    "        print('Set {} is not resolving'.format(i+1))"
   ]
  },
  {
   "cell_type": "code",
   "execution_count": 7,
   "metadata": {},
   "outputs": [
    {
     "name": "stdout",
     "output_type": "stream",
     "text": [
      "Set 1 is resolving\n",
      "Set 2 is not resolving\n",
      "Set 3 is not resolving\n",
      "Set 4 is resolving\n",
      "Set 5 is resolving\n",
      "Set 6 is resolving\n",
      "Set 7 is not resolving\n",
      "Set 8 is not resolving\n"
     ]
    }
   ],
   "source": [
    "#Simplified Hypercube approach test\n",
    "sets = read_sets('Test_Sets/H_2_12.txt')\n",
    "is_resolving = []\n",
    "for i,R in enumerate(sets):\n",
    "    resolve = check_hcube_resolving(R,12)\n",
    "    is_resolving.append(resolve)\n",
    "for i,r in enumerate(is_resolving):\n",
    "    if r:\n",
    "        print('Set {} is resolving'.format(i+1))\n",
    "    else:\n",
    "        print('Set {} is not resolving'.format(i+1))"
   ]
  },
  {
   "cell_type": "code",
   "execution_count": 8,
   "metadata": {},
   "outputs": [
    {
     "name": "stdout",
     "output_type": "stream",
     "text": [
      "Set 1 is resolving\n",
      "Set 2 is not resolving\n",
      "Set 3 is not resolving\n",
      "Set 4 is resolving\n",
      "Set 5 is resolving\n",
      "Set 6 is resolving\n",
      "Set 7 is not resolving\n",
      "Set 8 is not resolving\n"
     ]
    }
   ],
   "source": [
    "#Checking if general approach produces same results as above\n",
    "sets = read_sets('Test_Sets/H_2_12.txt')\n",
    "is_resolving = []\n",
    "for i,R in enumerate(sets):\n",
    "    k = len(R[0])\n",
    "    resolve = check_resolving(R,k,2)\n",
    "    is_resolving.append(resolve)\n",
    "for i,r in enumerate(is_resolving):\n",
    "    if r:\n",
    "        print('Set {} is resolving'.format(i+1))\n",
    "    else:\n",
    "        print('Set {} is not resolving'.format(i+1))"
   ]
  },
  {
   "cell_type": "code",
   "execution_count": 9,
   "metadata": {},
   "outputs": [
    {
     "name": "stdout",
     "output_type": "stream",
     "text": [
      "Set 1 is resolving\n",
      "Set 2 is resolving\n",
      "Set 3 is resolving\n",
      "Set 4 is not resolving\n",
      "Set 5 is not resolving\n",
      "Set 6 is not resolving\n",
      "Set 7 is resolving\n",
      "Set 8 is not resolving\n"
     ]
    }
   ],
   "source": [
    "sets = read_sets('Test_Sets/H_3_5.txt')\n",
    "is_resolving = []\n",
    "for i,R in enumerate(sets):\n",
    "    resolve = check_resolving(R,5,3)\n",
    "    is_resolving.append(resolve)\n",
    "for i,r in enumerate(is_resolving):\n",
    "    if r:\n",
    "        print('Set {} is resolving'.format(i+1))\n",
    "    else:\n",
    "        print('Set {} is not resolving'.format(i+1))\n",
    "\n",
    "#4,8,5,6 are not resolving\n",
    "#4 and 8 are the ones that aren't working"
   ]
  },
  {
   "cell_type": "code",
   "execution_count": 10,
   "metadata": {},
   "outputs": [
    {
     "name": "stdout",
     "output_type": "stream",
     "text": [
      "Set 1 is resolving\n",
      "Set 2 is not resolving\n",
      "Set 3 is not resolving\n",
      "Set 4 is not resolving\n",
      "Set 5 is resolving\n",
      "Set 6 is resolving\n",
      "Set 7 is resolving\n",
      "Set 8 is not resolving\n"
     ]
    }
   ],
   "source": [
    "sets = read_sets('Test_Sets/H_4_4.txt')\n",
    "is_resolving = []\n",
    "for i,R in enumerate(sets):\n",
    "    resolve = check_resolving(R,4,4)\n",
    "    is_resolving.append(resolve)\n",
    "for i,r in enumerate(is_resolving):\n",
    "    if r:\n",
    "        print('Set {} is resolving'.format(i+1))\n",
    "    else:\n",
    "        print('Set {} is not resolving'.format(i+1))"
   ]
  },
  {
   "cell_type": "code",
   "execution_count": 11,
   "metadata": {},
   "outputs": [
    {
     "name": "stderr",
     "output_type": "stream",
     "text": [
      "ERROR:root:Internal Python error in the inspect module.\n",
      "Below is the traceback from this internal error.\n",
      "\n"
     ]
    },
    {
     "name": "stdout",
     "output_type": "stream",
     "text": [
      "Traceback (most recent call last):\n",
      "  File \"C:\\Users\\llair\\Anaconda3\\lib\\site-packages\\IPython\\core\\interactiveshell.py\", line 3267, in run_code\n",
      "    exec(code_obj, self.user_global_ns, self.user_ns)\n",
      "  File \"<ipython-input-11-6d1ad1a39906>\", line 4, in <module>\n",
      "    resolve = check_resolving(R,5,4)\n",
      "  File \"<ipython-input-4-f1416e11bb5e>\", line 55, in check_resolving\n",
      "    G = groebner(P+lin_fcns,order = 'lex')\n",
      "  File \"C:\\Users\\llair\\Anaconda3\\lib\\site-packages\\sympy\\polys\\polytools.py\", line 6747, in groebner\n",
      "    return GroebnerBasis(F, *gens, **args)\n",
      "  File \"C:\\Users\\llair\\Anaconda3\\lib\\site-packages\\sympy\\polys\\polytools.py\", line 6786, in __new__\n",
      "    G = _groebner(polys, ring, method=opt.method)\n",
      "  File \"C:\\Users\\llair\\Anaconda3\\lib\\site-packages\\sympy\\polys\\groebnertools.py\", line 45, in groebner\n",
      "    G = _groebner(seq, ring)\n",
      "  File \"C:\\Users\\llair\\Anaconda3\\lib\\site-packages\\sympy\\polys\\groebnertools.py\", line 250, in _buchberger\n",
      "    ht = normal(f[ig], G - set([ig]))\n",
      "  File \"C:\\Users\\llair\\Anaconda3\\lib\\site-packages\\sympy\\polys\\groebnertools.py\", line 104, in normal\n",
      "    h = g.rem([ f[j] for j in J ])\n",
      "  File \"C:\\Users\\llair\\Anaconda3\\lib\\site-packages\\sympy\\polys\\rings.py\", line 1493, in rem\n",
      "    ltm = f.leading_expv()\n",
      "  File \"C:\\Users\\llair\\Anaconda3\\lib\\site-packages\\sympy\\polys\\rings.py\", line 1675, in leading_expv\n",
      "    return self.ring.leading_expv(self)\n",
      "KeyboardInterrupt\n",
      "\n",
      "During handling of the above exception, another exception occurred:\n",
      "\n",
      "Traceback (most recent call last):\n",
      "  File \"C:\\Users\\llair\\Anaconda3\\lib\\site-packages\\IPython\\core\\interactiveshell.py\", line 2018, in showtraceback\n",
      "    stb = value._render_traceback_()\n",
      "AttributeError: 'KeyboardInterrupt' object has no attribute '_render_traceback_'\n",
      "\n",
      "During handling of the above exception, another exception occurred:\n",
      "\n",
      "Traceback (most recent call last):\n",
      "  File \"C:\\Users\\llair\\Anaconda3\\lib\\genericpath.py\", line 19, in exists\n",
      "    os.stat(path)\n",
      "OSError: [WinError 123] The filename, directory name, or volume label syntax is incorrect: '<ipython-input-11-6d1ad1a39906>'\n",
      "\n",
      "During handling of the above exception, another exception occurred:\n",
      "\n",
      "Traceback (most recent call last):\n",
      "  File \"C:\\Users\\llair\\Anaconda3\\lib\\site-packages\\IPython\\core\\ultratb.py\", line 1095, in get_records\n",
      "    return _fixed_getinnerframes(etb, number_of_lines_of_context, tb_offset)\n",
      "  File \"C:\\Users\\llair\\Anaconda3\\lib\\site-packages\\IPython\\core\\ultratb.py\", line 313, in wrapped\n",
      "    return f(*args, **kwargs)\n",
      "  File \"C:\\Users\\llair\\Anaconda3\\lib\\site-packages\\IPython\\core\\ultratb.py\", line 347, in _fixed_getinnerframes\n",
      "    records = fix_frame_records_filenames(inspect.getinnerframes(etb, context))\n",
      "  File \"C:\\Users\\llair\\Anaconda3\\lib\\inspect.py\", line 1500, in getinnerframes\n",
      "    frameinfo = (tb.tb_frame,) + getframeinfo(tb, context)\n",
      "  File \"C:\\Users\\llair\\Anaconda3\\lib\\inspect.py\", line 1458, in getframeinfo\n",
      "    filename = getsourcefile(frame) or getfile(frame)\n",
      "  File \"C:\\Users\\llair\\Anaconda3\\lib\\inspect.py\", line 693, in getsourcefile\n",
      "    if os.path.exists(filename):\n",
      "  File \"C:\\Users\\llair\\Anaconda3\\lib\\genericpath.py\", line 19, in exists\n",
      "    os.stat(path)\n",
      "KeyboardInterrupt\n"
     ]
    },
    {
     "ename": "KeyboardInterrupt",
     "evalue": "",
     "output_type": "error",
     "traceback": [
      "\u001b[1;31m---------------------------------------------------------------------------\u001b[0m"
     ]
    }
   ],
   "source": [
    "sets = read_sets('Test_Sets/H_4_5.txt')\n",
    "is_resolving = []\n",
    "for i,R in enumerate(sets):\n",
    "    resolve = check_resolving(R,5,4)\n",
    "    is_resolving.append(resolve)\n",
    "for i,r in enumerate(is_resolving):\n",
    "    if r:\n",
    "        print('Set {} is resolving'.format(i+1))\n",
    "    else:\n",
    "        print('Set {} is not resolving'.format(i+1))\n",
    "\n",
    "#8,4,5,1\n",
    "#This misses Set 1 as not resolving"
   ]
  },
  {
   "cell_type": "code",
   "execution_count": null,
   "metadata": {},
   "outputs": [],
   "source": [
    "sets = read_sets('Test_Sets/H_4_6.txt')\n",
    "is_resolving = []\n",
    "for i,R in enumerate(sets):\n",
    "    resolve = check_resolving(R,6,4)\n",
    "    is_resolving.append(resolve)\n",
    "for i,r in enumerate(is_resolving):\n",
    "    if r:\n",
    "        print('Set {} is resolving'.format(i+1))\n",
    "    else:\n",
    "        print('Set {} is not resolving'.format(i+1))\n",
    "\n"
   ]
  },
  {
   "cell_type": "code",
   "execution_count": null,
   "metadata": {},
   "outputs": [],
   "source": []
  },
  {
   "cell_type": "code",
   "execution_count": null,
   "metadata": {},
   "outputs": [],
   "source": []
  }
 ],
 "metadata": {
  "kernelspec": {
   "display_name": "Python 3",
   "language": "python",
   "name": "python3"
  },
  "language_info": {
   "codemirror_mode": {
    "name": "ipython",
    "version": 3
   },
   "file_extension": ".py",
   "mimetype": "text/x-python",
   "name": "python",
   "nbconvert_exporter": "python",
   "pygments_lexer": "ipython3",
   "version": "3.7.1"
  }
 },
 "nbformat": 4,
 "nbformat_minor": 2
}
