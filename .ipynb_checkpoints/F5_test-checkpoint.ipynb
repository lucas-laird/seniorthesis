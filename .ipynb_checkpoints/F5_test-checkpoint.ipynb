{
 "cells": [
  {
   "cell_type": "code",
   "execution_count": 22,
   "metadata": {},
   "outputs": [],
   "source": [
    "import numpy as np\n",
    "from sympy import *\n",
    "from sympy.polys.monomials import monomial_divides, term_div"
   ]
  },
  {
   "cell_type": "code",
   "execution_count": 89,
   "metadata": {},
   "outputs": [],
   "source": [
    "#Signature is stored as tuple (m,i) where m is the monomial and i is the index\n",
    "#Poly is stored as a polynomial ie. x**a + x**b +...\n",
    "class LabeledPolynomial:\n",
    "    def __init__(self, sign, poly,num, order = 'lex'):\n",
    "        self.poly = poly\n",
    "        self.sign = sign\n",
    "        self.order = order\n",
    "        self.num = num\n",
    "    \n",
    "def sig_cmp(f,g,order = 'lex'):\n",
    "    if (f[1] > g[1]):\n",
    "        return -1\n",
    "    if (f[1] == g[1]):\n",
    "        temp = f[0]+g[0]\n",
    "        if not LM(temp,order = order) == f[0]:\n",
    "            return -1\n",
    "    return 1\n",
    "\n",
    "def lbp_sub(F,G):\n",
    "    if(sig_cmp(F.sign,G.sign,order = F.order)) < 0:\n",
    "        sign = G.sign\n",
    "        num = G.num\n",
    "    else:\n",
    "        sign = F.sign\n",
    "        num = F.num\n",
    "    poly = F.poly-G.poly\n",
    "    return(LabeledPolynomial(sign,poly,num,F.order))\n",
    "    \n",
    "def lbp_mult(F,m):\n",
    "    sign = (F.sign[0]*m,F.sign[1])\n",
    "    poly = expand(F.poly*m)\n",
    "    num = F.num\n",
    "    return(LabeledPolynomial(sign,poly,num,F.order))\n",
    "\n",
    "\n",
    "def CP(F,G):\n",
    "    LM1 = LM(F.poly,order = F.order)\n",
    "    LT1 = LT(F.poly,order = F.order)\n",
    "    LM2 = LM(G.poly,order = G.order)\n",
    "    LT2 = LT(G.poly,order = G.order)\n",
    "    numerator = lcm(LM1,LM2)\n",
    "    u = simplify(numerator/LT1)\n",
    "    v = simplify(numerator/LT2)\n",
    "    return((u,F,v,G))\n",
    "    \n",
    "def spoly(pair):\n",
    "    lbp1 = lbp_mult(pair[1],pair[0])\n",
    "    lbp2 = lbp_mult(pair[3],pair[2])\n",
    "    return(lbp_sub(lbp1,lbp2))\n",
    "\n",
    "def divisible_or_rewritable(F,B):\n",
    "    for G in B:\n",
    "        if G.sign[1] > F.sign[1]:\n",
    "            lpp = LM(G.poly,order = G.order)\n",
    "            if rem(lpp,F.sign[0]):\n",
    "                return True\n",
    "        if G.sign[1] == F.sign[1]:\n",
    "            if F.num < G.num:\n",
    "                if rem(G.sign[0],F.sign[0]):\n",
    "                    return True\n",
    "    return False\n",
    "\n",
    "def f5_reduce(F,B):\n",
    "    if not F.poly == 0:\n",
    "        LM1 = LM(F.poly,order = F.order)\n",
    "        is_reducible = False\n",
    "        for G in B:\n",
    "            LM2 = LM(G.poly,order = G.order)\n",
    "            if rem(LM2,LM1) == 0:\n",
    "                LT1 = LT(F.poly,order = F.order)\n",
    "                LT2 = LT(G.poly,order = G.order)\n",
    "                v = simplify(LT1/LT2)\n",
    "                vG = lbp_mult(G,v)\n",
    "                if sig_cmp(vG.sign,F.sign) < 0:\n",
    "                    if not divisible_or_rewritable(vG,B):\n",
    "                        is_reducible = True\n",
    "                        break\n",
    "        if is_reducible:\n",
    "            return(f5_reduce(lbp_sub(F,vG),B))\n",
    "        else:\n",
    "            return(F)\n",
    "    else:\n",
    "        return(LabeledPolynomial(1,0,0))\n",
    "\n",
    "def f5_grobner(P,order = 'lex'):\n",
    "    B = []\n",
    "    for i,p in enumerate(P):\n",
    "        F = LabeledPolynomial((1,i),p,i,order = order)\n",
    "        B.append(F)\n",
    "    n = len(B)\n",
    "    pairs = []\n",
    "    for i in range(n-1):\n",
    "        for j in range(i+1,n):\n",
    "            pairs.append(CP(B[i],B[j]))\n",
    "    while len(pairs) > 0:\n",
    "        pair = pairs.pop()\n",
    "        uF = lbp_mult(pair[1],pair[0])\n",
    "        if not divisible_or_rewritable(uF,B):\n",
    "            vG = lbp_mult(pair[3],pair[2])\n",
    "            if not divisible_or_rewritable(vG,B):\n",
    "                S = spoly(pair)\n",
    "                r = f5_reduce(S,B)\n",
    "                if not r.poly == 0:\n",
    "                    for b in B:\n",
    "                        pairs.append(CP(r,b))\n",
    "                    B.append(r)\n",
    "    return([b.poly for b in B])\n",
    "            "
   ]
  },
  {
   "cell_type": "code",
   "execution_count": 195,
   "metadata": {},
   "outputs": [],
   "source": [
    "def spoly_orig(f1,f2,order = 'lex'):\n",
    "    LM1 = LM(f1,order = order)\n",
    "    LT1 = LT(f1,order = order)\n",
    "    LM2 = LM(f2,order = order)\n",
    "    LT2 = LT(f2,order = order)\n",
    "    numerator = lcm(LM1,LM2)\n",
    "    S = numerator/LT1*f1 - numerator/LT2 * f2\n",
    "    return(expand(S))\n",
    "\n",
    "def minimize_GBasis(G, order = 'lex'):\n",
    "    for i,g in enumerate(G):\n",
    "        G[i] = g/LC(g,order = order)\n",
    "    n = len(G)\n",
    "    G2 = []\n",
    "    for g in G:\n",
    "        H = [f for f in G]\n",
    "        H.remove(g)\n",
    "        H = [LT(f,order = order) for f in H]\n",
    "        LTg = LT(g,order = order)\n",
    "        q,r = reduced(LTg, H, order = order)\n",
    "        if not r == 0:\n",
    "            G2.append(g)\n",
    "    return(G2)\n",
    "\n",
    "def reduce_GBasis(G, order = 'lex'):\n",
    "    G = minimize_GBasis(G, order = order)\n",
    "    for i,g in enumerate(G):\n",
    "        H = [f for f in G if not f == g]\n",
    "        q,r = reduced(g,H, order = order)\n",
    "        G[i] = r\n",
    "    return(G)\n",
    "\n",
    "def red_groebner(G,order = 'lex'):\n",
    "    F = G\n",
    "    H = []\n",
    "    while F:\n",
    "        f0 = F.pop()\n",
    "        r = [monomial_divides(f.LM(),f0.LM()) for f in F+H]\n",
    "        add = True\n",
    "        for t in r:\n",
    "            if t:\n",
    "                add = False\n",
    "                break\n",
    "        if add:\n",
    "            H.append(f0)\n",
    "    return(reduction(H,order = order))\n",
    "\n",
    "def reduction(P,order = 'lex'):\n",
    "    Q = []\n",
    "    for i,p in enumerate(P):\n",
    "        q,h = reduced(p,P[:i]+P[i+1:],order = order)\n",
    "        if h:\n",
    "            Q.append(h)\n",
    "    return [p.monic() for p in Q]\n",
    "\n",
    "def GrobAdd_Buchberger(G,f, order = 'lex'):\n",
    "    Q = [f]\n",
    "    while len(Q) > 0:\n",
    "        g = Q.pop(0)\n",
    "        for g2 in G: \n",
    "            S = spoly(g, g2, order = order)\n",
    "            q,r = reduced(S,G,order = order)\n",
    "            if not r == 0: \n",
    "                Q.append(r)\n",
    "        G.append(f)\n",
    "    G = reduce_GBasis(G,order = order)\n",
    "    return(G)"
   ]
  },
  {
   "cell_type": "code",
   "execution_count": 202,
   "metadata": {},
   "outputs": [
    {
     "name": "stdout",
     "output_type": "stream",
     "text": [
      "[x**2 - y, x*y - x, y**2 - y]\n"
     ]
    }
   ],
   "source": [
    "x,y = var('x,y')\n",
    "F = [x*y-x, x**2-y]\n",
    "G = groebner(F,order = 'lex',domain = 'QQ')\n",
    "print(list(G))"
   ]
  },
  {
   "cell_type": "code",
   "execution_count": 203,
   "metadata": {},
   "outputs": [
    {
     "name": "stdout",
     "output_type": "stream",
     "text": [
      "[x*y - x, x**2 - y, y**2 - y]\n"
     ]
    }
   ],
   "source": [
    "B = f5_grobner(F,order = 'lex')\n",
    "print(B)"
   ]
  },
  {
   "cell_type": "code",
   "execution_count": 204,
   "metadata": {},
   "outputs": [
    {
     "name": "stdout",
     "output_type": "stream",
     "text": [
      "[x**2 - 2*x, y**2 - 4*y + 3]\n"
     ]
    }
   ],
   "source": [
    "x,y = var('x,y')\n",
    "F = [2*x**2-4*x+y**2-4*y+3, x**2-2*x+3*y**2-12*y+9]\n",
    "G = groebner(F,order = 'lex',domain = 'QQ')\n",
    "print(list(G))"
   ]
  },
  {
   "cell_type": "code",
   "execution_count": 199,
   "metadata": {},
   "outputs": [
    {
     "name": "stdout",
     "output_type": "stream",
     "text": [
      "[2*x**2 - 4*x + y**2 - 4*y + 3, x**2 - 2*x + 3*y**2 - 12*y + 9, -5*y**2/2 + 10*y - 15/2, -4*x**2*y + 3*x**2 + 2*x*y**2 - 3*y**4 + 12*y**3 - 9*y**2, -x*y**2/2 + 2*x*y - 3*x/2 + 3*y**4/4 - 6*y**3 + 117*y**2/8 - 21*y/2 + 9/8, -3*y**4/2 + 12*y**3 - 117*y**2/4 + 21*y - 9/4, -3*x*y**4/2 + 12*x*y**3 - 117*x*y**2/4 + 21*x*y - 9*x/4]\n"
     ]
    }
   ],
   "source": [
    "B = f5_grobner(F,order = 'lex')\n",
    "print(B)"
   ]
  },
  {
   "cell_type": "code",
   "execution_count": 200,
   "metadata": {},
   "outputs": [
    {
     "data": {
      "text/plain": [
       "[Poly(x*y**2 - 4*x*y + 3*x - 3/2*y**4 + 12*y**3 - 117/4*y**2 + 21*y - 9/4, x, y, domain='QQ'),\n",
       " Poly(x**2 - 2*x + 1/2*y**2 - 2*y + 3/2, x, y, domain='QQ')]"
      ]
     },
     "execution_count": 200,
     "metadata": {},
     "output_type": "execute_result"
    }
   ],
   "source": [
    "B = [Poly(b) for b in B]\n",
    "red_groebner(B,order = 'lex')"
   ]
  },
  {
   "cell_type": "code",
   "execution_count": 201,
   "metadata": {},
   "outputs": [
    {
     "name": "stdout",
     "output_type": "stream",
     "text": [
      "[]\n"
     ]
    }
   ],
   "source": [
    "print(B)"
   ]
  },
  {
   "cell_type": "code",
   "execution_count": null,
   "metadata": {
    "collapsed": true
   },
   "outputs": [],
   "source": []
  }
 ],
 "metadata": {
  "kernelspec": {
   "display_name": "Python 3",
   "language": "python",
   "name": "python3"
  },
  "language_info": {
   "codemirror_mode": {
    "name": "ipython",
    "version": 3
   },
   "file_extension": ".py",
   "mimetype": "text/x-python",
   "name": "python",
   "nbconvert_exporter": "python",
   "pygments_lexer": "ipython3",
   "version": "3.6.3"
  }
 },
 "nbformat": 4,
 "nbformat_minor": 2
}
