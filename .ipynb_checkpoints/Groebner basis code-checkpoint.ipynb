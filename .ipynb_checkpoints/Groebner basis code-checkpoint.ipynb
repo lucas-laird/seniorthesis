{
 "cells": [
  {
   "cell_type": "code",
   "execution_count": 1,
   "metadata": {
    "collapsed": true
   },
   "outputs": [],
   "source": [
    "import numpy as np\n",
    "from sympy import *"
   ]
  },
  {
   "cell_type": "code",
   "execution_count": null,
   "metadata": {
    "collapsed": true
   },
   "outputs": [],
   "source": [
    "z1, z2, z3, z4, z5 = var('z1 z2 z3 z4 z5')\n",
    "F = [z1*(z1-1)*(z1+1), z2*(z2-1)*(z2+1), z3*(z3-1)*(z3+1), z4*(z4-1)*(z4+1), z5*(z5-1)*(z5+1),\n",
    "     z1+z2+z3+z4+z5, z1+z2+z3, z1+z2+z4, z1+z3+z5]\n",
    "G = groebner(F, z1,z2,z3,z4,z5)\n",
    "print(G)"
   ]
  },
  {
   "cell_type": "code",
   "execution_count": 30,
   "metadata": {},
   "outputs": [
    {
     "name": "stdout",
     "output_type": "stream",
     "text": [
      "(z1**3*z3 + z1**2*z2*z3**4 + 4*z2**2)/(z1**4*z3 + 5*z2**3)\n"
     ]
    }
   ],
   "source": [
    "variables = var(['z1','z2','z3'])\n",
    "f1 =  poly(z1**3*z3 + 4*z2**2 + z1**2*z2*z3**4,variables)\n",
    "f2 = poly(z1**4*z3 + 5*z2**3,variables)\n",
    "LM1 = LM(f1,order = 'lex')\n",
    "LM2 = LM(f2,order = 'lex')\n",
    "numerator = lcm(LM1,LM2)\n"
   ]
  },
  {
   "cell_type": "code",
   "execution_count": 32,
   "metadata": {},
   "outputs": [
    {
     "name": "stdout",
     "output_type": "stream",
     "text": [
      "True\n"
     ]
    }
   ],
   "source": [
    "v = var(('x','y'))\n",
    "f1 = x**2*y**2\n",
    "f2 = x**2*y**2\n",
    "r = rem(f1,f2)\n",
    "print(r == 0)"
   ]
  },
  {
   "cell_type": "code",
   "execution_count": 19,
   "metadata": {
    "collapsed": true
   },
   "outputs": [],
   "source": [
    "def spair(f,G):\n",
    "    S = []\n",
    "    f = poly(f)\n",
    "    for g in G:\n",
    "        g = poly(g)\n",
    "        S.append(spoly(f,g))\n",
    "    return(S)\n",
    "\n",
    "def modulo(S,G):\n",
    "    R = []\n",
    "    for s in S:\n",
    "        q,r = reduced(s,G)\n",
    "        if not (r == 0):\n",
    "            R.append(r)\n",
    "    return(R)\n",
    "\n",
    "def Add_F(f,G):\n",
    "    Q = [f]\n",
    "    while len(Q) > 0:\n",
    "        f = Q.pop()\n",
    "        S = spair(f,G)\n",
    "        R = modulo(S,G)\n",
    "        for r in R:\n",
    "            G.add(r)\n",
    "            Q.append(r)\n",
    "\n",
    "def minimize(G, order = 'lex', verbose = False):\n",
    "    n = len(G)\n",
    "    G2 = []\n",
    "    for i in range(n):\n",
    "        add = True\n",
    "        #Set add to true\n",
    "        for j in range(i+1,n):\n",
    "            #Minimal Groebner basis where the LM(gi) isn't a multiple of any LM(gj), i != j\n",
    "            LT1 = LM(G[i], order = order)\n",
    "            LT2 = LM(G[j], order = order)\n",
    "            r = rem(LT1,LT2)\n",
    "            if (r == 0):\n",
    "                #If LM(gi) is a multiple of some LM(gj), don't add\n",
    "                if verbose:\n",
    "                    print(\"g_{}, LT = {} reduced by g_{}: LT = {}\".format(i+1,LT1,j+1,LT2))\n",
    "                    print(\"Remainder = {}\".format(r))\n",
    "                add = False\n",
    "                break\n",
    "        if add:\n",
    "            #Add gi but make it monic( coefficient of LT(gi) = 1)\n",
    "            if verbose:\n",
    "                print(\"Adding {}\".format(G[i]/LC(G[i], order = order)))\n",
    "            G2.append(G[i]/LC(G[i], order = order))\n",
    "    return(G2)\n",
    "\n",
    "\n",
    "def Reduce(G, order = 'lex', verbose = False):\n",
    "    #Start with minimal G\n",
    "    G = minimize(G, order = order, verbose = verbose)\n",
    "    if verbose:\n",
    "        print('Reducing G: {}'.format(G))\n",
    "    n = len(G)\n",
    "    for i,g in enumerate(G):\n",
    "        H = [h for h in G]\n",
    "        H.remove(g)\n",
    "        q,r = reduced(g,H, order = order)\n",
    "        G[i] = r\n",
    "    return(G)\n",
    "    "
   ]
  },
  {
   "cell_type": "code",
   "execution_count": 23,
   "metadata": {
    "collapsed": true
   },
   "outputs": [],
   "source": [
    "x,y = var(('x,y'))\n",
    "G = [x**3-2*x*y, x**2*y-2*y**2+x, x**2, x*y, y**2-(1/2)*x]"
   ]
  },
  {
   "cell_type": "code",
   "execution_count": 2,
   "metadata": {},
   "outputs": [],
   "source": [
    "def spoly(f1,f2,order = 'lex'):\n",
    "    LM1 = LM(f1,order = order)\n",
    "    LT1 = LT(f1,order = order)\n",
    "    LM2 = LM(f2,order = order)\n",
    "    LT2 = LT(f2,order = order)\n",
    "    numerator = lcm(LM1,LM2)\n",
    "    S = numerator/LT1*f1 + numerator/LT2 * f2\n",
    "    return(simplify(S))"
   ]
  },
  {
   "cell_type": "code",
   "execution_count": 4,
   "metadata": {},
   "outputs": [
    {
     "ename": "NameError",
     "evalue": "name 'LCM' is not defined",
     "output_type": "error",
     "traceback": [
      "\u001b[1;31m---------------------------------------------------------------------------\u001b[0m",
      "\u001b[1;31mNameError\u001b[0m                                 Traceback (most recent call last)",
      "\u001b[1;32m<ipython-input-4-947d46920ec8>\u001b[0m in \u001b[0;36m<module>\u001b[1;34m()\u001b[0m\n\u001b[0;32m      2\u001b[0m \u001b[0mf1\u001b[0m \u001b[1;33m=\u001b[0m \u001b[1;36m3\u001b[0m\u001b[1;33m*\u001b[0m\u001b[1;33m(\u001b[0m\u001b[0mx\u001b[0m\u001b[1;33m**\u001b[0m\u001b[1;36m3\u001b[0m\u001b[1;33m)\u001b[0m\u001b[1;33m*\u001b[0m\u001b[0my\u001b[0m \u001b[1;33m+\u001b[0m \u001b[1;36m2\u001b[0m\u001b[1;33m*\u001b[0m\u001b[0mx\u001b[0m\u001b[1;33m*\u001b[0m\u001b[0my\u001b[0m \u001b[1;33m-\u001b[0m \u001b[0my\u001b[0m\u001b[1;33m**\u001b[0m\u001b[1;36m2\u001b[0m\u001b[1;33m\u001b[0m\u001b[0m\n\u001b[0;32m      3\u001b[0m \u001b[0mf2\u001b[0m \u001b[1;33m=\u001b[0m \u001b[1;36m2\u001b[0m\u001b[1;33m*\u001b[0m\u001b[0mx\u001b[0m\u001b[1;33m*\u001b[0m\u001b[1;33m(\u001b[0m\u001b[0my\u001b[0m\u001b[1;33m**\u001b[0m\u001b[1;36m2\u001b[0m\u001b[1;33m)\u001b[0m\u001b[1;33m-\u001b[0m\u001b[1;36m5\u001b[0m\u001b[1;33m*\u001b[0m\u001b[0my\u001b[0m\u001b[1;33m**\u001b[0m\u001b[1;36m3\u001b[0m\u001b[1;33m\u001b[0m\u001b[0m\n\u001b[1;32m----> 4\u001b[1;33m \u001b[0mS\u001b[0m \u001b[1;33m=\u001b[0m \u001b[0mspoly\u001b[0m\u001b[1;33m(\u001b[0m\u001b[0mf1\u001b[0m\u001b[1;33m,\u001b[0m\u001b[0mf2\u001b[0m\u001b[1;33m)\u001b[0m\u001b[1;33m\u001b[0m\u001b[0m\n\u001b[0m",
      "\u001b[1;32m<ipython-input-2-696d354e83c3>\u001b[0m in \u001b[0;36mspoly\u001b[1;34m(f1, f2, order)\u001b[0m\n\u001b[0;32m      4\u001b[0m     \u001b[0mLM2\u001b[0m \u001b[1;33m=\u001b[0m \u001b[0mLM\u001b[0m\u001b[1;33m(\u001b[0m\u001b[0mf2\u001b[0m\u001b[1;33m,\u001b[0m\u001b[0morder\u001b[0m \u001b[1;33m=\u001b[0m \u001b[0morder\u001b[0m\u001b[1;33m)\u001b[0m\u001b[1;33m\u001b[0m\u001b[0m\n\u001b[0;32m      5\u001b[0m     \u001b[0mLT2\u001b[0m \u001b[1;33m=\u001b[0m \u001b[0mLT\u001b[0m\u001b[1;33m(\u001b[0m\u001b[0mf2\u001b[0m\u001b[1;33m,\u001b[0m\u001b[0morder\u001b[0m \u001b[1;33m=\u001b[0m \u001b[0morder\u001b[0m\u001b[1;33m)\u001b[0m\u001b[1;33m\u001b[0m\u001b[0m\n\u001b[1;32m----> 6\u001b[1;33m     \u001b[0mnumerator\u001b[0m \u001b[1;33m=\u001b[0m \u001b[0mLCM\u001b[0m\u001b[1;33m(\u001b[0m\u001b[0mLM1\u001b[0m\u001b[1;33m,\u001b[0m\u001b[0mLM2\u001b[0m\u001b[1;33m)\u001b[0m\u001b[1;33m\u001b[0m\u001b[0m\n\u001b[0m\u001b[0;32m      7\u001b[0m     \u001b[0mS\u001b[0m \u001b[1;33m=\u001b[0m \u001b[0mnumerator\u001b[0m\u001b[1;33m/\u001b[0m\u001b[0mLT1\u001b[0m\u001b[1;33m*\u001b[0m\u001b[0mf1\u001b[0m \u001b[1;33m+\u001b[0m \u001b[0mnumerator\u001b[0m\u001b[1;33m/\u001b[0m\u001b[0mLT2\u001b[0m \u001b[1;33m*\u001b[0m \u001b[0mf2\u001b[0m\u001b[1;33m\u001b[0m\u001b[0m\n\u001b[0;32m      8\u001b[0m     \u001b[1;32mreturn\u001b[0m\u001b[1;33m(\u001b[0m\u001b[0msimplify\u001b[0m\u001b[1;33m(\u001b[0m\u001b[0mS\u001b[0m\u001b[1;33m)\u001b[0m\u001b[1;33m)\u001b[0m\u001b[1;33m\u001b[0m\u001b[0m\n",
      "\u001b[1;31mNameError\u001b[0m: name 'LCM' is not defined"
     ]
    }
   ],
   "source": [
    "x,y = var('x,y')\n",
    "f1 = 3*(x**3)*y + 2*x*y - y**2\n",
    "f2 = 2*x*(y**2)-5*y**3\n",
    "S = spoly(f1,f2)"
   ]
  },
  {
   "cell_type": "code",
   "execution_count": 21,
   "metadata": {},
   "outputs": [
    {
     "name": "stdout",
     "output_type": "stream",
     "text": [
      "GroebnerBasis([x - 2*y**2, y**3], x, y, domain='QQ', order='lex')\n"
     ]
    }
   ],
   "source": [
    "temp = groebner(G, order='lex', domain = 'QQ')\n",
    "print(temp)"
   ]
  },
  {
   "cell_type": "code",
   "execution_count": 22,
   "metadata": {},
   "outputs": [
    {
     "name": "stdout",
     "output_type": "stream",
     "text": [
      "g_1, LT = x**3 reduced by g_3: LT = x**2\n",
      "Remainder = 0\n",
      "g_2, LT = x**2*y reduced by g_3: LT = x**2\n",
      "Remainder = 0\n",
      "g_3, LT = x**2 reduced by g_5: LT = x\n",
      "Remainder = 0\n",
      "g_4, LT = x*y reduced by g_5: LT = x\n",
      "Remainder = 0\n",
      "Adding 1.0*x - 2.0*y**2\n",
      "[1.0*x - 2.0*y**2]\n",
      "GroebnerBasis([x - 2*y**2], x, y, domain='QQ', order='lex')\n"
     ]
    }
   ],
   "source": [
    "temp  = minimize(G, order = 'lex', verbose = True)\n",
    "print(temp)\n",
    "R = groebner(temp, order = 'lex', domain = 'QQ')\n",
    "print(R)"
   ]
  },
  {
   "cell_type": "code",
   "execution_count": 18,
   "metadata": {},
   "outputs": [
    {
     "name": "stdout",
     "output_type": "stream",
     "text": [
      "[1.0*x - 2.0*y**2]\n"
     ]
    }
   ],
   "source": [
    "temp = Reduce(G, order= 'lex')\n",
    "print(temp)"
   ]
  },
  {
   "cell_type": "code",
   "execution_count": 150,
   "metadata": {},
   "outputs": [
    {
     "name": "stdout",
     "output_type": "stream",
     "text": [
      "g_1: x**2*y**2 reduced by g_4: x**2*y\n",
      "G = [x**2*y**2 + x*y, y**4 - y**2, x*y**3 - x*y, x**2*y - x*y**2]\n",
      "Reducing G: [y**4 - y**2, x*y**3 - x*y, x**2*y - x*y**2]\n",
      "f: y**4 - y**2 reduced to r: y**4 - y**2 by temp: [x*y**3 - x*y, x**2*y - x*y**2]\n",
      "G = [y**4 - y**2, x*y**3 - x*y, x**2*y - x*y**2]\n",
      "f: x*y**3 - x*y reduced to r: x*y**3 - x*y by temp: [y**4 - y**2, x**2*y - x*y**2]\n",
      "G = [y**4 - y**2, x*y**3 - x*y, x**2*y - x*y**2]\n",
      "f: x**2*y - x*y**2 reduced to r: x**2*y - x*y**2 by temp: [y**4 - y**2, x*y**3 - x*y]\n",
      "G = [y**4 - y**2, x*y**3 - x*y, x**2*y - x*y**2]\n",
      "[y**4 - y**2, x*y**3 - x*y, x**2*y - x*y**2]\n",
      "GroebnerBasis([y**4 - y**2, x*y], x, y, domain='ZZ', order='grlex')\n",
      "GroebnerBasis([x*y**3 - x*y, y**4 - y**2, x**2*y - x*y**2], x, y, domain='ZZ', order='grlex')\n"
     ]
    }
   ],
   "source": [
    "vs = var('x,y')\n",
    "G = [x**2*y**2 + x*y, y**4- y**2, x*y**3 - x*y, x**2*y-x*y**2]\n",
    "H = minimize(G, order= 'grlex')\n",
    "R = Reduce(G, order = 'grlex', verbose = True)\n",
    "temp = groebner(G,order = 'grlex')\n",
    "temp2 = groebner(H, order = 'grlex')\n",
    "print(R)\n",
    "print(temp)\n",
    "print(temp2)"
   ]
  },
  {
   "cell_type": "code",
   "execution_count": 147,
   "metadata": {},
   "outputs": [
    {
     "name": "stdout",
     "output_type": "stream",
     "text": [
      "[x*y**2 - y**2, y**3 - y**2]\n"
     ]
    }
   ],
   "source": [
    "J = [x*y**2-y**3, y**3-y**2]\n",
    "temp = Reduce(J, order = 'grlex')\n",
    "print(temp)"
   ]
  },
  {
   "cell_type": "code",
   "execution_count": 148,
   "metadata": {},
   "outputs": [
    {
     "name": "stdout",
     "output_type": "stream",
     "text": [
      "GroebnerBasis([x*y**2 - y**2, y**3 - y**2], x, y, domain='ZZ', order='grlex')\n"
     ]
    }
   ],
   "source": [
    "temp2 = groebner(J, order = 'grlex')\n",
    "print(temp2)"
   ]
  },
  {
   "cell_type": "code",
   "execution_count": null,
   "metadata": {
    "collapsed": true
   },
   "outputs": [],
   "source": []
  }
 ],
 "metadata": {
  "kernelspec": {
   "display_name": "Python 3",
   "language": "python",
   "name": "python3"
  },
  "language_info": {
   "codemirror_mode": {
    "name": "ipython",
    "version": 3
   },
   "file_extension": ".py",
   "mimetype": "text/x-python",
   "name": "python",
   "nbconvert_exporter": "python",
   "pygments_lexer": "ipython3",
   "version": "3.6.3"
  }
 },
 "nbformat": 4,
 "nbformat_minor": 2
}
