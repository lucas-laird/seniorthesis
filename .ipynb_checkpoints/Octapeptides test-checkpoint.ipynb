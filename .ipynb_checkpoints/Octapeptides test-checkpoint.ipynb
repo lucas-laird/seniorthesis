{
 "cells": [
  {
   "cell_type": "code",
   "execution_count": 1,
   "metadata": {
    "collapsed": true
   },
   "outputs": [],
   "source": [
    "import numpy as np\n",
    "from sympy import *\n",
    "from math import floor\n",
    "import time"
   ]
  },
  {
   "cell_type": "code",
   "execution_count": 2,
   "metadata": {
    "collapsed": true
   },
   "outputs": [],
   "source": [
    "#Useful functions for both Hypercubes and general Hamming graphs\n",
    "def read_sets(filename):\n",
    "    #Read in the sets of a file\n",
    "    results = []\n",
    "    with open(filename,'r') as f:\n",
    "        for line in f.read().splitlines():\n",
    "            results.append(line.split(','))\n",
    "    return(results)\n",
    "\n",
    "def make_linearEqns(A,z):\n",
    "    #Takes matrix A and variable list z and converts it into a list of linear equations\n",
    "    z = Matrix(z)\n",
    "    A = Matrix(A)\n",
    "    A = A.rref()[0]\n",
    "    lin_fcns = A*z\n",
    "    lin_fcns = [f for f in lin_fcns if f != 0]\n",
    "    return(list(lin_fcns))"
   ]
  },
  {
   "cell_type": "code",
   "execution_count": 3,
   "metadata": {
    "collapsed": true
   },
   "outputs": [],
   "source": [
    "def create_polys(k,a):\n",
    "    #Setup polynomial system for H_k,a without knowing what R is\n",
    "    variable_string = 'z1'\n",
    "    for i in range(1,k*a):\n",
    "        variable_string = variable_string +',z{} '.format(i+1)\n",
    "    z = var(variable_string)\n",
    "    P = []\n",
    "    f = 0\n",
    "    for i in range(k):\n",
    "        func = 0\n",
    "        #func2 = 0\n",
    "        for j in range(0,a):\n",
    "            P.append(z[i*a+j]*(z[i*a+j]-1)*(z[i*a+j]+1)) #1st condition zi*(zi-1)*(zi+1)\n",
    "            func= func + z[i*a+j]**2\n",
    "            #func2 = func2 + z[i*a+j]\n",
    "            f = f + z[i*a+j]**2 #f so that sum(zi**2) neq 0\n",
    "        func = (2-func)*(func)\n",
    "        P.append(func)\n",
    "        #P.append(func2)\n",
    "    \n",
    "    fs = [f-2*i for i in range(1,k+1)]\n",
    "    return(P,fs,z)\n",
    "\n",
    "def make_matrix(R,k,a):\n",
    "    #Converts list of one-hot encodings to the linear system\n",
    "    temp = [r.flatten('F') for r in R]\n",
    "    for i in range(k):\n",
    "        added_row = np.zeros(k*a)\n",
    "        for j in range(a):\n",
    "            #This is the 2nd condition where sum(zi)_i*a+1^i*a+a = 0\n",
    "            added_row[i*a+j] = 1\n",
    "        temp.append(list(added_row))\n",
    "    return(np.array(temp,dtype = int))\n",
    "\n",
    "def check_resolving(R,k,a,alphabet = None):\n",
    "    (P,fs,z) = create_polys(k,a)\n",
    "    OH_encodedR = OneHot(R,k,a)\n",
    "    A = make_matrix(OH_encodedR,k,a)\n",
    "    lin_fcns = make_linearEqns(A,z)\n",
    "    G = groebner(P+lin_fcns,order = 'lex')\n",
    "    for fi in fs:\n",
    "        Gi = groebner(list(G)+[fi],order = 'lex')\n",
    "        if not (list(Gi) == [1]):\n",
    "            return False\n",
    "    return True"
   ]
  },
  {
   "cell_type": "code",
   "execution_count": 4,
   "metadata": {
    "collapsed": true
   },
   "outputs": [],
   "source": [
    "def OneHot(R,k,a,alphabet = None):\n",
    "    #Converts list of strings to list of one-hot encodings\n",
    "    if alphabet == None:\n",
    "        temp = [str(i) for i in range(a)]\n",
    "        alphabet = ''.join(temp)\n",
    "    encodings = []\n",
    "    for r in R:\n",
    "        encoding = np.zeros((a,k))\n",
    "        for i in range(k):\n",
    "            for j,letter in enumerate(alphabet):\n",
    "                if r[i] == letter:\n",
    "                    encoding[j,i] = 1\n",
    "        encodings.append(encoding)\n",
    "    return(encodings)\n",
    "\n",
    "def create_polys(k,a):\n",
    "    #Setup polynomial system for H_k,a without knowing what R is\n",
    "    variable_string = 'z1'\n",
    "    for i in range(1,k*a):\n",
    "        variable_string = variable_string +',z{} '.format(i+1)\n",
    "    z = var(variable_string)\n",
    "    P = []\n",
    "    for i in range(k):\n",
    "        Pi = []\n",
    "        func = 0\n",
    "        #func2 = 0\n",
    "        for j in range(0,a):\n",
    "            Pi.append(z[i*a+j]*(z[i*a+j]-1)*(z[i*a+j]+1)) #1st condition zi*(zi-1)*(zi+1)\n",
    "            func= func + z[i*a+j]**2\n",
    "            #func2 = func2 + z[i*a+j]\n",
    "        func = (2-func)*(func)\n",
    "        Pi.append(func)\n",
    "        #Pi.append(func2)\n",
    "        P.append(Pi)\n",
    "    squares = [zi**2 for zi in z]\n",
    "    sum_squares = sum(squares)\n",
    "    f = 1\n",
    "    for i in range(1,k+1):\n",
    "        f = f*(2*i - sum_squares)\n",
    "    return(P,f,z)\n",
    "\n",
    "def preprocess_groebner(P,z,k,a):\n",
    "    G0 = groebner(P[0],order = 'lex')\n",
    "    G = [g for g in list(G0)]\n",
    "    for i in range(1,k):\n",
    "        replacements = [(z[j],z[a*i+j]) for j in range(a)]\n",
    "        for g in list(G0):\n",
    "            G.append(g.subs(replacements))\n",
    "    return(G)\n",
    "\n",
    "def make_matrix(R,k,a):\n",
    "    #Converts list of one-hot encodings to the linear system\n",
    "    temp = [r.flatten('F') for r in R]\n",
    "    for i in range(k):\n",
    "        added_row = np.zeros(k*a)\n",
    "        for j in range(a):\n",
    "            #This is the 2nd condition where sum(zi)_i*a+1^i*a+a = 0\n",
    "            added_row[i*a+j] = 1\n",
    "        temp.append(list(added_row))\n",
    "    return(np.array(temp,dtype = int))\n",
    "\n",
    "def check_resolving(R,k,a,alphabet = None):\n",
    "    (P,f,z) = create_polys(k,a)\n",
    "    OH_encodedR = OneHot(R,k,a)\n",
    "    A = make_matrix(OH_encodedR,k,a)\n",
    "    lin_fcns = make_linearEqns(A,z)\n",
    "    pre_G = preprocess_groebner(P,z,k,a)\n",
    "    print('Finished Precomputing')\n",
    "    G = groebner(pre_G+lin_fcns+[f],order = 'lex')\n",
    "    print('Finished Groebner')\n",
    "    if list(G) != [1]:\n",
    "        return False\n",
    "    return True\n"
   ]
  },
  {
   "cell_type": "code",
   "execution_count": 12,
   "metadata": {
    "collapsed": true
   },
   "outputs": [],
   "source": [
    "def minimize_set(R,k,a,alphabet = None):\n",
    "    remove_indices = []\n",
    "    random_indices = np.random.permutation(len(R))\n",
    "    for i in random_indices:\n",
    "        temp = [r for j,r in enumerate(R) if not j in remove_indices + [i]]\n",
    "        is_resolving = check_resolving(temp,k,a,alphabet = alphabet)\n",
    "        if is_resolving:\n",
    "            remove_indices.append(i)\n",
    "    R = [r for j,r in enumerate(R) if not j in remove_indices]\n",
    "    return R"
   ]
  },
  {
   "cell_type": "code",
   "execution_count": null,
   "metadata": {
    "collapsed": true
   },
   "outputs": [],
   "source": []
  },
  {
   "cell_type": "code",
   "execution_count": 13,
   "metadata": {
    "collapsed": true
   },
   "outputs": [],
   "source": [
    "with open('octapeptides_Rset.txt','r') as f:\n",
    "    R = f.readlines()\n",
    "R = [r.strip() for r in R]\n",
    "alphabet = ['A','R','N','D','C','E','Q','G','H','I','L','K','M','F','P',\n",
    "            'S','T','W','Y','V']\n",
    "k = 8\n",
    "a = 20"
   ]
  },
  {
   "cell_type": "code",
   "execution_count": null,
   "metadata": {
    "collapsed": true
   },
   "outputs": [],
   "source": [
    "start = time.time()\n",
    "test_res = check_resolving(R,k,a,alphabet = alphabet)\n",
    "end = time.time()\n",
    "print(test_res)\n",
    "print(start-end)"
   ]
  },
  {
   "cell_type": "code",
   "execution_count": null,
   "metadata": {
    "collapsed": true
   },
   "outputs": [],
   "source": []
  }
 ],
 "metadata": {
  "kernelspec": {
   "display_name": "Python 3",
   "language": "python",
   "name": "python3"
  },
  "language_info": {
   "codemirror_mode": {
    "name": "ipython",
    "version": 3
   },
   "file_extension": ".py",
   "mimetype": "text/x-python",
   "name": "python",
   "nbconvert_exporter": "python",
   "pygments_lexer": "ipython3",
   "version": "3.7.1"
  }
 },
 "nbformat": 4,
 "nbformat_minor": 2
}
