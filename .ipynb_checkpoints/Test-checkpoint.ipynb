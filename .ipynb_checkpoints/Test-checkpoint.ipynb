{
 "cells": [
  {
   "cell_type": "code",
   "execution_count": 1,
   "metadata": {
    "collapsed": true
   },
   "outputs": [],
   "source": [
    "import numpy as np\n",
    "from sympy import *\n",
    "from math import floor"
   ]
  },
  {
   "cell_type": "code",
   "execution_count": 2,
   "metadata": {
    "collapsed": true
   },
   "outputs": [],
   "source": [
    "def create_polys(k,a):\n",
    "    #Setup polynomial system for H_k,a without knowing what R is\n",
    "    variable_string = 'z1'\n",
    "    for i in range(1,k*a):\n",
    "        variable_string = variable_string +',z{} '.format(i+1)\n",
    "    z = var(variable_string)\n",
    "    P = []\n",
    "    f = 0\n",
    "    for i in range(k):\n",
    "        Pi = []\n",
    "        func = 0\n",
    "        func2 = 0\n",
    "        for j in range(0,a):\n",
    "            Pi.append(z[i*a+j]*(z[i*a+j]-1)*(z[i*a+j]+1)) #1st condition zi*(zi-1)*(zi+1)\n",
    "            func= func + z[i*a+j]**2\n",
    "            func2 = func2 + z[i*a+j]\n",
    "            f = f + z[i*a+j]**2 #f so that sum(zi**2) neq 0\n",
    "        func = (2-func)*(func)\n",
    "        Pi.append(func)\n",
    "        Pi.append(func2)\n",
    "        P.append(Pi)\n",
    "    \n",
    "    fs = [f-2*i for i in range(1,k+1)]\n",
    "    return(P,fs,z)"
   ]
  },
  {
   "cell_type": "code",
   "execution_count": 3,
   "metadata": {
    "collapsed": true
   },
   "outputs": [],
   "source": [
    "P,fs,z = create_polys(4,3)\n",
    "a = 3"
   ]
  },
  {
   "cell_type": "markdown",
   "metadata": {},
   "source": [
    "Test 1:  \n",
    "Does G(P) = G(P_1) U G(P_2)..."
   ]
  },
  {
   "cell_type": "code",
   "execution_count": 8,
   "metadata": {},
   "outputs": [
    {
     "name": "stdout",
     "output_type": "stream",
     "text": [
      "z1 + z2 + z3\n",
      "z2**3 - z2\n",
      "z2**2*z3 + z2*z3**2\n",
      "z3**3 - z3\n",
      "z4 + z5 + z6\n",
      "z5**3 - z5\n",
      "z5**2*z6 + z5*z6**2\n",
      "z6**3 - z6\n",
      "z7 + z8 + z9\n",
      "z8**3 - z8\n",
      "z8**2*z9 + z8*z9**2\n",
      "z9**3 - z9\n",
      "z10 + z11 + z12\n",
      "z11**3 - z11\n",
      "z11**2*z12 + z11*z12**2\n",
      "z12**3 - z12\n"
     ]
    }
   ],
   "source": [
    "all_P = []\n",
    "for p in P:\n",
    "    for f in p:\n",
    "        all_P.append(f)\n",
    "G = groebner(all_P,order = 'lex')\n",
    "for g in list(G):\n",
    "    print(g)"
   ]
  },
  {
   "cell_type": "code",
   "execution_count": 10,
   "metadata": {},
   "outputs": [
    {
     "name": "stdout",
     "output_type": "stream",
     "text": [
      "z1 + z2 + z3\n",
      "z2**3 - z2\n",
      "z2**2*z3 + z2*z3**2\n",
      "z3**3 - z3\n",
      "z4 + z5 + z6\n",
      "z5**3 - z5\n",
      "z5**2*z6 + z5*z6**2\n",
      "z6**3 - z6\n",
      "z7 + z8 + z9\n",
      "z8**3 - z8\n",
      "z8**2*z9 + z8*z9**2\n",
      "z9**3 - z9\n",
      "z10 + z11 + z12\n",
      "z11**3 - z11\n",
      "z11**2*z12 + z11*z12**2\n",
      "z12**3 - z12\n"
     ]
    }
   ],
   "source": [
    "G_list = []\n",
    "for p in P:\n",
    "    temp = groebner(p,order = 'lex')\n",
    "    G_list.append(list(temp))\n",
    "for g in G_list:\n",
    "    for f in g:\n",
    "        print(f)"
   ]
  },
  {
   "cell_type": "markdown",
   "metadata": {},
   "source": [
    "Results: Yes the Groebner basis is the same either way."
   ]
  },
  {
   "cell_type": "markdown",
   "metadata": {},
   "source": [
    "Test 2: Is G(P_1) = G(P_2) with a change of variables?"
   ]
  },
  {
   "cell_type": "code",
   "execution_count": 11,
   "metadata": {},
   "outputs": [
    {
     "ename": "NameError",
     "evalue": "name 'a' is not defined",
     "output_type": "error",
     "traceback": [
      "\u001b[1;31m---------------------------------------------------------------------------\u001b[0m",
      "\u001b[1;31mNameError\u001b[0m                                 Traceback (most recent call last)",
      "\u001b[1;32m<ipython-input-11-bd52f3e474da>\u001b[0m in \u001b[0;36m<module>\u001b[1;34m()\u001b[0m\n\u001b[0;32m      4\u001b[0m \u001b[0mG2\u001b[0m \u001b[1;33m=\u001b[0m \u001b[0mgroebner\u001b[0m\u001b[1;33m(\u001b[0m\u001b[0mP2\u001b[0m\u001b[1;33m,\u001b[0m\u001b[0morder\u001b[0m \u001b[1;33m=\u001b[0m \u001b[1;34m'lex'\u001b[0m\u001b[1;33m)\u001b[0m\u001b[1;33m\u001b[0m\u001b[0m\n\u001b[0;32m      5\u001b[0m \u001b[0mtest_G2\u001b[0m \u001b[1;33m=\u001b[0m \u001b[1;33m[\u001b[0m\u001b[1;33m]\u001b[0m\u001b[1;33m\u001b[0m\u001b[0m\n\u001b[1;32m----> 6\u001b[1;33m \u001b[0mreplacements\u001b[0m \u001b[1;33m=\u001b[0m \u001b[1;33m[\u001b[0m\u001b[1;33m(\u001b[0m\u001b[0mz\u001b[0m\u001b[1;33m[\u001b[0m\u001b[0mi\u001b[0m\u001b[1;33m]\u001b[0m\u001b[1;33m,\u001b[0m\u001b[0mz\u001b[0m\u001b[1;33m[\u001b[0m\u001b[0ma\u001b[0m\u001b[1;33m+\u001b[0m\u001b[0mi\u001b[0m\u001b[1;33m]\u001b[0m\u001b[1;33m)\u001b[0m \u001b[1;32mfor\u001b[0m \u001b[0mi\u001b[0m \u001b[1;32min\u001b[0m \u001b[0mrange\u001b[0m\u001b[1;33m(\u001b[0m\u001b[0ma\u001b[0m\u001b[1;33m)\u001b[0m\u001b[1;33m]\u001b[0m\u001b[1;33m\u001b[0m\u001b[0m\n\u001b[0m\u001b[0;32m      7\u001b[0m \u001b[1;32mfor\u001b[0m \u001b[0mg\u001b[0m \u001b[1;32min\u001b[0m \u001b[0mlist\u001b[0m\u001b[1;33m(\u001b[0m\u001b[0mG1\u001b[0m\u001b[1;33m)\u001b[0m\u001b[1;33m:\u001b[0m\u001b[1;33m\u001b[0m\u001b[0m\n\u001b[0;32m      8\u001b[0m     \u001b[0mtemp\u001b[0m \u001b[1;33m=\u001b[0m \u001b[0mg\u001b[0m\u001b[1;33m.\u001b[0m\u001b[0msubs\u001b[0m\u001b[1;33m(\u001b[0m\u001b[0mreplacements\u001b[0m\u001b[1;33m)\u001b[0m\u001b[1;33m\u001b[0m\u001b[0m\n",
      "\u001b[1;31mNameError\u001b[0m: name 'a' is not defined"
     ]
    }
   ],
   "source": [
    "P1 = P[0]\n",
    "P2 = P[1]\n",
    "G1 = groebner(P1,order = 'lex')\n",
    "G2 = groebner(P2,order = 'lex')\n",
    "test_G2 = []\n",
    "replacements = [(z[i],z[a+i]) for i in range(a)]\n",
    "for g in list(G1):\n",
    "    temp = g.subs(replacements)\n",
    "    test_G2.append(temp)"
   ]
  },
  {
   "cell_type": "code",
   "execution_count": null,
   "metadata": {
    "collapsed": true
   },
   "outputs": [],
   "source": []
  }
 ],
 "metadata": {
  "kernelspec": {
   "display_name": "Python 3",
   "language": "python",
   "name": "python3"
  },
  "language_info": {
   "codemirror_mode": {
    "name": "ipython",
    "version": 3
   },
   "file_extension": ".py",
   "mimetype": "text/x-python",
   "name": "python",
   "nbconvert_exporter": "python",
   "pygments_lexer": "ipython3",
   "version": "3.6.3"
  }
 },
 "nbformat": 4,
 "nbformat_minor": 2
}
