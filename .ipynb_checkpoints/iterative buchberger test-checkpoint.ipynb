{
 "cells": [
  {
   "cell_type": "code",
   "execution_count": 3,
   "metadata": {
    "collapsed": true
   },
   "outputs": [],
   "source": [
    "import numpy as np\n",
    "from sympy import *\n",
    "from math import floor\n",
    "import time"
   ]
  },
  {
   "cell_type": "code",
   "execution_count": 4,
   "metadata": {
    "collapsed": true
   },
   "outputs": [],
   "source": [
    "def spoly(f1,f2,order = 'lex'):\n",
    "    LM1 = LM(f1,order = order)\n",
    "    LT1 = LT(f1,order = order)\n",
    "    LM2 = LM(f2,order = order)\n",
    "    LT2 = LT(f2,order = order)\n",
    "    numerator = lcm(LM1,LM2)\n",
    "    S = numerator/LT1*f1 - numerator/LT2 * f2\n",
    "    return(expand(S))\n",
    "\n",
    "def minimize_GBasis(G, order = 'lex'):\n",
    "    for i,g in enumerate(G):\n",
    "        G[i] = g/LC(g,order = order)\n",
    "    n = len(G)\n",
    "    G2 = []\n",
    "    for g in G:\n",
    "        H = [f for f in G]\n",
    "        H.remove(g)\n",
    "        H = [LT(f,order = order) for f in H]\n",
    "        LTg = LT(g,order = order)\n",
    "        q,r = reduced(LTg, H, order = order)\n",
    "        if not r == 0:\n",
    "            G2.append(g)\n",
    "    return(G2)\n",
    "\n",
    "def reduce_GBasis(G, order = 'lex'):\n",
    "    G = minimize_GBasis(G, order = order)\n",
    "    for i,g in enumerate(G):\n",
    "        H = [f for f in G if not f == g]\n",
    "        q,r = reduced(g,H, order = order)\n",
    "        G[i] = r\n",
    "    return(G)\n",
    "\n",
    "def GrobAdd_Buchberger(G,f, order = 'lex'):\n",
    "    Q = [f]\n",
    "    while len(Q) > 0:\n",
    "        g = Q.pop(0)\n",
    "        for g2 in G: \n",
    "            S = spoly(g, g2, order = order)\n",
    "            q,r = reduced(S,G,order = order)\n",
    "            if not r == 0: \n",
    "                Q.append(r)\n",
    "        G.append(f)\n",
    "    G = reduce_GBasis(G,order = order)\n",
    "    return(G)"
   ]
  },
  {
   "cell_type": "code",
   "execution_count": 5,
   "metadata": {
    "collapsed": true
   },
   "outputs": [],
   "source": [
    "#Useful functions for both Hypercubes and general Hamming graphs\n",
    "def read_sets(filename):\n",
    "    #Read in the sets of a file\n",
    "    results = []\n",
    "    with open(filename,'r') as f:\n",
    "        for line in f.read().splitlines():\n",
    "            results.append(line.split(','))\n",
    "    return(results)\n",
    "\n",
    "def make_linearEqns(A,z):\n",
    "    #Takes matrix A and variable list z and converts it into a list of linear equations\n",
    "    z = Matrix(z)\n",
    "    A = Matrix(A)\n",
    "    A = A.rref()[0]\n",
    "    lin_fcns = A*z\n",
    "    return(list(lin_fcns))"
   ]
  },
  {
   "cell_type": "code",
   "execution_count": 6,
   "metadata": {
    "collapsed": true
   },
   "outputs": [],
   "source": [
    "def OneHot(R,k,a,alphabet = None):\n",
    "    #Converts list of strings to list of one-hot encodings\n",
    "    if alphabet == None:\n",
    "        temp = [str(i) for i in range(a)]\n",
    "        alphabet = ''.join(temp)\n",
    "    encodings = []\n",
    "    for r in R:\n",
    "        encoding = np.zeros((a,k))\n",
    "        for i in range(k):\n",
    "            for j,letter in enumerate(alphabet):\n",
    "                if r[i] == letter:\n",
    "                    encoding[j,i] = 1\n",
    "        encodings.append(encoding)\n",
    "    return(encodings)\n",
    "\n",
    "def create_polys_improved(k,a):\n",
    "    #Setup polynomial system for H_k,a without knowing what R is\n",
    "    variable_string = 'z1'\n",
    "    for i in range(1,k*a):\n",
    "        variable_string = variable_string +',z{} '.format(i+1)\n",
    "    z = var(variable_string)\n",
    "    P = []\n",
    "    f = 0\n",
    "    for i in range(k):\n",
    "        Pi = []\n",
    "        func = 0\n",
    "        func2 = 0\n",
    "        for j in range(0,a):\n",
    "            Pi.append(z[i*a+j]*(z[i*a+j]-1)*(z[i*a+j]+1)) #1st condition zi*(zi-1)*(zi+1)\n",
    "            func= func + z[i*a+j]**2\n",
    "            func2 = func2 + z[i*a+j]\n",
    "            f = f + z[i*a+j]**2 #f so that sum(zi**2) neq 0\n",
    "        func = (2-func)*(func)\n",
    "        Pi.append(func)\n",
    "        Pi.append(func2)\n",
    "        P.append(Pi)\n",
    "    \n",
    "    fs = [f-2*i for i in range(1,k+1)]\n",
    "    return(P,fs,z)\n",
    "\n",
    "def preprocess_groebner(P,z,k,a):\n",
    "    G0 = groebner(P[0],order = 'lex')\n",
    "    G = [g for g in list(G0)]\n",
    "    for i in range(1,k):\n",
    "        replacements = [(z[j],z[a*i+j]) for j in range(a)]\n",
    "        for g in list(G0):\n",
    "            G.append(g.subs(replacements))\n",
    "    return(G)\n",
    "\n",
    "def make_matrix(R,k,a):\n",
    "    #Converts list of one-hot encodings to the linear system\n",
    "    temp = [r.flatten('F') for r in R]\n",
    "    return(np.array(temp,dtype = int))\n",
    "\n",
    "def check_resolving_improved(R,k,a,alphabet = None):\n",
    "    (P,fs,z) = create_polys_improved(k,a)\n",
    "    OH_encodedR = OneHot(R,k,a)\n",
    "    A = make_matrix(OH_encodedR,k,a)\n",
    "    lin_fcns = make_linearEqns(A,z)\n",
    "    pre_G = preprocess_groebner(P,z,k,a)\n",
    "    G = pre_G\n",
    "    for f in lin_fcns:\n",
    "        G = GrobAdd_Buchberger(G,f,order = 'lex')\n",
    "    for fi in fs:\n",
    "        Gi = groebner(list(G)+[fi],order = 'lex')\n",
    "        if not (list(Gi) == [1]):\n",
    "            return False\n",
    "    return True"
   ]
  },
  {
   "cell_type": "code",
   "execution_count": 7,
   "metadata": {
    "collapsed": true
   },
   "outputs": [],
   "source": [
    "sets = read_sets('Test_Sets/H_3_5.txt')"
   ]
  },
  {
   "cell_type": "code",
   "execution_count": null,
   "metadata": {
    "collapsed": true
   },
   "outputs": [],
   "source": [
    "P,fs,z = create_polys(5,3)\n",
    "all_P = []\n",
    "for p in P:\n",
    "    for f in p:\n",
    "        all_P.append(f)"
   ]
  },
  {
   "cell_type": "code",
   "execution_count": null,
   "metadata": {
    "collapsed": true
   },
   "outputs": [],
   "source": [
    "R = sets[0]\n",
    "OH_R = OneHot(R,5,3)\n",
    "A = make_matrix(OH_R,5,3)\n",
    "lin_fcns = make_linearEqns(A,z)"
   ]
  }
 ],
 "metadata": {
  "kernelspec": {
   "display_name": "Python 3",
   "language": "python",
   "name": "python3"
  },
  "language_info": {
   "codemirror_mode": {
    "name": "ipython",
    "version": 3
   },
   "file_extension": ".py",
   "mimetype": "text/x-python",
   "name": "python",
   "nbconvert_exporter": "python",
   "pygments_lexer": "ipython3",
   "version": "3.6.3"
  }
 },
 "nbformat": 4,
 "nbformat_minor": 2
}
