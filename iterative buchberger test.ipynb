{
 "cells": [
  {
   "cell_type": "code",
   "execution_count": 3,
   "metadata": {
    "collapsed": true
   },
   "outputs": [],
   "source": [
    "import numpy as np\n",
    "from sympy import *\n",
    "from math import floor\n",
    "import time"
   ]
  },
  {
   "cell_type": "code",
   "execution_count": 4,
   "metadata": {
    "collapsed": true
   },
   "outputs": [],
   "source": [
    "def spoly(f1,f2,order = 'lex'):\n",
    "    LM1 = LM(f1,order = order)\n",
    "    LT1 = LT(f1,order = order)\n",
    "    LM2 = LM(f2,order = order)\n",
    "    LT2 = LT(f2,order = order)\n",
    "    numerator = lcm(LM1,LM2)\n",
    "    S = numerator/LT1*f1 - numerator/LT2 * f2\n",
    "    return(expand(S))\n",
    "\n",
    "def minimize_GBasis(G, order = 'lex'):\n",
    "    for i,g in enumerate(G):\n",
    "        G[i] = g/LC(g,order = order)\n",
    "    n = len(G)\n",
    "    G2 = []\n",
    "    for g in G:\n",
    "        H = [f for f in G]\n",
    "        H.remove(g)\n",
    "        H = [LT(f,order = order) for f in H]\n",
    "        LTg = LT(g,order = order)\n",
    "        q,r = reduced(LTg, H, order = order)\n",
    "        if not r == 0:\n",
    "            G2.append(g)\n",
    "    return(G2)\n",
    "\n",
    "def reduce_GBasis(G, order = 'lex'):\n",
    "    G = minimize_GBasis(G, order = order)\n",
    "    for i,g in enumerate(G):\n",
    "        H = [f for f in G if not f == g]\n",
    "        q,r = reduced(g,H, order = order)\n",
    "        G[i] = r\n",
    "    return(G)\n",
    "\n",
    "def GrobAdd_Buchberger(G,f, order = 'lex'):\n",
    "    Q = [f]\n",
    "    while len(Q) > 0:\n",
    "        g = Q.pop(0)\n",
    "        for g2 in G: \n",
    "            S = spoly(g, g2, order = order)\n",
    "            q,r = reduced(S,G,order = order)\n",
    "            if not r == 0: \n",
    "                Q.append(r)\n",
    "        G.append(f)\n",
    "    G = reduce_GBasis(G,order = order)\n",
    "    return(G)"
   ]
  },
  {
   "cell_type": "code",
   "execution_count": 5,
   "metadata": {
    "collapsed": true
   },
   "outputs": [],
   "source": [
    "#Useful functions for both Hypercubes and general Hamming graphs\n",
    "def read_sets(filename):\n",
    "    #Read in the sets of a file\n",
    "    results = []\n",
    "    with open(filename,'r') as f:\n",
    "        for line in f.read().splitlines():\n",
    "            results.append(line.split(','))\n",
    "    return(results)\n",
    "\n",
    "def make_linearEqns(A,z):\n",
    "    #Takes matrix A and variable list z and converts it into a list of linear equations\n",
    "    z = Matrix(z)\n",
    "    A = Matrix(A)\n",
    "    A = A.rref()[0]\n",
    "    lin_fcns = A*z\n",
    "    return(list(lin_fcns))"
   ]
  },
  {
   "cell_type": "code",
   "execution_count": 6,
   "metadata": {
    "collapsed": true
   },
   "outputs": [],
   "source": [
    "def OneHot(R,k,a,alphabet = None):\n",
    "    #Converts list of strings to list of one-hot encodings\n",
    "    if alphabet == None:\n",
    "        temp = [str(i) for i in range(a)]\n",
    "        alphabet = ''.join(temp)\n",
    "    encodings = []\n",
    "    for r in R:\n",
    "        encoding = np.zeros((a,k))\n",
    "        for i in range(k):\n",
    "            for j,letter in enumerate(alphabet):\n",
    "                if r[i] == letter:\n",
    "                    encoding[j,i] = 1\n",
    "        encodings.append(encoding)\n",
    "    return(encodings)\n",
    "\n",
    "def create_polys_improved(k,a):\n",
    "    #Setup polynomial system for H_k,a without knowing what R is\n",
    "    variable_string = 'z1'\n",
    "    for i in range(1,k*a):\n",
    "        variable_string = variable_string +',z{} '.format(i+1)\n",
    "    z = var(variable_string)\n",
    "    P = []\n",
    "    f = 0\n",
    "    for i in range(k):\n",
    "        Pi = []\n",
    "        func = 0\n",
    "        func2 = 0\n",
    "        for j in range(0,a):\n",
    "            Pi.append(z[i*a+j]*(z[i*a+j]-1)*(z[i*a+j]+1)) #1st condition zi*(zi-1)*(zi+1)\n",
    "            func= func + z[i*a+j]**2\n",
    "            func2 = func2 + z[i*a+j]\n",
    "            f = f + z[i*a+j]**2 #f so that sum(zi**2) neq 0\n",
    "        func = (2-func)*(func)\n",
    "        Pi.append(func)\n",
    "        Pi.append(func2)\n",
    "        P.append(Pi)\n",
    "    \n",
    "    fs = [f-2*i for i in range(1,k+1)]\n",
    "    return(P,fs,z)\n",
    "\n",
    "def preprocess_groebner(P,z,k,a):\n",
    "    G0 = groebner(P[0],order = 'lex')\n",
    "    G = [g for g in list(G0)]\n",
    "    for i in range(1,k):\n",
    "        replacements = [(z[j],z[a*i+j]) for j in range(a)]\n",
    "        for g in list(G0):\n",
    "            G.append(g.subs(replacements))\n",
    "    return(G)\n",
    "\n",
    "def make_matrix(R,k,a):\n",
    "    #Converts list of one-hot encodings to the linear system\n",
    "    temp = [r.flatten('F') for r in R]\n",
    "    return(np.array(temp,dtype = int))\n",
    "\n",
    "def check_resolving_improved(R,k,a,alphabet = None):\n",
    "    (P,fs,z) = create_polys_improved(k,a)\n",
    "    OH_encodedR = OneHot(R,k,a)\n",
    "    A = make_matrix(OH_encodedR,k,a)\n",
    "    lin_fcns = make_linearEqns(A,z)\n",
    "    pre_G = preprocess_groebner(P,z,k,a)\n",
    "    G = pre_G\n",
    "    for f in lin_fcns:\n",
    "        G = GrobAdd_Buchberger(G,f,order = 'lex')\n",
    "    for fi in fs:\n",
    "        Gi = groebner(list(G)+[fi],order = 'lex')\n",
    "        if not (list(Gi) == [1]):\n",
    "            return False\n",
    "    return True"
   ]
  },
  {
   "cell_type": "code",
   "execution_count": 8,
   "metadata": {
    "collapsed": true
   },
   "outputs": [],
   "source": [
    "sets = read_sets('Test_Sets/H_3_5.txt')"
   ]
  },
  {
   "cell_type": "code",
   "execution_count": 15,
   "metadata": {},
   "outputs": [],
   "source": [
    "P,fs,z = create_polys_improved(5,3)\n",
    "all_P = []\n",
    "for p in P:\n",
    "    for f in p:\n",
    "        all_P.append(f)"
   ]
  },
  {
   "cell_type": "code",
   "execution_count": 26,
   "metadata": {},
   "outputs": [
    {
     "name": "stdout",
     "output_type": "stream",
     "text": [
      "z1 + z12 - z13 + 2*z15 + z6 + z8\n"
     ]
    }
   ],
   "source": [
    "R = sets[0]\n",
    "OH_R = OneHot(R,5,3)\n",
    "A = make_matrix(OH_R,5,3)\n",
    "lin_fcns = make_linearEqns(A,z)\n",
    "print(lin_fcns[0])"
   ]
  },
  {
   "cell_type": "code",
   "execution_count": 22,
   "metadata": {},
   "outputs": [
    {
     "name": "stdout",
     "output_type": "stream",
     "text": [
      "z1 + z2 + z3\n",
      "z2**3 - z2\n",
      "z2**2*z3 + z2*z3**2\n",
      "z3**3 - z3\n",
      "z4 + z5 + z6\n",
      "z5**3 - z5\n",
      "z5**2*z6 + z5*z6**2\n",
      "z6**3 - z6\n",
      "z7 + z8 + z9\n",
      "z8**3 - z8\n",
      "z8**2*z9 + z8*z9**2\n",
      "z9**3 - z9\n",
      "z10 + z11 + z12\n",
      "z11**3 - z11\n",
      "z11**2*z12 + z11*z12**2\n",
      "z12**3 - z12\n",
      "z13 + z14 + z15\n",
      "z14**3 - z14\n",
      "z14**2*z15 + z14*z15**2\n",
      "z15**3 - z15\n"
     ]
    }
   ],
   "source": [
    "G = preprocess_groebner(P,z,5,3)\n",
    "for g in G:\n",
    "    print(g)"
   ]
  },
  {
   "cell_type": "code",
   "execution_count": 23,
   "metadata": {},
   "outputs": [
    {
     "name": "stdout",
     "output_type": "stream",
     "text": [
      "z1 + z2 + z3\n",
      "z2**3 - z2\n",
      "z2**2*z3 + z2*z3**2\n",
      "z3**3 - z3\n",
      "z4 + z5 + z6\n",
      "z5**3 - z5\n",
      "z5**2*z6 + z5*z6**2\n",
      "z6**3 - z6\n",
      "z7 + z8 + z9\n",
      "z8**3 - z8\n",
      "z8**2*z9 + z8*z9**2\n",
      "z9**3 - z9\n",
      "z10 + z11 + z12\n",
      "z11**3 - z11\n",
      "z11**2*z12 + z11*z12**2\n",
      "z12**3 - z12\n",
      "z13 + z14 + z15\n",
      "z14**3 - z14\n",
      "z14**2*z15 + z14*z15**2\n",
      "z15**3 - z15\n"
     ]
    }
   ],
   "source": [
    "G = groebner(all_P,order = 'lex')\n",
    "for g in list(G):\n",
    "    print(g)"
   ]
  },
  {
   "cell_type": "code",
   "execution_count": 25,
   "metadata": {},
   "outputs": [
    {
     "name": "stdout",
     "output_type": "stream",
     "text": [
      "z1 + z12 + z14 + 3*z15 + z6 + z8\n",
      "-z12 - z14 - 3*z15 + z2 + z3 - z6 - z8\n",
      "z3**3 - z3\n",
      "2*z12**2*z14*z3*z5 + 6*z12**2*z15*z3*z5 - z12**2*z3**2*z5 - z12**2*z3*z5**2 + 2*z12**2*z3*z5*z8 + 2*z12*z14**2*z3*z5 + 12*z12*z14*z15*z3*z5 - 2*z12*z14*z3**2*z5 - 2*z12*z14*z3*z5**2 + 4*z12*z14*z3*z5*z8 + 18*z12*z15**2*z3*z5 - 6*z12*z15*z3**2*z5 - 6*z12*z15*z3*z5**2 + 12*z12*z15*z3*z5*z8 + z12*z3**2*z5**2 - 2*z12*z3**2*z5*z8 - 2*z12*z3*z5**2*z8 + 2*z12*z3*z5*z8**2 + z12*z3*z5 - z14**2*z3**2*z5 - z14**2*z3*z5**2 + 2*z14**2*z3*z5*z8 + 12*z14*z15**2*z3*z5 - 6*z14*z15*z3**2*z5 - 6*z14*z15*z3*z5**2 + 12*z14*z15*z3*z5*z8 + z14*z3**2*z5**2 - 2*z14*z3**2*z5*z8 - 2*z14*z3*z5**2*z8 + 2*z14*z3*z5*z8**2 + z14*z3*z5 - 9*z15**2*z3**2*z5 - 9*z15**2*z3*z5**2 + 18*z15**2*z3*z5*z8 + 3*z15*z3**2*z5**2 - 6*z15*z3**2*z5*z8 - 6*z15*z3*z5**2*z8 + 6*z15*z3*z5*z8**2 + 19*z15*z3*z5 + z3**2*z5**2*z8 - z3**2*z5*z8**2 - z3*z5**2*z8**2 + z3*z5*z8\n",
      "-z11**2*z14**2*z3**2*z5**2*z9 - z11**2*z14**2*z3**2*z5*z9**2 - z11**2*z14**2*z3*z5**2*z9**2 - z11**2*z14**2*z3*z5*z9 - 8*z11**2*z14*z15*z3*z5*z9 + z11**2*z14*z3**2*z5**2*z9**2 + z11**2*z14*z3**2*z5*z9 + z11**2*z14*z3*z5**2*z9 + z11**2*z14*z3*z5*z9**2 - 12*z11**2*z15**2*z3*z5*z9 + 4*z11**2*z15*z3**2*z5*z9 + 4*z11**2*z15*z3*z5**2*z9 + 4*z11**2*z15*z3*z5*z9**2 - z11*z14**2*z3**2*z5**2*z9**2 - z11*z14**2*z3**2*z5*z9 - z11*z14**2*z3*z5**2*z9 - z11*z14**2*z3*z5*z9**2 + 16*z11*z14*z15**2*z3*z5*z9 - 8*z11*z14*z15*z3**2*z5*z9 - 8*z11*z14*z15*z3*z5**2*z9 - 8*z11*z14*z15*z3*z5*z9**2 + z11*z14*z3**2*z5**2*z9 + z11*z14*z3**2*z5*z9**2 + z11*z14*z3*z5**2*z9**2 + z11*z14*z3*z5*z9 - 12*z11*z15**2*z3**2*z5*z9 - 12*z11*z15**2*z3*z5**2*z9 - 12*z11*z15**2*z3*z5*z9**2 + 4*z11*z15*z3**2*z5**2*z9 + 4*z11*z15*z3**2*z5*z9**2 + 4*z11*z15*z3*z5**2*z9**2 + 24*z11*z15*z3*z5*z9\n",
      "-2*z12**2*z14**2*z3*z5*z9 + 2*z12**2*z14*z3**2*z5*z9 + 2*z12**2*z14*z3*z5**2*z9 + 2*z12**2*z14*z3*z5*z9**2 + 12*z12**2*z15**2*z3*z5*z9 - z12**2*z3**2*z5**2*z9 - z12**2*z3**2*z5*z9**2 - z12**2*z3*z5**2*z9**2 - z12**2*z3*z5*z9 + 2*z12*z14**2*z3**2*z5*z9 + 2*z12*z14**2*z3*z5**2*z9 + 2*z12*z14**2*z3*z5*z9**2 + 24*z12*z14*z15**2*z3*z5*z9 - 2*z12*z14*z3**2*z5**2*z9 - 2*z12*z14*z3**2*z5*z9**2 - 2*z12*z14*z3*z5**2*z9**2 - 4*z12*z14*z3*z5*z9 - 12*z12*z15**2*z3**2*z5*z9 - 12*z12*z15**2*z3*z5**2*z9 - 12*z12*z15**2*z3*z5*z9**2 + 40*z12*z15*z3*z5*z9 + z12*z3**2*z5**2*z9**2 + z12*z3**2*z5*z9 + z12*z3*z5**2*z9 + z12*z3*z5*z9**2 - z14**2*z3**2*z5**2*z9 - z14**2*z3**2*z5*z9**2 - z14**2*z3*z5**2*z9**2 - z14**2*z3*z5*z9 - 12*z14*z15**2*z3**2*z5*z9 - 12*z14*z15**2*z3*z5**2*z9 - 12*z14*z15**2*z3*z5*z9**2 + 28*z14*z15*z3*z5*z9 + z14*z3**2*z5**2*z9**2 + z14*z3**2*z5*z9 + z14*z3*z5**2*z9 + z14*z3*z5*z9**2 + 6*z15**2*z3**2*z5**2*z9 + 6*z15**2*z3**2*z5*z9**2 + 6*z15**2*z3*z5**2*z9**2 + 42*z15**2*z3*z5*z9 - 20*z15*z3**2*z5*z9 - 20*z15*z3*z5**2*z9 - 20*z15*z3*z5*z9**2\n",
      "-z15**2*z3**2*z5**2*z9 - z15**2*z3**2*z5*z9**2 - z15**2*z3*z5**2*z9**2 - z15**2*z3*z5*z9 + z15*z3**2*z5**2*z9**2 + z15*z3**2*z5*z9 + z15*z3*z5**2*z9 + z15*z3*z5*z9**2\n",
      "-z11**2*z15**2*z3**2*z5 - z11**2*z15**2*z3*z5**2 + z11**2*z15*z3**2*z5**2 + z11**2*z15*z3*z5 - z11*z15**2*z3**2*z5**2 - z11*z15**2*z3*z5 + z11*z15*z3**2*z5 + z11*z15*z3*z5**2\n",
      "-z12**2*z14**2*z3**2*z5 - z12**2*z14**2*z3*z5**2 + z12**2*z14*z3**2*z5**2 + z12**2*z14*z3*z5 + 4*z12**2*z15*z3*z5 + z12*z14**2*z3**2*z5**2 + z12*z14**2*z3*z5 + 8*z12*z14*z15*z3*z5 - z12*z14*z3**2*z5 - z12*z14*z3*z5**2 + 12*z12*z15**2*z3*z5 - 4*z12*z15*z3**2*z5 - 4*z12*z15*z3*z5**2 + 8*z14*z15**2*z3*z5 - 4*z14*z15*z3**2*z5 - 4*z14*z15*z3*z5**2 - 6*z15**2*z3**2*z5 - 6*z15**2*z3*z5**2 + 2*z15*z3**2*z5**2 + 10*z15*z3*z5\n",
      "-z12*z15**2*z3**2*z5 - z12*z15**2*z3*z5**2 + z12*z15*z3**2*z5**2 + z12*z15*z3*z5 + z15**2*z3**2*z5**2 + z15**2*z3*z5 - z15*z3**2*z5 - z15*z3*z5**2\n",
      "-z14*z15**2*z3**2*z5 - z14*z15**2*z3*z5**2 + z14*z15*z3**2*z5**2 + z14*z15*z3*z5 + z15**2*z3**2*z5**2 + z15**2*z3*z5 - z15*z3**2*z5 - z15*z3*z5**2\n",
      "-z12**2*z3 - 2*z12*z14*z3 - 6*z12*z15*z3 + z12*z3**2 - 2*z12*z3*z6 - 2*z12*z3*z8 - z14**2*z3 - 6*z14*z15*z3 + z14*z3**2 - 2*z14*z3*z6 - 2*z14*z3*z8 - 9*z15**2*z3 + 3*z15*z3**2 - 6*z15*z3*z6 - 6*z15*z3*z8 + z3**2*z6 + z3**2*z8 - z3*z6**2 - 2*z3*z6*z8 - z3*z8**2\n",
      "z11**2*z14**2*z3**2*z8 - z11**2*z14**2*z3*z8**2 - 4*z11**2*z14*z15*z3 + z11**2*z14*z3**2*z8**2 - z11**2*z14*z3*z8 - 6*z11**2*z15**2*z3 + 2*z11**2*z15*z3**2 - 4*z11**2*z15*z3*z8 - z11*z14**2*z3**2*z8**2 + z11*z14**2*z3*z8 + 8*z11*z14*z15**2*z3 - 4*z11*z14*z15*z3**2 + 8*z11*z14*z15*z3*z8 - z11*z14*z3**2*z8 + z11*z14*z3*z8**2 - 6*z11*z15**2*z3**2 + 12*z11*z15**2*z3*z8 - 4*z11*z15*z3**2*z8 + 4*z11*z15*z3*z8**2 + 10*z11*z15*z3\n",
      "-z12**2*z14**2*z3 + z12**2*z14*z3**2 - 2*z12**2*z14*z3*z8 + 6*z12**2*z15**2*z3 + z12**2*z3**2*z8 - z12**2*z3*z8**2 + z12*z14**2*z3**2 - 2*z12*z14**2*z3*z8 + 12*z12*z14*z15**2*z3 + 2*z12*z14*z3**2*z8 - 2*z12*z14*z3*z8**2 - z12*z14*z3 - 6*z12*z15**2*z3**2 + 12*z12*z15**2*z3*z8 + 20*z12*z15*z3 + z12*z3**2*z8**2 - z12*z3*z8 + z14**2*z3**2*z8 - z14**2*z3*z8**2 - 6*z14*z15**2*z3**2 + 12*z14*z15**2*z3*z8 + 14*z14*z15*z3 + z14*z3**2*z8**2 - z14*z3*z8 - 6*z15**2*z3**2*z8 + 6*z15**2*z3*z8**2 + 18*z15**2*z3 - 10*z15*z3**2 + 20*z15*z3*z8\n",
      "z15**2*z3**2*z8 - z15**2*z3*z8**2 + z15*z3**2*z8**2 - z15*z3*z8\n",
      "-z11**2*z14**2*z3**2*z8*z9 - z11**2*z14**2*z3*z8*z9**2 + 4*z11**2*z14*z15*z3*z9 + z11**2*z14*z3**2*z8*z9**2 + z11**2*z14*z3*z8*z9 + 6*z11**2*z15**2*z3*z9 - 2*z11**2*z15*z3**2*z9 + 4*z11**2*z15*z3*z8*z9 - z11*z14**2*z3**2*z8*z9**2 - z11*z14**2*z3*z8*z9 - 8*z11*z14*z15**2*z3*z9 + 4*z11*z14*z15*z3**2*z9 - 8*z11*z14*z15*z3*z8*z9 + z11*z14*z3**2*z8*z9 + z11*z14*z3*z8*z9**2 + 6*z11*z15**2*z3**2*z9 - 12*z11*z15**2*z3*z8*z9 + 4*z11*z15*z3**2*z8*z9 + 4*z11*z15*z3*z8*z9**2 - 10*z11*z15*z3*z9\n",
      "z12**2*z14**2*z3*z9 - z12**2*z14*z3**2*z9 + 2*z12**2*z14*z3*z8*z9 - 6*z12**2*z15**2*z3*z9 - z12**2*z3**2*z8*z9 - z12**2*z3*z8*z9**2 - z12*z14**2*z3**2*z9 + 2*z12*z14**2*z3*z8*z9 - 12*z12*z14*z15**2*z3*z9 - 2*z12*z14*z3**2*z8*z9 - 2*z12*z14*z3*z8*z9**2 + z12*z14*z3*z9 + 6*z12*z15**2*z3**2*z9 - 12*z12*z15**2*z3*z8*z9 - 20*z12*z15*z3*z9 + z12*z3**2*z8*z9**2 + z12*z3*z8*z9 - z14**2*z3**2*z8*z9 - z14**2*z3*z8*z9**2 + 6*z14*z15**2*z3**2*z9 - 12*z14*z15**2*z3*z8*z9 - 14*z14*z15*z3*z9 + z14*z3**2*z8*z9**2 + z14*z3*z8*z9 + 6*z15**2*z3**2*z8*z9 + 6*z15**2*z3*z8*z9**2 - 18*z15**2*z3*z9 + 10*z15*z3**2*z9 - 20*z15*z3*z8*z9\n",
      "-z15**2*z3**2*z8*z9 - z15**2*z3*z8*z9**2 + z15*z3**2*z8*z9**2 + z15*z3*z8*z9\n",
      "z11**2*z15**2*z3**2 - z11**2*z15**2*z3*z8 + z11**2*z15*z3**2*z8 - z11**2*z15*z3 - z11*z15**2*z3**2*z8 + z11*z15**2*z3 - z11*z15*z3**2 + z11*z15*z3*z8\n",
      "z12**2*z14**2*z3**2 - z12**2*z14**2*z3*z8 + z12**2*z14*z3**2*z8 - z12**2*z14*z3 - 4*z12**2*z15*z3 + z12*z14**2*z3**2*z8 - z12*z14**2*z3 - 8*z12*z14*z15*z3 + z12*z14*z3**2 - z12*z14*z3*z8 - 12*z12*z15**2*z3 + 4*z12*z15*z3**2 - 4*z12*z15*z3*z8 - 8*z14*z15**2*z3 + 4*z14*z15*z3**2 - 4*z14*z15*z3*z8 + 6*z15**2*z3**2 - 6*z15**2*z3*z8 + 2*z15*z3**2*z8 - 10*z15*z3\n",
      "z12*z15**2*z3**2 - z12*z15**2*z3*z8 + z12*z15*z3**2*z8 - z12*z15*z3 + z15**2*z3**2*z8 - z15**2*z3 + z15*z3**2 - z15*z3*z8\n",
      "z14*z15**2*z3**2 - z14*z15**2*z3*z8 + z14*z15*z3**2*z8 - z14*z15*z3 + z15**2*z3**2*z8 - z15**2*z3 + z15*z3**2 - z15*z3*z8\n",
      "-z11**2*z15**2*z3**2*z9 - z11**2*z15**2*z3*z9**2 + z11**2*z15*z3**2*z9**2 + z11**2*z15*z3*z9 - z11*z15**2*z3**2*z9**2 - z11*z15**2*z3*z9 + z11*z15*z3**2*z9 + z11*z15*z3*z9**2\n",
      "-z12**2*z14**2*z3**2*z9 - z12**2*z14**2*z3*z9**2 + z12**2*z14*z3**2*z9**2 + z12**2*z14*z3*z9 + 4*z12**2*z15*z3*z9 + z12*z14**2*z3**2*z9**2 + z12*z14**2*z3*z9 + 8*z12*z14*z15*z3*z9 - z12*z14*z3**2*z9 - z12*z14*z3*z9**2 + 12*z12*z15**2*z3*z9 - 4*z12*z15*z3**2*z9 - 4*z12*z15*z3*z9**2 + 8*z14*z15**2*z3*z9 - 4*z14*z15*z3**2*z9 - 4*z14*z15*z3*z9**2 - 6*z15**2*z3**2*z9 - 6*z15**2*z3*z9**2 + 2*z15*z3**2*z9**2 + 10*z15*z3*z9\n",
      "-z12*z15**2*z3**2*z9 - z12*z15**2*z3*z9**2 + z12*z15*z3**2*z9**2 + z12*z15*z3*z9 + z15**2*z3**2*z9**2 + z15**2*z3*z9 - z15*z3**2*z9 - z15*z3*z9**2\n",
      "-z14*z15**2*z3**2*z9 - z14*z15**2*z3*z9**2 + z14*z15*z3**2*z9**2 + z14*z15*z3*z9 + z15**2*z3**2*z9**2 + z15**2*z3*z9 - z15*z3**2*z9 - z15*z3*z9**2\n",
      "-z11**2*z14*z15**2*z3 + z11**2*z14*z15*z3**2 + z11**2*z15**2*z3**2 - z11**2*z15*z3 - z11*z14*z15**2*z3**2 + z11*z14*z15*z3 + z11*z15**2*z3 - z11*z15*z3**2\n",
      "-z12**2*z15**2*z3 + z12**2*z15*z3**2 + z12*z15**2*z3**2 - z12*z15*z3\n",
      "-z12*z14*z15**2*z3 + z12*z14*z15*z3**2 + z12*z15**2*z3**2 - z12*z15*z3 + z14*z15**2*z3**2 - z14*z15*z3 - z15**2*z3 + z15*z3**2\n",
      "z4 + z5 + z6\n",
      "z5**3 - z5\n",
      "z5**2*z6 + z5*z6**2\n",
      "z11**2*z14**2*z5**2*z8 - z11**2*z14**2*z5*z8**2 - 4*z11**2*z14*z15*z5 + z11**2*z14*z5**2*z8**2 - z11**2*z14*z5*z8 - 6*z11**2*z15**2*z5 + 2*z11**2*z15*z5**2 - 4*z11**2*z15*z5*z8 - z11*z14**2*z5**2*z8**2 + z11*z14**2*z5*z8 + 8*z11*z14*z15**2*z5 - 4*z11*z14*z15*z5**2 + 8*z11*z14*z15*z5*z8 - z11*z14*z5**2*z8 + z11*z14*z5*z8**2 - 6*z11*z15**2*z5**2 + 12*z11*z15**2*z5*z8 - 4*z11*z15*z5**2*z8 + 4*z11*z15*z5*z8**2 + 10*z11*z15*z5\n",
      "-z12**2*z14**2*z5 + z12**2*z14*z5**2 - 2*z12**2*z14*z5*z8 + 6*z12**2*z15**2*z5 + z12**2*z5**2*z8 - z12**2*z5*z8**2 + z12*z14**2*z5**2 - 2*z12*z14**2*z5*z8 + 12*z12*z14*z15**2*z5 + 2*z12*z14*z5**2*z8 - 2*z12*z14*z5*z8**2 - z12*z14*z5 - 6*z12*z15**2*z5**2 + 12*z12*z15**2*z5*z8 + 20*z12*z15*z5 + z12*z5**2*z8**2 - z12*z5*z8 + z14**2*z5**2*z8 - z14**2*z5*z8**2 - 6*z14*z15**2*z5**2 + 12*z14*z15**2*z5*z8 + 14*z14*z15*z5 + z14*z5**2*z8**2 - z14*z5*z8 - 6*z15**2*z5**2*z8 + 6*z15**2*z5*z8**2 + 18*z15**2*z5 - 10*z15*z5**2 + 20*z15*z5*z8\n",
      "z15**2*z5**2*z8 - z15**2*z5*z8**2 + z15*z5**2*z8**2 - z15*z5*z8\n",
      "-z11**2*z14**2*z5**2*z8*z9 - z11**2*z14**2*z5*z8*z9**2 + 4*z11**2*z14*z15*z5*z9 + z11**2*z14*z5**2*z8*z9**2 + z11**2*z14*z5*z8*z9 + 6*z11**2*z15**2*z5*z9 - 2*z11**2*z15*z5**2*z9 + 4*z11**2*z15*z5*z8*z9 - z11*z14**2*z5**2*z8*z9**2 - z11*z14**2*z5*z8*z9 - 8*z11*z14*z15**2*z5*z9 + 4*z11*z14*z15*z5**2*z9 - 8*z11*z14*z15*z5*z8*z9 + z11*z14*z5**2*z8*z9 + z11*z14*z5*z8*z9**2 + 6*z11*z15**2*z5**2*z9 - 12*z11*z15**2*z5*z8*z9 + 4*z11*z15*z5**2*z8*z9 + 4*z11*z15*z5*z8*z9**2 - 10*z11*z15*z5*z9\n",
      "z12**2*z14**2*z5*z9 - z12**2*z14*z5**2*z9 + 2*z12**2*z14*z5*z8*z9 - 6*z12**2*z15**2*z5*z9 - z12**2*z5**2*z8*z9 - z12**2*z5*z8*z9**2 - z12*z14**2*z5**2*z9 + 2*z12*z14**2*z5*z8*z9 - 12*z12*z14*z15**2*z5*z9 - 2*z12*z14*z5**2*z8*z9 - 2*z12*z14*z5*z8*z9**2 + z12*z14*z5*z9 + 6*z12*z15**2*z5**2*z9 - 12*z12*z15**2*z5*z8*z9 - 20*z12*z15*z5*z9 + z12*z5**2*z8*z9**2 + z12*z5*z8*z9 - z14**2*z5**2*z8*z9 - z14**2*z5*z8*z9**2 + 6*z14*z15**2*z5**2*z9 - 12*z14*z15**2*z5*z8*z9 - 14*z14*z15*z5*z9 + z14*z5**2*z8*z9**2 + z14*z5*z8*z9 + 6*z15**2*z5**2*z8*z9 + 6*z15**2*z5*z8*z9**2 - 18*z15**2*z5*z9 + 10*z15*z5**2*z9 - 20*z15*z5*z8*z9\n",
      "-z15**2*z5**2*z8*z9 - z15**2*z5*z8*z9**2 + z15*z5**2*z8*z9**2 + z15*z5*z8*z9\n",
      "z11**2*z15**2*z5**2 - z11**2*z15**2*z5*z8 + z11**2*z15*z5**2*z8 - z11**2*z15*z5 - z11*z15**2*z5**2*z8 + z11*z15**2*z5 - z11*z15*z5**2 + z11*z15*z5*z8\n",
      "z12**2*z14**2*z5**2 - z12**2*z14**2*z5*z8 + z12**2*z14*z5**2*z8 - z12**2*z14*z5 - 4*z12**2*z15*z5 + z12*z14**2*z5**2*z8 - z12*z14**2*z5 - 8*z12*z14*z15*z5 + z12*z14*z5**2 - z12*z14*z5*z8 - 12*z12*z15**2*z5 + 4*z12*z15*z5**2 - 4*z12*z15*z5*z8 - 8*z14*z15**2*z5 + 4*z14*z15*z5**2 - 4*z14*z15*z5*z8 + 6*z15**2*z5**2 - 6*z15**2*z5*z8 + 2*z15*z5**2*z8 - 10*z15*z5\n",
      "z12*z15**2*z5**2 - z12*z15**2*z5*z8 + z12*z15*z5**2*z8 - z12*z15*z5 + z15**2*z5**2*z8 - z15**2*z5 + z15*z5**2 - z15*z5*z8\n",
      "z14*z15**2*z5**2 - z14*z15**2*z5*z8 + z14*z15*z5**2*z8 - z14*z15*z5 + z15**2*z5**2*z8 - z15**2*z5 + z15*z5**2 - z15*z5*z8\n",
      "-z11**2*z15**2*z5**2*z9 - z11**2*z15**2*z5*z9**2 + z11**2*z15*z5**2*z9**2 + z11**2*z15*z5*z9 - z11*z15**2*z5**2*z9**2 - z11*z15**2*z5*z9 + z11*z15*z5**2*z9 + z11*z15*z5*z9**2\n",
      "-z12**2*z14**2*z5**2*z9 - z12**2*z14**2*z5*z9**2 + z12**2*z14*z5**2*z9**2 + z12**2*z14*z5*z9 + 4*z12**2*z15*z5*z9 + z12*z14**2*z5**2*z9**2 + z12*z14**2*z5*z9 + 8*z12*z14*z15*z5*z9 - z12*z14*z5**2*z9 - z12*z14*z5*z9**2 + 12*z12*z15**2*z5*z9 - 4*z12*z15*z5**2*z9 - 4*z12*z15*z5*z9**2 + 8*z14*z15**2*z5*z9 - 4*z14*z15*z5**2*z9 - 4*z14*z15*z5*z9**2 - 6*z15**2*z5**2*z9 - 6*z15**2*z5*z9**2 + 2*z15*z5**2*z9**2 + 10*z15*z5*z9\n",
      "-z12*z15**2*z5**2*z9 - z12*z15**2*z5*z9**2 + z12*z15*z5**2*z9**2 + z12*z15*z5*z9 + z15**2*z5**2*z9**2 + z15**2*z5*z9 - z15*z5**2*z9 - z15*z5*z9**2\n",
      "-z14*z15**2*z5**2*z9 - z14*z15**2*z5*z9**2 + z14*z15*z5**2*z9**2 + z14*z15*z5*z9 + z15**2*z5**2*z9**2 + z15**2*z5*z9 - z15*z5**2*z9 - z15*z5*z9**2\n",
      "-z11**2*z14*z15**2*z5 + z11**2*z14*z15*z5**2 + z11**2*z15**2*z5**2 - z11**2*z15*z5 - z11*z14*z15**2*z5**2 + z11*z14*z15*z5 + z11*z15**2*z5 - z11*z15*z5**2\n",
      "-z12**2*z15**2*z5 + z12**2*z15*z5**2 + z12*z15**2*z5**2 - z12*z15*z5\n",
      "-z12*z14*z15**2*z5 + z12*z14*z15*z5**2 + z12*z15**2*z5**2 - z12*z15*z5 + z14*z15**2*z5**2 - z14*z15*z5 - z15**2*z5 + z15*z5**2\n",
      "z6**3 - z6\n",
      "z12**2*z14 + 3*z12**2*z15 + z12**2*z6 + z12**2*z8 + z12*z14**2 + 6*z12*z14*z15 + 2*z12*z14*z6 + 2*z12*z14*z8 + 9*z12*z15**2 + 6*z12*z15*z6 + 6*z12*z15*z8 + z12*z6**2 + 2*z12*z6*z8 + z12*z8**2 + z14**2*z6 + z14**2*z8 + 6*z14*z15**2 + 6*z14*z15*z6 + 6*z14*z15*z8 + z14*z6**2 + 2*z14*z6*z8 + z14*z8**2 + 9*z15**2*z6 + 9*z15**2*z8 + 3*z15*z6**2 + 6*z15*z6*z8 + 3*z15*z8**2 + 8*z15 + z6**2*z8 + z6*z8**2\n",
      "-z11**2*z14**2*z6**2*z9 + z11**2*z14**2*z6*z9**2 - 4*z11**2*z14*z15*z9 + z11**2*z14*z6**2*z9**2 - z11**2*z14*z6*z9 - 6*z11**2*z15**2*z9 - 4*z11**2*z15*z6*z9 + 2*z11**2*z15*z9**2 - z11*z14**2*z6**2*z9**2 + z11*z14**2*z6*z9 + 8*z11*z14*z15**2*z9 + 8*z11*z14*z15*z6*z9 - 4*z11*z14*z15*z9**2 + z11*z14*z6**2*z9 - z11*z14*z6*z9**2 + 12*z11*z15**2*z6*z9 - 6*z11*z15**2*z9**2 + 4*z11*z15*z6**2*z9 - 4*z11*z15*z6*z9**2 + 10*z11*z15*z9\n",
      "-z12**2*z14**2*z9 - 2*z12**2*z14*z6*z9 + z12**2*z14*z9**2 + 6*z12**2*z15**2*z9 - z12**2*z6**2*z9 + z12**2*z6*z9**2 - 2*z12*z14**2*z6*z9 + z12*z14**2*z9**2 + 12*z12*z14*z15**2*z9 - 2*z12*z14*z6**2*z9 + 2*z12*z14*z6*z9**2 - z12*z14*z9 + 12*z12*z15**2*z6*z9 - 6*z12*z15**2*z9**2 + 20*z12*z15*z9 + z12*z6**2*z9**2 - z12*z6*z9 - z14**2*z6**2*z9 + z14**2*z6*z9**2 + 12*z14*z15**2*z6*z9 - 6*z14*z15**2*z9**2 + 14*z14*z15*z9 + z14*z6**2*z9**2 - z14*z6*z9 + 6*z15**2*z6**2*z9 - 6*z15**2*z6*z9**2 + 18*z15**2*z9 + 20*z15*z6*z9 - 10*z15*z9**2\n",
      "-z15**2*z6**2*z9 + z15**2*z6*z9**2 + z15*z6**2*z9**2 - z15*z6*z9\n",
      "z11**2*z15**2*z6 + z11**2*z15*z6**2 - z11*z15**2*z6**2 - z11*z15*z6\n",
      "z12**2*z14**2*z6 + z12**2*z14*z6**2 + 2*z12**2*z15 + z12*z14**2*z6**2 + 4*z12*z14*z15 + z12*z14*z6 + 6*z12*z15**2 + 4*z12*z15*z6 + 4*z14*z15**2 + 4*z14*z15*z6 + 6*z15**2*z6 + 2*z15*z6**2 + 4*z15\n",
      "z12*z15**2*z6 + z12*z15*z6**2 + z15**2*z6**2 + z15*z6\n",
      "z14*z15**2*z6 + z14*z15*z6**2 + z15**2*z6**2 + z15*z6\n",
      "z11**2*z14**2*z6*z8 + z11**2*z14**2*z8**2 + 4*z11**2*z14*z15 + z11**2*z14*z6*z8**2 + z11**2*z14*z8 + 6*z11**2*z15**2 + 2*z11**2*z15*z6 + 4*z11**2*z15*z8 - z11*z14**2*z6*z8**2 - z11*z14**2*z8 - 8*z11*z14*z15**2 - 4*z11*z14*z15*z6 - 8*z11*z14*z15*z8 - z11*z14*z6*z8 - z11*z14*z8**2 - 6*z11*z15**2*z6 - 12*z11*z15**2*z8 - 4*z11*z15*z6*z8 - 4*z11*z15*z8**2 - 10*z11*z15\n",
      "z12**2*z14**2 + z12**2*z14*z6 + 2*z12**2*z14*z8 - 6*z12**2*z15**2 + z12**2*z6*z8 + z12**2*z8**2 + z12*z14**2*z6 + 2*z12*z14**2*z8 - 12*z12*z14*z15**2 + 2*z12*z14*z6*z8 + 2*z12*z14*z8**2 + z12*z14 - 6*z12*z15**2*z6 - 12*z12*z15**2*z8 - 20*z12*z15 + z12*z6*z8**2 + z12*z8 + z14**2*z6*z8 + z14**2*z8**2 - 6*z14*z15**2*z6 - 12*z14*z15**2*z8 - 14*z14*z15 + z14*z6*z8**2 + z14*z8 - 6*z15**2*z6*z8 - 6*z15**2*z8**2 - 18*z15**2 - 10*z15*z6 - 20*z15*z8\n",
      "z15**2*z6*z8 + z15**2*z8**2 + z15*z6*z8**2 + z15*z8\n",
      "-z11**2*z14**2*z6*z8*z9 + z11**2*z14**2*z8*z9**2 - 4*z11**2*z14*z15*z9 + z11**2*z14*z6*z8*z9**2 - z11**2*z14*z8*z9 - 6*z11**2*z15**2*z9 - 2*z11**2*z15*z6*z9 - 4*z11**2*z15*z8*z9 - z11*z14**2*z6*z8*z9**2 + z11*z14**2*z8*z9 + 8*z11*z14*z15**2*z9 + 4*z11*z14*z15*z6*z9 + 8*z11*z14*z15*z8*z9 + z11*z14*z6*z8*z9 - z11*z14*z8*z9**2 + 6*z11*z15**2*z6*z9 + 12*z11*z15**2*z8*z9 + 4*z11*z15*z6*z8*z9 - 4*z11*z15*z8*z9**2 + 10*z11*z15*z9\n",
      "-z12**2*z14**2*z9 - z12**2*z14*z6*z9 - 2*z12**2*z14*z8*z9 + 6*z12**2*z15**2*z9 - z12**2*z6*z8*z9 + z12**2*z8*z9**2 - z12*z14**2*z6*z9 - 2*z12*z14**2*z8*z9 + 12*z12*z14*z15**2*z9 - 2*z12*z14*z6*z8*z9 + 2*z12*z14*z8*z9**2 - z12*z14*z9 + 6*z12*z15**2*z6*z9 + 12*z12*z15**2*z8*z9 + 20*z12*z15*z9 + z12*z6*z8*z9**2 - z12*z8*z9 - z14**2*z6*z8*z9 + z14**2*z8*z9**2 + 6*z14*z15**2*z6*z9 + 12*z14*z15**2*z8*z9 + 14*z14*z15*z9 + z14*z6*z8*z9**2 - z14*z8*z9 + 6*z15**2*z6*z8*z9 - 6*z15**2*z8*z9**2 + 18*z15**2*z9 + 10*z15*z6*z9 + 20*z15*z8*z9\n",
      "-z15**2*z6*z8*z9 + z15**2*z8*z9**2 + z15*z6*z8*z9**2 - z15*z8*z9\n",
      "z11**2*z15**2*z6 + z11**2*z15**2*z8 + z11**2*z15*z6*z8 + z11**2*z15 - z11*z15**2*z6*z8 - z11*z15**2 - z11*z15*z6 - z11*z15*z8\n",
      "z12**2*z14**2*z6 + z12**2*z14**2*z8 + z12**2*z14*z6*z8 + z12**2*z14 + 4*z12**2*z15 + z12*z14**2*z6*z8 + z12*z14**2 + 8*z12*z14*z15 + z12*z14*z6 + z12*z14*z8 + 12*z12*z15**2 + 4*z12*z15*z6 + 4*z12*z15*z8 + 8*z14*z15**2 + 4*z14*z15*z6 + 4*z14*z15*z8 + 6*z15**2*z6 + 6*z15**2*z8 + 2*z15*z6*z8 + 10*z15\n",
      "z12*z15**2*z6 + z12*z15**2*z8 + z12*z15*z6*z8 + z12*z15 + z15**2*z6*z8 + z15**2 + z15*z6 + z15*z8\n",
      "z14*z15**2*z6 + z14*z15**2*z8 + z14*z15*z6*z8 + z14*z15 + z15**2*z6*z8 + z15**2 + z15*z6 + z15*z8\n",
      "-z11**2*z15**2*z6*z9 + z11**2*z15**2*z9**2 + z11**2*z15*z6*z9**2 - z11**2*z15*z9 - z11*z15**2*z6*z9**2 + z11*z15**2*z9 + z11*z15*z6*z9 - z11*z15*z9**2\n",
      "-z12**2*z14**2*z6*z9 + z12**2*z14**2*z9**2 + z12**2*z14*z6*z9**2 - z12**2*z14*z9 - 4*z12**2*z15*z9 + z12*z14**2*z6*z9**2 - z12*z14**2*z9 - 8*z12*z14*z15*z9 - z12*z14*z6*z9 + z12*z14*z9**2 - 12*z12*z15**2*z9 - 4*z12*z15*z6*z9 + 4*z12*z15*z9**2 - 8*z14*z15**2*z9 - 4*z14*z15*z6*z9 + 4*z14*z15*z9**2 - 6*z15**2*z6*z9 + 6*z15**2*z9**2 + 2*z15*z6*z9**2 - 10*z15*z9\n",
      "-z12*z15**2*z6*z9 + z12*z15**2*z9**2 + z12*z15*z6*z9**2 - z12*z15*z9 + z15**2*z6*z9**2 - z15**2*z9 - z15*z6*z9 + z15*z9**2\n",
      "-z14*z15**2*z6*z9 + z14*z15**2*z9**2 + z14*z15*z6*z9**2 - z14*z15*z9 + z15**2*z6*z9**2 - z15**2*z9 - z15*z6*z9 + z15*z9**2\n",
      "z11**2*z14*z15**2 + z11**2*z14*z15*z6 + z11**2*z15**2*z6 + z11**2*z15 - z11*z14*z15**2*z6 - z11*z14*z15 - z11*z15**2 - z11*z15*z6\n",
      "z12**2*z15**2 + z12**2*z15*z6 + z12*z15**2*z6 + z12*z15\n",
      "z12*z14*z15**2 + z12*z14*z15*z6 + z12*z15**2*z6 + z12*z15 + z14*z15**2*z6 + z14*z15 + z15**2 + z15*z6\n",
      "z7 + z8 + z9\n",
      "z8**3 - z8\n",
      "z8**2*z9 + z8*z9**2\n",
      "z11**2*z15**2*z8 + z11**2*z15*z8**2 - z11*z15**2*z8**2 - z11*z15*z8\n",
      "z12**2*z14**2*z8 + z12**2*z14*z8**2 + 2*z12**2*z15 + z12*z14**2*z8**2 + 4*z12*z14*z15 + z12*z14*z8 + 6*z12*z15**2 + 4*z12*z15*z8 + 4*z14*z15**2 + 4*z14*z15*z8 + 6*z15**2*z8 + 2*z15*z8**2 + 4*z15\n",
      "z12*z15**2*z8 + z12*z15*z8**2 + z15**2*z8**2 + z15*z8\n",
      "z14*z15**2*z8 + z14*z15*z8**2 + z15**2*z8**2 + z15*z8\n",
      "-z11**2*z15**2*z8*z9 + z11**2*z15*z8*z9**2 - z11*z15**2*z8*z9**2 + z11*z15*z8*z9\n",
      "-z12**2*z14**2*z8*z9 + z12**2*z14*z8*z9**2 - 2*z12**2*z15*z9 + z12*z14**2*z8*z9**2 - 4*z12*z14*z15*z9 - z12*z14*z8*z9 - 6*z12*z15**2*z9 - 4*z12*z15*z8*z9 - 4*z14*z15**2*z9 - 4*z14*z15*z8*z9 - 6*z15**2*z8*z9 + 2*z15*z8*z9**2 - 4*z15*z9\n",
      "-z12*z15**2*z8*z9 + z12*z15*z8*z9**2 + z15**2*z8*z9**2 - z15*z8*z9\n",
      "-z14*z15**2*z8*z9 + z14*z15*z8*z9**2 + z15**2*z8*z9**2 - z15*z8*z9\n",
      "z11**2*z14*z15**2 + z11**2*z14*z15*z8 + z11**2*z15**2*z8 + z11**2*z15 - z11*z14*z15**2*z8 - z11*z14*z15 - z11*z15**2 - z11*z15*z8\n",
      "z12**2*z15**2 + z12**2*z15*z8 + z12*z15**2*z8 + z12*z15\n",
      "z12*z14*z15**2 + z12*z14*z15*z8 + z12*z15**2*z8 + z12*z15 + z14*z15**2*z8 + z14*z15 + z15**2 + z15*z8\n",
      "z9**3 - z9\n",
      "-z11**2*z14*z15**2*z9 + z11**2*z14*z15*z9**2 + z11**2*z15**2*z9**2 - z11**2*z15*z9 - z11*z14*z15**2*z9**2 + z11*z14*z15*z9 + z11*z15**2*z9 - z11*z15*z9**2\n",
      "-z12**2*z15**2*z9 + z12**2*z15*z9**2 + z12*z15**2*z9**2 - z12*z15*z9\n",
      "-z12*z14*z15**2*z9 + z12*z14*z15*z9**2 + z12*z15**2*z9**2 - z12*z15*z9 + z14*z15**2*z9**2 - z14*z15*z9 - z15**2*z9 + z15*z9**2\n",
      "z10 + z11 + z12\n",
      "z11**3 - z11\n",
      "z11**2*z12 + z11*z12**2\n",
      "z12**3 - z12\n",
      "z12**2*z14*z15 + z12**2*z15**2 + z12*z14*z15**2 + z12*z15\n",
      "z13 + z14 + z15\n",
      "z14**3 - z14\n",
      "z14**2*z15 + z14*z15**2\n",
      "z15**3 - z15\n"
     ]
    }
   ],
   "source": [
    "G0 = groebner(list(G)+[lin_fcns[0]],order = 'lex')\n",
    "for g in list(G0):\n",
    "    print(g)"
   ]
  },
  {
   "cell_type": "code",
   "execution_count": 27,
   "metadata": {},
   "outputs": [
    {
     "ename": "KeyboardInterrupt",
     "evalue": "",
     "output_type": "error",
     "traceback": [
      "\u001b[1;31m---------------------------------------------------------------------------\u001b[0m",
      "\u001b[1;31mKeyboardInterrupt\u001b[0m                         Traceback (most recent call last)",
      "\u001b[1;32m<ipython-input-27-6b2767b15db0>\u001b[0m in \u001b[0;36m<module>\u001b[1;34m()\u001b[0m\n\u001b[1;32m----> 1\u001b[1;33m \u001b[0mG0\u001b[0m \u001b[1;33m=\u001b[0m \u001b[0mGrobAdd_Buchberger\u001b[0m\u001b[1;33m(\u001b[0m\u001b[0mlist\u001b[0m\u001b[1;33m(\u001b[0m\u001b[0mG\u001b[0m\u001b[1;33m)\u001b[0m\u001b[1;33m,\u001b[0m\u001b[0mlin_fcns\u001b[0m\u001b[1;33m[\u001b[0m\u001b[1;36m0\u001b[0m\u001b[1;33m]\u001b[0m\u001b[1;33m)\u001b[0m\u001b[1;33m\u001b[0m\u001b[0m\n\u001b[0m\u001b[0;32m      2\u001b[0m \u001b[1;32mfor\u001b[0m \u001b[0mg\u001b[0m \u001b[1;32min\u001b[0m \u001b[0mG0\u001b[0m\u001b[1;33m:\u001b[0m\u001b[1;33m\u001b[0m\u001b[0m\n\u001b[0;32m      3\u001b[0m     \u001b[0mprint\u001b[0m\u001b[1;33m(\u001b[0m\u001b[0mg\u001b[0m\u001b[1;33m)\u001b[0m\u001b[1;33m\u001b[0m\u001b[0m\n",
      "\u001b[1;32m<ipython-input-4-413771d4566f>\u001b[0m in \u001b[0;36mGrobAdd_Buchberger\u001b[1;34m(G, f, order)\u001b[0m\n\u001b[0;32m     37\u001b[0m         \u001b[1;32mfor\u001b[0m \u001b[0mg2\u001b[0m \u001b[1;32min\u001b[0m \u001b[0mG\u001b[0m\u001b[1;33m:\u001b[0m\u001b[1;33m\u001b[0m\u001b[0m\n\u001b[0;32m     38\u001b[0m             \u001b[0mS\u001b[0m \u001b[1;33m=\u001b[0m \u001b[0mspoly\u001b[0m\u001b[1;33m(\u001b[0m\u001b[0mg\u001b[0m\u001b[1;33m,\u001b[0m \u001b[0mg2\u001b[0m\u001b[1;33m,\u001b[0m \u001b[0morder\u001b[0m \u001b[1;33m=\u001b[0m \u001b[0morder\u001b[0m\u001b[1;33m)\u001b[0m\u001b[1;33m\u001b[0m\u001b[0m\n\u001b[1;32m---> 39\u001b[1;33m             \u001b[0mq\u001b[0m\u001b[1;33m,\u001b[0m\u001b[0mr\u001b[0m \u001b[1;33m=\u001b[0m \u001b[0mreduced\u001b[0m\u001b[1;33m(\u001b[0m\u001b[0mS\u001b[0m\u001b[1;33m,\u001b[0m\u001b[0mG\u001b[0m\u001b[1;33m,\u001b[0m\u001b[0morder\u001b[0m \u001b[1;33m=\u001b[0m \u001b[0morder\u001b[0m\u001b[1;33m)\u001b[0m\u001b[1;33m\u001b[0m\u001b[0m\n\u001b[0m\u001b[0;32m     40\u001b[0m             \u001b[1;32mif\u001b[0m \u001b[1;32mnot\u001b[0m \u001b[0mr\u001b[0m \u001b[1;33m==\u001b[0m \u001b[1;36m0\u001b[0m\u001b[1;33m:\u001b[0m\u001b[1;33m\u001b[0m\u001b[0m\n\u001b[0;32m     41\u001b[0m                 \u001b[0mQ\u001b[0m\u001b[1;33m.\u001b[0m\u001b[0mappend\u001b[0m\u001b[1;33m(\u001b[0m\u001b[0mr\u001b[0m\u001b[1;33m)\u001b[0m\u001b[1;33m\u001b[0m\u001b[0m\n",
      "\u001b[1;32m~\\Anaconda3\\lib\\site-packages\\sympy\\polys\\polytools.py\u001b[0m in \u001b[0;36mreduced\u001b[1;34m(f, G, *gens, **args)\u001b[0m\n\u001b[0;32m   6511\u001b[0m \u001b[1;33m\u001b[0m\u001b[0m\n\u001b[0;32m   6512\u001b[0m     \u001b[1;32mfor\u001b[0m \u001b[0mi\u001b[0m\u001b[1;33m,\u001b[0m \u001b[0mpoly\u001b[0m \u001b[1;32min\u001b[0m \u001b[0menumerate\u001b[0m\u001b[1;33m(\u001b[0m\u001b[0mpolys\u001b[0m\u001b[1;33m)\u001b[0m\u001b[1;33m:\u001b[0m\u001b[1;33m\u001b[0m\u001b[0m\n\u001b[1;32m-> 6513\u001b[1;33m         \u001b[0mpoly\u001b[0m \u001b[1;33m=\u001b[0m \u001b[0mpoly\u001b[0m\u001b[1;33m.\u001b[0m\u001b[0mset_domain\u001b[0m\u001b[1;33m(\u001b[0m\u001b[0mopt\u001b[0m\u001b[1;33m.\u001b[0m\u001b[0mdomain\u001b[0m\u001b[1;33m)\u001b[0m\u001b[1;33m.\u001b[0m\u001b[0mrep\u001b[0m\u001b[1;33m.\u001b[0m\u001b[0mto_dict\u001b[0m\u001b[1;33m(\u001b[0m\u001b[1;33m)\u001b[0m\u001b[1;33m\u001b[0m\u001b[0m\n\u001b[0m\u001b[0;32m   6514\u001b[0m         \u001b[0mpolys\u001b[0m\u001b[1;33m[\u001b[0m\u001b[0mi\u001b[0m\u001b[1;33m]\u001b[0m \u001b[1;33m=\u001b[0m \u001b[0m_ring\u001b[0m\u001b[1;33m.\u001b[0m\u001b[0mfrom_dict\u001b[0m\u001b[1;33m(\u001b[0m\u001b[0mpoly\u001b[0m\u001b[1;33m)\u001b[0m\u001b[1;33m\u001b[0m\u001b[0m\n\u001b[0;32m   6515\u001b[0m \u001b[1;33m\u001b[0m\u001b[0m\n",
      "\u001b[1;32m~\\Anaconda3\\lib\\site-packages\\sympy\\polys\\polytools.py\u001b[0m in \u001b[0;36mset_domain\u001b[1;34m(f, domain)\u001b[0m\n\u001b[0;32m    468\u001b[0m         \u001b[1;34m\"\"\"Set the ground domain of ``f``. \"\"\"\u001b[0m\u001b[1;33m\u001b[0m\u001b[0m\n\u001b[0;32m    469\u001b[0m         \u001b[0mopt\u001b[0m \u001b[1;33m=\u001b[0m \u001b[0moptions\u001b[0m\u001b[1;33m.\u001b[0m\u001b[0mbuild_options\u001b[0m\u001b[1;33m(\u001b[0m\u001b[0mf\u001b[0m\u001b[1;33m.\u001b[0m\u001b[0mgens\u001b[0m\u001b[1;33m,\u001b[0m \u001b[1;33m{\u001b[0m\u001b[1;34m'domain'\u001b[0m\u001b[1;33m:\u001b[0m \u001b[0mdomain\u001b[0m\u001b[1;33m}\u001b[0m\u001b[1;33m)\u001b[0m\u001b[1;33m\u001b[0m\u001b[0m\n\u001b[1;32m--> 470\u001b[1;33m         \u001b[1;32mreturn\u001b[0m \u001b[0mf\u001b[0m\u001b[1;33m.\u001b[0m\u001b[0mper\u001b[0m\u001b[1;33m(\u001b[0m\u001b[0mf\u001b[0m\u001b[1;33m.\u001b[0m\u001b[0mrep\u001b[0m\u001b[1;33m.\u001b[0m\u001b[0mconvert\u001b[0m\u001b[1;33m(\u001b[0m\u001b[0mopt\u001b[0m\u001b[1;33m.\u001b[0m\u001b[0mdomain\u001b[0m\u001b[1;33m)\u001b[0m\u001b[1;33m)\u001b[0m\u001b[1;33m\u001b[0m\u001b[0m\n\u001b[0m\u001b[0;32m    471\u001b[0m \u001b[1;33m\u001b[0m\u001b[0m\n\u001b[0;32m    472\u001b[0m     \u001b[1;32mdef\u001b[0m \u001b[0mget_domain\u001b[0m\u001b[1;33m(\u001b[0m\u001b[0mf\u001b[0m\u001b[1;33m)\u001b[0m\u001b[1;33m:\u001b[0m\u001b[1;33m\u001b[0m\u001b[0m\n",
      "\u001b[1;32m~\\Anaconda3\\lib\\site-packages\\sympy\\polys\\polyclasses.py\u001b[0m in \u001b[0;36mconvert\u001b[1;34m(f, dom)\u001b[0m\n\u001b[0;32m    281\u001b[0m             \u001b[1;32mreturn\u001b[0m \u001b[0mf\u001b[0m\u001b[1;33m\u001b[0m\u001b[0m\n\u001b[0;32m    282\u001b[0m         \u001b[1;32melse\u001b[0m\u001b[1;33m:\u001b[0m\u001b[1;33m\u001b[0m\u001b[0m\n\u001b[1;32m--> 283\u001b[1;33m             \u001b[1;32mreturn\u001b[0m \u001b[0mDMP\u001b[0m\u001b[1;33m(\u001b[0m\u001b[0mdmp_convert\u001b[0m\u001b[1;33m(\u001b[0m\u001b[0mf\u001b[0m\u001b[1;33m.\u001b[0m\u001b[0mrep\u001b[0m\u001b[1;33m,\u001b[0m \u001b[0mf\u001b[0m\u001b[1;33m.\u001b[0m\u001b[0mlev\u001b[0m\u001b[1;33m,\u001b[0m \u001b[0mf\u001b[0m\u001b[1;33m.\u001b[0m\u001b[0mdom\u001b[0m\u001b[1;33m,\u001b[0m \u001b[0mdom\u001b[0m\u001b[1;33m)\u001b[0m\u001b[1;33m,\u001b[0m \u001b[0mdom\u001b[0m\u001b[1;33m,\u001b[0m \u001b[0mf\u001b[0m\u001b[1;33m.\u001b[0m\u001b[0mlev\u001b[0m\u001b[1;33m)\u001b[0m\u001b[1;33m\u001b[0m\u001b[0m\n\u001b[0m\u001b[0;32m    284\u001b[0m \u001b[1;33m\u001b[0m\u001b[0m\n\u001b[0;32m    285\u001b[0m     \u001b[1;32mdef\u001b[0m \u001b[0mslice\u001b[0m\u001b[1;33m(\u001b[0m\u001b[0mf\u001b[0m\u001b[1;33m,\u001b[0m \u001b[0mm\u001b[0m\u001b[1;33m,\u001b[0m \u001b[0mn\u001b[0m\u001b[1;33m,\u001b[0m \u001b[0mj\u001b[0m\u001b[1;33m=\u001b[0m\u001b[1;36m0\u001b[0m\u001b[1;33m)\u001b[0m\u001b[1;33m:\u001b[0m\u001b[1;33m\u001b[0m\u001b[0m\n",
      "\u001b[1;32m~\\Anaconda3\\lib\\site-packages\\sympy\\polys\\densebasic.py\u001b[0m in \u001b[0;36mdmp_convert\u001b[1;34m(f, u, K0, K1)\u001b[0m\n\u001b[0;32m    568\u001b[0m     \u001b[0mv\u001b[0m \u001b[1;33m=\u001b[0m \u001b[0mu\u001b[0m \u001b[1;33m-\u001b[0m \u001b[1;36m1\u001b[0m\u001b[1;33m\u001b[0m\u001b[0m\n\u001b[0;32m    569\u001b[0m \u001b[1;33m\u001b[0m\u001b[0m\n\u001b[1;32m--> 570\u001b[1;33m     \u001b[1;32mreturn\u001b[0m \u001b[0mdmp_strip\u001b[0m\u001b[1;33m(\u001b[0m\u001b[1;33m[\u001b[0m \u001b[0mdmp_convert\u001b[0m\u001b[1;33m(\u001b[0m\u001b[0mc\u001b[0m\u001b[1;33m,\u001b[0m \u001b[0mv\u001b[0m\u001b[1;33m,\u001b[0m \u001b[0mK0\u001b[0m\u001b[1;33m,\u001b[0m \u001b[0mK1\u001b[0m\u001b[1;33m)\u001b[0m \u001b[1;32mfor\u001b[0m \u001b[0mc\u001b[0m \u001b[1;32min\u001b[0m \u001b[0mf\u001b[0m \u001b[1;33m]\u001b[0m\u001b[1;33m,\u001b[0m \u001b[0mu\u001b[0m\u001b[1;33m)\u001b[0m\u001b[1;33m\u001b[0m\u001b[0m\n\u001b[0m\u001b[0;32m    571\u001b[0m \u001b[1;33m\u001b[0m\u001b[0m\n\u001b[0;32m    572\u001b[0m \u001b[1;33m\u001b[0m\u001b[0m\n",
      "\u001b[1;32m~\\Anaconda3\\lib\\site-packages\\sympy\\polys\\densebasic.py\u001b[0m in \u001b[0;36m<listcomp>\u001b[1;34m(.0)\u001b[0m\n\u001b[0;32m    568\u001b[0m     \u001b[0mv\u001b[0m \u001b[1;33m=\u001b[0m \u001b[0mu\u001b[0m \u001b[1;33m-\u001b[0m \u001b[1;36m1\u001b[0m\u001b[1;33m\u001b[0m\u001b[0m\n\u001b[0;32m    569\u001b[0m \u001b[1;33m\u001b[0m\u001b[0m\n\u001b[1;32m--> 570\u001b[1;33m     \u001b[1;32mreturn\u001b[0m \u001b[0mdmp_strip\u001b[0m\u001b[1;33m(\u001b[0m\u001b[1;33m[\u001b[0m \u001b[0mdmp_convert\u001b[0m\u001b[1;33m(\u001b[0m\u001b[0mc\u001b[0m\u001b[1;33m,\u001b[0m \u001b[0mv\u001b[0m\u001b[1;33m,\u001b[0m \u001b[0mK0\u001b[0m\u001b[1;33m,\u001b[0m \u001b[0mK1\u001b[0m\u001b[1;33m)\u001b[0m \u001b[1;32mfor\u001b[0m \u001b[0mc\u001b[0m \u001b[1;32min\u001b[0m \u001b[0mf\u001b[0m \u001b[1;33m]\u001b[0m\u001b[1;33m,\u001b[0m \u001b[0mu\u001b[0m\u001b[1;33m)\u001b[0m\u001b[1;33m\u001b[0m\u001b[0m\n\u001b[0m\u001b[0;32m    571\u001b[0m \u001b[1;33m\u001b[0m\u001b[0m\n\u001b[0;32m    572\u001b[0m \u001b[1;33m\u001b[0m\u001b[0m\n",
      "\u001b[1;32m~\\Anaconda3\\lib\\site-packages\\sympy\\polys\\densebasic.py\u001b[0m in \u001b[0;36mdmp_convert\u001b[1;34m(f, u, K0, K1)\u001b[0m\n\u001b[0;32m    568\u001b[0m     \u001b[0mv\u001b[0m \u001b[1;33m=\u001b[0m \u001b[0mu\u001b[0m \u001b[1;33m-\u001b[0m \u001b[1;36m1\u001b[0m\u001b[1;33m\u001b[0m\u001b[0m\n\u001b[0;32m    569\u001b[0m \u001b[1;33m\u001b[0m\u001b[0m\n\u001b[1;32m--> 570\u001b[1;33m     \u001b[1;32mreturn\u001b[0m \u001b[0mdmp_strip\u001b[0m\u001b[1;33m(\u001b[0m\u001b[1;33m[\u001b[0m \u001b[0mdmp_convert\u001b[0m\u001b[1;33m(\u001b[0m\u001b[0mc\u001b[0m\u001b[1;33m,\u001b[0m \u001b[0mv\u001b[0m\u001b[1;33m,\u001b[0m \u001b[0mK0\u001b[0m\u001b[1;33m,\u001b[0m \u001b[0mK1\u001b[0m\u001b[1;33m)\u001b[0m \u001b[1;32mfor\u001b[0m \u001b[0mc\u001b[0m \u001b[1;32min\u001b[0m \u001b[0mf\u001b[0m \u001b[1;33m]\u001b[0m\u001b[1;33m,\u001b[0m \u001b[0mu\u001b[0m\u001b[1;33m)\u001b[0m\u001b[1;33m\u001b[0m\u001b[0m\n\u001b[0m\u001b[0;32m    571\u001b[0m \u001b[1;33m\u001b[0m\u001b[0m\n\u001b[0;32m    572\u001b[0m \u001b[1;33m\u001b[0m\u001b[0m\n",
      "\u001b[1;32m~\\Anaconda3\\lib\\site-packages\\sympy\\polys\\densebasic.py\u001b[0m in \u001b[0;36m<listcomp>\u001b[1;34m(.0)\u001b[0m\n\u001b[0;32m    568\u001b[0m     \u001b[0mv\u001b[0m \u001b[1;33m=\u001b[0m \u001b[0mu\u001b[0m \u001b[1;33m-\u001b[0m \u001b[1;36m1\u001b[0m\u001b[1;33m\u001b[0m\u001b[0m\n\u001b[0;32m    569\u001b[0m \u001b[1;33m\u001b[0m\u001b[0m\n\u001b[1;32m--> 570\u001b[1;33m     \u001b[1;32mreturn\u001b[0m \u001b[0mdmp_strip\u001b[0m\u001b[1;33m(\u001b[0m\u001b[1;33m[\u001b[0m \u001b[0mdmp_convert\u001b[0m\u001b[1;33m(\u001b[0m\u001b[0mc\u001b[0m\u001b[1;33m,\u001b[0m \u001b[0mv\u001b[0m\u001b[1;33m,\u001b[0m \u001b[0mK0\u001b[0m\u001b[1;33m,\u001b[0m \u001b[0mK1\u001b[0m\u001b[1;33m)\u001b[0m \u001b[1;32mfor\u001b[0m \u001b[0mc\u001b[0m \u001b[1;32min\u001b[0m \u001b[0mf\u001b[0m \u001b[1;33m]\u001b[0m\u001b[1;33m,\u001b[0m \u001b[0mu\u001b[0m\u001b[1;33m)\u001b[0m\u001b[1;33m\u001b[0m\u001b[0m\n\u001b[0m\u001b[0;32m    571\u001b[0m \u001b[1;33m\u001b[0m\u001b[0m\n\u001b[0;32m    572\u001b[0m \u001b[1;33m\u001b[0m\u001b[0m\n",
      "\u001b[1;32m~\\Anaconda3\\lib\\site-packages\\sympy\\polys\\densebasic.py\u001b[0m in \u001b[0;36mdmp_convert\u001b[1;34m(f, u, K0, K1)\u001b[0m\n\u001b[0;32m    568\u001b[0m     \u001b[0mv\u001b[0m \u001b[1;33m=\u001b[0m \u001b[0mu\u001b[0m \u001b[1;33m-\u001b[0m \u001b[1;36m1\u001b[0m\u001b[1;33m\u001b[0m\u001b[0m\n\u001b[0;32m    569\u001b[0m \u001b[1;33m\u001b[0m\u001b[0m\n\u001b[1;32m--> 570\u001b[1;33m     \u001b[1;32mreturn\u001b[0m \u001b[0mdmp_strip\u001b[0m\u001b[1;33m(\u001b[0m\u001b[1;33m[\u001b[0m \u001b[0mdmp_convert\u001b[0m\u001b[1;33m(\u001b[0m\u001b[0mc\u001b[0m\u001b[1;33m,\u001b[0m \u001b[0mv\u001b[0m\u001b[1;33m,\u001b[0m \u001b[0mK0\u001b[0m\u001b[1;33m,\u001b[0m \u001b[0mK1\u001b[0m\u001b[1;33m)\u001b[0m \u001b[1;32mfor\u001b[0m \u001b[0mc\u001b[0m \u001b[1;32min\u001b[0m \u001b[0mf\u001b[0m \u001b[1;33m]\u001b[0m\u001b[1;33m,\u001b[0m \u001b[0mu\u001b[0m\u001b[1;33m)\u001b[0m\u001b[1;33m\u001b[0m\u001b[0m\n\u001b[0m\u001b[0;32m    571\u001b[0m \u001b[1;33m\u001b[0m\u001b[0m\n\u001b[0;32m    572\u001b[0m \u001b[1;33m\u001b[0m\u001b[0m\n",
      "\u001b[1;32m~\\Anaconda3\\lib\\site-packages\\sympy\\polys\\densebasic.py\u001b[0m in \u001b[0;36m<listcomp>\u001b[1;34m(.0)\u001b[0m\n\u001b[0;32m    568\u001b[0m     \u001b[0mv\u001b[0m \u001b[1;33m=\u001b[0m \u001b[0mu\u001b[0m \u001b[1;33m-\u001b[0m \u001b[1;36m1\u001b[0m\u001b[1;33m\u001b[0m\u001b[0m\n\u001b[0;32m    569\u001b[0m \u001b[1;33m\u001b[0m\u001b[0m\n\u001b[1;32m--> 570\u001b[1;33m     \u001b[1;32mreturn\u001b[0m \u001b[0mdmp_strip\u001b[0m\u001b[1;33m(\u001b[0m\u001b[1;33m[\u001b[0m \u001b[0mdmp_convert\u001b[0m\u001b[1;33m(\u001b[0m\u001b[0mc\u001b[0m\u001b[1;33m,\u001b[0m \u001b[0mv\u001b[0m\u001b[1;33m,\u001b[0m \u001b[0mK0\u001b[0m\u001b[1;33m,\u001b[0m \u001b[0mK1\u001b[0m\u001b[1;33m)\u001b[0m \u001b[1;32mfor\u001b[0m \u001b[0mc\u001b[0m \u001b[1;32min\u001b[0m \u001b[0mf\u001b[0m \u001b[1;33m]\u001b[0m\u001b[1;33m,\u001b[0m \u001b[0mu\u001b[0m\u001b[1;33m)\u001b[0m\u001b[1;33m\u001b[0m\u001b[0m\n\u001b[0m\u001b[0;32m    571\u001b[0m \u001b[1;33m\u001b[0m\u001b[0m\n\u001b[0;32m    572\u001b[0m \u001b[1;33m\u001b[0m\u001b[0m\n",
      "\u001b[1;32m~\\Anaconda3\\lib\\site-packages\\sympy\\polys\\densebasic.py\u001b[0m in \u001b[0;36mdmp_convert\u001b[1;34m(f, u, K0, K1)\u001b[0m\n\u001b[0;32m    568\u001b[0m     \u001b[0mv\u001b[0m \u001b[1;33m=\u001b[0m \u001b[0mu\u001b[0m \u001b[1;33m-\u001b[0m \u001b[1;36m1\u001b[0m\u001b[1;33m\u001b[0m\u001b[0m\n\u001b[0;32m    569\u001b[0m \u001b[1;33m\u001b[0m\u001b[0m\n\u001b[1;32m--> 570\u001b[1;33m     \u001b[1;32mreturn\u001b[0m \u001b[0mdmp_strip\u001b[0m\u001b[1;33m(\u001b[0m\u001b[1;33m[\u001b[0m \u001b[0mdmp_convert\u001b[0m\u001b[1;33m(\u001b[0m\u001b[0mc\u001b[0m\u001b[1;33m,\u001b[0m \u001b[0mv\u001b[0m\u001b[1;33m,\u001b[0m \u001b[0mK0\u001b[0m\u001b[1;33m,\u001b[0m \u001b[0mK1\u001b[0m\u001b[1;33m)\u001b[0m \u001b[1;32mfor\u001b[0m \u001b[0mc\u001b[0m \u001b[1;32min\u001b[0m \u001b[0mf\u001b[0m \u001b[1;33m]\u001b[0m\u001b[1;33m,\u001b[0m \u001b[0mu\u001b[0m\u001b[1;33m)\u001b[0m\u001b[1;33m\u001b[0m\u001b[0m\n\u001b[0m\u001b[0;32m    571\u001b[0m \u001b[1;33m\u001b[0m\u001b[0m\n\u001b[0;32m    572\u001b[0m \u001b[1;33m\u001b[0m\u001b[0m\n",
      "\u001b[1;32m~\\Anaconda3\\lib\\site-packages\\sympy\\polys\\densebasic.py\u001b[0m in \u001b[0;36m<listcomp>\u001b[1;34m(.0)\u001b[0m\n\u001b[0;32m    568\u001b[0m     \u001b[0mv\u001b[0m \u001b[1;33m=\u001b[0m \u001b[0mu\u001b[0m \u001b[1;33m-\u001b[0m \u001b[1;36m1\u001b[0m\u001b[1;33m\u001b[0m\u001b[0m\n\u001b[0;32m    569\u001b[0m \u001b[1;33m\u001b[0m\u001b[0m\n\u001b[1;32m--> 570\u001b[1;33m     \u001b[1;32mreturn\u001b[0m \u001b[0mdmp_strip\u001b[0m\u001b[1;33m(\u001b[0m\u001b[1;33m[\u001b[0m \u001b[0mdmp_convert\u001b[0m\u001b[1;33m(\u001b[0m\u001b[0mc\u001b[0m\u001b[1;33m,\u001b[0m \u001b[0mv\u001b[0m\u001b[1;33m,\u001b[0m \u001b[0mK0\u001b[0m\u001b[1;33m,\u001b[0m \u001b[0mK1\u001b[0m\u001b[1;33m)\u001b[0m \u001b[1;32mfor\u001b[0m \u001b[0mc\u001b[0m \u001b[1;32min\u001b[0m \u001b[0mf\u001b[0m \u001b[1;33m]\u001b[0m\u001b[1;33m,\u001b[0m \u001b[0mu\u001b[0m\u001b[1;33m)\u001b[0m\u001b[1;33m\u001b[0m\u001b[0m\n\u001b[0m\u001b[0;32m    571\u001b[0m \u001b[1;33m\u001b[0m\u001b[0m\n\u001b[0;32m    572\u001b[0m \u001b[1;33m\u001b[0m\u001b[0m\n",
      "\u001b[1;32m~\\Anaconda3\\lib\\site-packages\\sympy\\polys\\densebasic.py\u001b[0m in \u001b[0;36mdmp_convert\u001b[1;34m(f, u, K0, K1)\u001b[0m\n\u001b[0;32m    568\u001b[0m     \u001b[0mv\u001b[0m \u001b[1;33m=\u001b[0m \u001b[0mu\u001b[0m \u001b[1;33m-\u001b[0m \u001b[1;36m1\u001b[0m\u001b[1;33m\u001b[0m\u001b[0m\n\u001b[0;32m    569\u001b[0m \u001b[1;33m\u001b[0m\u001b[0m\n\u001b[1;32m--> 570\u001b[1;33m     \u001b[1;32mreturn\u001b[0m \u001b[0mdmp_strip\u001b[0m\u001b[1;33m(\u001b[0m\u001b[1;33m[\u001b[0m \u001b[0mdmp_convert\u001b[0m\u001b[1;33m(\u001b[0m\u001b[0mc\u001b[0m\u001b[1;33m,\u001b[0m \u001b[0mv\u001b[0m\u001b[1;33m,\u001b[0m \u001b[0mK0\u001b[0m\u001b[1;33m,\u001b[0m \u001b[0mK1\u001b[0m\u001b[1;33m)\u001b[0m \u001b[1;32mfor\u001b[0m \u001b[0mc\u001b[0m \u001b[1;32min\u001b[0m \u001b[0mf\u001b[0m \u001b[1;33m]\u001b[0m\u001b[1;33m,\u001b[0m \u001b[0mu\u001b[0m\u001b[1;33m)\u001b[0m\u001b[1;33m\u001b[0m\u001b[0m\n\u001b[0m\u001b[0;32m    571\u001b[0m \u001b[1;33m\u001b[0m\u001b[0m\n\u001b[0;32m    572\u001b[0m \u001b[1;33m\u001b[0m\u001b[0m\n",
      "\u001b[1;32m~\\Anaconda3\\lib\\site-packages\\sympy\\polys\\densebasic.py\u001b[0m in \u001b[0;36m<listcomp>\u001b[1;34m(.0)\u001b[0m\n\u001b[0;32m    568\u001b[0m     \u001b[0mv\u001b[0m \u001b[1;33m=\u001b[0m \u001b[0mu\u001b[0m \u001b[1;33m-\u001b[0m \u001b[1;36m1\u001b[0m\u001b[1;33m\u001b[0m\u001b[0m\n\u001b[0;32m    569\u001b[0m \u001b[1;33m\u001b[0m\u001b[0m\n\u001b[1;32m--> 570\u001b[1;33m     \u001b[1;32mreturn\u001b[0m \u001b[0mdmp_strip\u001b[0m\u001b[1;33m(\u001b[0m\u001b[1;33m[\u001b[0m \u001b[0mdmp_convert\u001b[0m\u001b[1;33m(\u001b[0m\u001b[0mc\u001b[0m\u001b[1;33m,\u001b[0m \u001b[0mv\u001b[0m\u001b[1;33m,\u001b[0m \u001b[0mK0\u001b[0m\u001b[1;33m,\u001b[0m \u001b[0mK1\u001b[0m\u001b[1;33m)\u001b[0m \u001b[1;32mfor\u001b[0m \u001b[0mc\u001b[0m \u001b[1;32min\u001b[0m \u001b[0mf\u001b[0m \u001b[1;33m]\u001b[0m\u001b[1;33m,\u001b[0m \u001b[0mu\u001b[0m\u001b[1;33m)\u001b[0m\u001b[1;33m\u001b[0m\u001b[0m\n\u001b[0m\u001b[0;32m    571\u001b[0m \u001b[1;33m\u001b[0m\u001b[0m\n\u001b[0;32m    572\u001b[0m \u001b[1;33m\u001b[0m\u001b[0m\n",
      "\u001b[1;32m~\\Anaconda3\\lib\\site-packages\\sympy\\polys\\densebasic.py\u001b[0m in \u001b[0;36mdmp_convert\u001b[1;34m(f, u, K0, K1)\u001b[0m\n\u001b[0;32m    568\u001b[0m     \u001b[0mv\u001b[0m \u001b[1;33m=\u001b[0m \u001b[0mu\u001b[0m \u001b[1;33m-\u001b[0m \u001b[1;36m1\u001b[0m\u001b[1;33m\u001b[0m\u001b[0m\n\u001b[0;32m    569\u001b[0m \u001b[1;33m\u001b[0m\u001b[0m\n\u001b[1;32m--> 570\u001b[1;33m     \u001b[1;32mreturn\u001b[0m \u001b[0mdmp_strip\u001b[0m\u001b[1;33m(\u001b[0m\u001b[1;33m[\u001b[0m \u001b[0mdmp_convert\u001b[0m\u001b[1;33m(\u001b[0m\u001b[0mc\u001b[0m\u001b[1;33m,\u001b[0m \u001b[0mv\u001b[0m\u001b[1;33m,\u001b[0m \u001b[0mK0\u001b[0m\u001b[1;33m,\u001b[0m \u001b[0mK1\u001b[0m\u001b[1;33m)\u001b[0m \u001b[1;32mfor\u001b[0m \u001b[0mc\u001b[0m \u001b[1;32min\u001b[0m \u001b[0mf\u001b[0m \u001b[1;33m]\u001b[0m\u001b[1;33m,\u001b[0m \u001b[0mu\u001b[0m\u001b[1;33m)\u001b[0m\u001b[1;33m\u001b[0m\u001b[0m\n\u001b[0m\u001b[0;32m    571\u001b[0m \u001b[1;33m\u001b[0m\u001b[0m\n\u001b[0;32m    572\u001b[0m \u001b[1;33m\u001b[0m\u001b[0m\n",
      "\u001b[1;32m~\\Anaconda3\\lib\\site-packages\\sympy\\polys\\densebasic.py\u001b[0m in \u001b[0;36m<listcomp>\u001b[1;34m(.0)\u001b[0m\n\u001b[0;32m    568\u001b[0m     \u001b[0mv\u001b[0m \u001b[1;33m=\u001b[0m \u001b[0mu\u001b[0m \u001b[1;33m-\u001b[0m \u001b[1;36m1\u001b[0m\u001b[1;33m\u001b[0m\u001b[0m\n\u001b[0;32m    569\u001b[0m \u001b[1;33m\u001b[0m\u001b[0m\n\u001b[1;32m--> 570\u001b[1;33m     \u001b[1;32mreturn\u001b[0m \u001b[0mdmp_strip\u001b[0m\u001b[1;33m(\u001b[0m\u001b[1;33m[\u001b[0m \u001b[0mdmp_convert\u001b[0m\u001b[1;33m(\u001b[0m\u001b[0mc\u001b[0m\u001b[1;33m,\u001b[0m \u001b[0mv\u001b[0m\u001b[1;33m,\u001b[0m \u001b[0mK0\u001b[0m\u001b[1;33m,\u001b[0m \u001b[0mK1\u001b[0m\u001b[1;33m)\u001b[0m \u001b[1;32mfor\u001b[0m \u001b[0mc\u001b[0m \u001b[1;32min\u001b[0m \u001b[0mf\u001b[0m \u001b[1;33m]\u001b[0m\u001b[1;33m,\u001b[0m \u001b[0mu\u001b[0m\u001b[1;33m)\u001b[0m\u001b[1;33m\u001b[0m\u001b[0m\n\u001b[0m\u001b[0;32m    571\u001b[0m \u001b[1;33m\u001b[0m\u001b[0m\n\u001b[0;32m    572\u001b[0m \u001b[1;33m\u001b[0m\u001b[0m\n",
      "\u001b[1;32m~\\Anaconda3\\lib\\site-packages\\sympy\\polys\\densebasic.py\u001b[0m in \u001b[0;36mdmp_convert\u001b[1;34m(f, u, K0, K1)\u001b[0m\n\u001b[0;32m    568\u001b[0m     \u001b[0mv\u001b[0m \u001b[1;33m=\u001b[0m \u001b[0mu\u001b[0m \u001b[1;33m-\u001b[0m \u001b[1;36m1\u001b[0m\u001b[1;33m\u001b[0m\u001b[0m\n\u001b[0;32m    569\u001b[0m \u001b[1;33m\u001b[0m\u001b[0m\n\u001b[1;32m--> 570\u001b[1;33m     \u001b[1;32mreturn\u001b[0m \u001b[0mdmp_strip\u001b[0m\u001b[1;33m(\u001b[0m\u001b[1;33m[\u001b[0m \u001b[0mdmp_convert\u001b[0m\u001b[1;33m(\u001b[0m\u001b[0mc\u001b[0m\u001b[1;33m,\u001b[0m \u001b[0mv\u001b[0m\u001b[1;33m,\u001b[0m \u001b[0mK0\u001b[0m\u001b[1;33m,\u001b[0m \u001b[0mK1\u001b[0m\u001b[1;33m)\u001b[0m \u001b[1;32mfor\u001b[0m \u001b[0mc\u001b[0m \u001b[1;32min\u001b[0m \u001b[0mf\u001b[0m \u001b[1;33m]\u001b[0m\u001b[1;33m,\u001b[0m \u001b[0mu\u001b[0m\u001b[1;33m)\u001b[0m\u001b[1;33m\u001b[0m\u001b[0m\n\u001b[0m\u001b[0;32m    571\u001b[0m \u001b[1;33m\u001b[0m\u001b[0m\n\u001b[0;32m    572\u001b[0m \u001b[1;33m\u001b[0m\u001b[0m\n",
      "\u001b[1;32m~\\Anaconda3\\lib\\site-packages\\sympy\\polys\\densebasic.py\u001b[0m in \u001b[0;36m<listcomp>\u001b[1;34m(.0)\u001b[0m\n\u001b[0;32m    568\u001b[0m     \u001b[0mv\u001b[0m \u001b[1;33m=\u001b[0m \u001b[0mu\u001b[0m \u001b[1;33m-\u001b[0m \u001b[1;36m1\u001b[0m\u001b[1;33m\u001b[0m\u001b[0m\n\u001b[0;32m    569\u001b[0m \u001b[1;33m\u001b[0m\u001b[0m\n\u001b[1;32m--> 570\u001b[1;33m     \u001b[1;32mreturn\u001b[0m \u001b[0mdmp_strip\u001b[0m\u001b[1;33m(\u001b[0m\u001b[1;33m[\u001b[0m \u001b[0mdmp_convert\u001b[0m\u001b[1;33m(\u001b[0m\u001b[0mc\u001b[0m\u001b[1;33m,\u001b[0m \u001b[0mv\u001b[0m\u001b[1;33m,\u001b[0m \u001b[0mK0\u001b[0m\u001b[1;33m,\u001b[0m \u001b[0mK1\u001b[0m\u001b[1;33m)\u001b[0m \u001b[1;32mfor\u001b[0m \u001b[0mc\u001b[0m \u001b[1;32min\u001b[0m \u001b[0mf\u001b[0m \u001b[1;33m]\u001b[0m\u001b[1;33m,\u001b[0m \u001b[0mu\u001b[0m\u001b[1;33m)\u001b[0m\u001b[1;33m\u001b[0m\u001b[0m\n\u001b[0m\u001b[0;32m    571\u001b[0m \u001b[1;33m\u001b[0m\u001b[0m\n\u001b[0;32m    572\u001b[0m \u001b[1;33m\u001b[0m\u001b[0m\n",
      "\u001b[1;32m~\\Anaconda3\\lib\\site-packages\\sympy\\polys\\densebasic.py\u001b[0m in \u001b[0;36mdmp_convert\u001b[1;34m(f, u, K0, K1)\u001b[0m\n\u001b[0;32m    568\u001b[0m     \u001b[0mv\u001b[0m \u001b[1;33m=\u001b[0m \u001b[0mu\u001b[0m \u001b[1;33m-\u001b[0m \u001b[1;36m1\u001b[0m\u001b[1;33m\u001b[0m\u001b[0m\n\u001b[0;32m    569\u001b[0m \u001b[1;33m\u001b[0m\u001b[0m\n\u001b[1;32m--> 570\u001b[1;33m     \u001b[1;32mreturn\u001b[0m \u001b[0mdmp_strip\u001b[0m\u001b[1;33m(\u001b[0m\u001b[1;33m[\u001b[0m \u001b[0mdmp_convert\u001b[0m\u001b[1;33m(\u001b[0m\u001b[0mc\u001b[0m\u001b[1;33m,\u001b[0m \u001b[0mv\u001b[0m\u001b[1;33m,\u001b[0m \u001b[0mK0\u001b[0m\u001b[1;33m,\u001b[0m \u001b[0mK1\u001b[0m\u001b[1;33m)\u001b[0m \u001b[1;32mfor\u001b[0m \u001b[0mc\u001b[0m \u001b[1;32min\u001b[0m \u001b[0mf\u001b[0m \u001b[1;33m]\u001b[0m\u001b[1;33m,\u001b[0m \u001b[0mu\u001b[0m\u001b[1;33m)\u001b[0m\u001b[1;33m\u001b[0m\u001b[0m\n\u001b[0m\u001b[0;32m    571\u001b[0m \u001b[1;33m\u001b[0m\u001b[0m\n\u001b[0;32m    572\u001b[0m \u001b[1;33m\u001b[0m\u001b[0m\n",
      "\u001b[1;32m~\\Anaconda3\\lib\\site-packages\\sympy\\polys\\densebasic.py\u001b[0m in \u001b[0;36m<listcomp>\u001b[1;34m(.0)\u001b[0m\n\u001b[0;32m    568\u001b[0m     \u001b[0mv\u001b[0m \u001b[1;33m=\u001b[0m \u001b[0mu\u001b[0m \u001b[1;33m-\u001b[0m \u001b[1;36m1\u001b[0m\u001b[1;33m\u001b[0m\u001b[0m\n\u001b[0;32m    569\u001b[0m \u001b[1;33m\u001b[0m\u001b[0m\n\u001b[1;32m--> 570\u001b[1;33m     \u001b[1;32mreturn\u001b[0m \u001b[0mdmp_strip\u001b[0m\u001b[1;33m(\u001b[0m\u001b[1;33m[\u001b[0m \u001b[0mdmp_convert\u001b[0m\u001b[1;33m(\u001b[0m\u001b[0mc\u001b[0m\u001b[1;33m,\u001b[0m \u001b[0mv\u001b[0m\u001b[1;33m,\u001b[0m \u001b[0mK0\u001b[0m\u001b[1;33m,\u001b[0m \u001b[0mK1\u001b[0m\u001b[1;33m)\u001b[0m \u001b[1;32mfor\u001b[0m \u001b[0mc\u001b[0m \u001b[1;32min\u001b[0m \u001b[0mf\u001b[0m \u001b[1;33m]\u001b[0m\u001b[1;33m,\u001b[0m \u001b[0mu\u001b[0m\u001b[1;33m)\u001b[0m\u001b[1;33m\u001b[0m\u001b[0m\n\u001b[0m\u001b[0;32m    571\u001b[0m \u001b[1;33m\u001b[0m\u001b[0m\n\u001b[0;32m    572\u001b[0m \u001b[1;33m\u001b[0m\u001b[0m\n",
      "\u001b[1;32m~\\Anaconda3\\lib\\site-packages\\sympy\\polys\\densebasic.py\u001b[0m in \u001b[0;36mdmp_convert\u001b[1;34m(f, u, K0, K1)\u001b[0m\n\u001b[0;32m    568\u001b[0m     \u001b[0mv\u001b[0m \u001b[1;33m=\u001b[0m \u001b[0mu\u001b[0m \u001b[1;33m-\u001b[0m \u001b[1;36m1\u001b[0m\u001b[1;33m\u001b[0m\u001b[0m\n\u001b[0;32m    569\u001b[0m \u001b[1;33m\u001b[0m\u001b[0m\n\u001b[1;32m--> 570\u001b[1;33m     \u001b[1;32mreturn\u001b[0m \u001b[0mdmp_strip\u001b[0m\u001b[1;33m(\u001b[0m\u001b[1;33m[\u001b[0m \u001b[0mdmp_convert\u001b[0m\u001b[1;33m(\u001b[0m\u001b[0mc\u001b[0m\u001b[1;33m,\u001b[0m \u001b[0mv\u001b[0m\u001b[1;33m,\u001b[0m \u001b[0mK0\u001b[0m\u001b[1;33m,\u001b[0m \u001b[0mK1\u001b[0m\u001b[1;33m)\u001b[0m \u001b[1;32mfor\u001b[0m \u001b[0mc\u001b[0m \u001b[1;32min\u001b[0m \u001b[0mf\u001b[0m \u001b[1;33m]\u001b[0m\u001b[1;33m,\u001b[0m \u001b[0mu\u001b[0m\u001b[1;33m)\u001b[0m\u001b[1;33m\u001b[0m\u001b[0m\n\u001b[0m\u001b[0;32m    571\u001b[0m \u001b[1;33m\u001b[0m\u001b[0m\n\u001b[0;32m    572\u001b[0m \u001b[1;33m\u001b[0m\u001b[0m\n",
      "\u001b[1;32m~\\Anaconda3\\lib\\site-packages\\sympy\\polys\\densebasic.py\u001b[0m in \u001b[0;36m<listcomp>\u001b[1;34m(.0)\u001b[0m\n\u001b[0;32m    568\u001b[0m     \u001b[0mv\u001b[0m \u001b[1;33m=\u001b[0m \u001b[0mu\u001b[0m \u001b[1;33m-\u001b[0m \u001b[1;36m1\u001b[0m\u001b[1;33m\u001b[0m\u001b[0m\n\u001b[0;32m    569\u001b[0m \u001b[1;33m\u001b[0m\u001b[0m\n\u001b[1;32m--> 570\u001b[1;33m     \u001b[1;32mreturn\u001b[0m \u001b[0mdmp_strip\u001b[0m\u001b[1;33m(\u001b[0m\u001b[1;33m[\u001b[0m \u001b[0mdmp_convert\u001b[0m\u001b[1;33m(\u001b[0m\u001b[0mc\u001b[0m\u001b[1;33m,\u001b[0m \u001b[0mv\u001b[0m\u001b[1;33m,\u001b[0m \u001b[0mK0\u001b[0m\u001b[1;33m,\u001b[0m \u001b[0mK1\u001b[0m\u001b[1;33m)\u001b[0m \u001b[1;32mfor\u001b[0m \u001b[0mc\u001b[0m \u001b[1;32min\u001b[0m \u001b[0mf\u001b[0m \u001b[1;33m]\u001b[0m\u001b[1;33m,\u001b[0m \u001b[0mu\u001b[0m\u001b[1;33m)\u001b[0m\u001b[1;33m\u001b[0m\u001b[0m\n\u001b[0m\u001b[0;32m    571\u001b[0m \u001b[1;33m\u001b[0m\u001b[0m\n\u001b[0;32m    572\u001b[0m \u001b[1;33m\u001b[0m\u001b[0m\n",
      "\u001b[1;32m~\\Anaconda3\\lib\\site-packages\\sympy\\polys\\densebasic.py\u001b[0m in \u001b[0;36mdmp_convert\u001b[1;34m(f, u, K0, K1)\u001b[0m\n\u001b[0;32m    568\u001b[0m     \u001b[0mv\u001b[0m \u001b[1;33m=\u001b[0m \u001b[0mu\u001b[0m \u001b[1;33m-\u001b[0m \u001b[1;36m1\u001b[0m\u001b[1;33m\u001b[0m\u001b[0m\n\u001b[0;32m    569\u001b[0m \u001b[1;33m\u001b[0m\u001b[0m\n\u001b[1;32m--> 570\u001b[1;33m     \u001b[1;32mreturn\u001b[0m \u001b[0mdmp_strip\u001b[0m\u001b[1;33m(\u001b[0m\u001b[1;33m[\u001b[0m \u001b[0mdmp_convert\u001b[0m\u001b[1;33m(\u001b[0m\u001b[0mc\u001b[0m\u001b[1;33m,\u001b[0m \u001b[0mv\u001b[0m\u001b[1;33m,\u001b[0m \u001b[0mK0\u001b[0m\u001b[1;33m,\u001b[0m \u001b[0mK1\u001b[0m\u001b[1;33m)\u001b[0m \u001b[1;32mfor\u001b[0m \u001b[0mc\u001b[0m \u001b[1;32min\u001b[0m \u001b[0mf\u001b[0m \u001b[1;33m]\u001b[0m\u001b[1;33m,\u001b[0m \u001b[0mu\u001b[0m\u001b[1;33m)\u001b[0m\u001b[1;33m\u001b[0m\u001b[0m\n\u001b[0m\u001b[0;32m    571\u001b[0m \u001b[1;33m\u001b[0m\u001b[0m\n\u001b[0;32m    572\u001b[0m \u001b[1;33m\u001b[0m\u001b[0m\n",
      "\u001b[1;32m~\\Anaconda3\\lib\\site-packages\\sympy\\polys\\densebasic.py\u001b[0m in \u001b[0;36m<listcomp>\u001b[1;34m(.0)\u001b[0m\n\u001b[0;32m    568\u001b[0m     \u001b[0mv\u001b[0m \u001b[1;33m=\u001b[0m \u001b[0mu\u001b[0m \u001b[1;33m-\u001b[0m \u001b[1;36m1\u001b[0m\u001b[1;33m\u001b[0m\u001b[0m\n\u001b[0;32m    569\u001b[0m \u001b[1;33m\u001b[0m\u001b[0m\n\u001b[1;32m--> 570\u001b[1;33m     \u001b[1;32mreturn\u001b[0m \u001b[0mdmp_strip\u001b[0m\u001b[1;33m(\u001b[0m\u001b[1;33m[\u001b[0m \u001b[0mdmp_convert\u001b[0m\u001b[1;33m(\u001b[0m\u001b[0mc\u001b[0m\u001b[1;33m,\u001b[0m \u001b[0mv\u001b[0m\u001b[1;33m,\u001b[0m \u001b[0mK0\u001b[0m\u001b[1;33m,\u001b[0m \u001b[0mK1\u001b[0m\u001b[1;33m)\u001b[0m \u001b[1;32mfor\u001b[0m \u001b[0mc\u001b[0m \u001b[1;32min\u001b[0m \u001b[0mf\u001b[0m \u001b[1;33m]\u001b[0m\u001b[1;33m,\u001b[0m \u001b[0mu\u001b[0m\u001b[1;33m)\u001b[0m\u001b[1;33m\u001b[0m\u001b[0m\n\u001b[0m\u001b[0;32m    571\u001b[0m \u001b[1;33m\u001b[0m\u001b[0m\n\u001b[0;32m    572\u001b[0m \u001b[1;33m\u001b[0m\u001b[0m\n",
      "\u001b[1;32m~\\Anaconda3\\lib\\site-packages\\sympy\\polys\\densebasic.py\u001b[0m in \u001b[0;36mdmp_convert\u001b[1;34m(f, u, K0, K1)\u001b[0m\n\u001b[0;32m    568\u001b[0m     \u001b[0mv\u001b[0m \u001b[1;33m=\u001b[0m \u001b[0mu\u001b[0m \u001b[1;33m-\u001b[0m \u001b[1;36m1\u001b[0m\u001b[1;33m\u001b[0m\u001b[0m\n\u001b[0;32m    569\u001b[0m \u001b[1;33m\u001b[0m\u001b[0m\n\u001b[1;32m--> 570\u001b[1;33m     \u001b[1;32mreturn\u001b[0m \u001b[0mdmp_strip\u001b[0m\u001b[1;33m(\u001b[0m\u001b[1;33m[\u001b[0m \u001b[0mdmp_convert\u001b[0m\u001b[1;33m(\u001b[0m\u001b[0mc\u001b[0m\u001b[1;33m,\u001b[0m \u001b[0mv\u001b[0m\u001b[1;33m,\u001b[0m \u001b[0mK0\u001b[0m\u001b[1;33m,\u001b[0m \u001b[0mK1\u001b[0m\u001b[1;33m)\u001b[0m \u001b[1;32mfor\u001b[0m \u001b[0mc\u001b[0m \u001b[1;32min\u001b[0m \u001b[0mf\u001b[0m \u001b[1;33m]\u001b[0m\u001b[1;33m,\u001b[0m \u001b[0mu\u001b[0m\u001b[1;33m)\u001b[0m\u001b[1;33m\u001b[0m\u001b[0m\n\u001b[0m\u001b[0;32m    571\u001b[0m \u001b[1;33m\u001b[0m\u001b[0m\n\u001b[0;32m    572\u001b[0m \u001b[1;33m\u001b[0m\u001b[0m\n",
      "\u001b[1;32m~\\Anaconda3\\lib\\site-packages\\sympy\\polys\\densebasic.py\u001b[0m in \u001b[0;36m<listcomp>\u001b[1;34m(.0)\u001b[0m\n\u001b[0;32m    568\u001b[0m     \u001b[0mv\u001b[0m \u001b[1;33m=\u001b[0m \u001b[0mu\u001b[0m \u001b[1;33m-\u001b[0m \u001b[1;36m1\u001b[0m\u001b[1;33m\u001b[0m\u001b[0m\n\u001b[0;32m    569\u001b[0m \u001b[1;33m\u001b[0m\u001b[0m\n\u001b[1;32m--> 570\u001b[1;33m     \u001b[1;32mreturn\u001b[0m \u001b[0mdmp_strip\u001b[0m\u001b[1;33m(\u001b[0m\u001b[1;33m[\u001b[0m \u001b[0mdmp_convert\u001b[0m\u001b[1;33m(\u001b[0m\u001b[0mc\u001b[0m\u001b[1;33m,\u001b[0m \u001b[0mv\u001b[0m\u001b[1;33m,\u001b[0m \u001b[0mK0\u001b[0m\u001b[1;33m,\u001b[0m \u001b[0mK1\u001b[0m\u001b[1;33m)\u001b[0m \u001b[1;32mfor\u001b[0m \u001b[0mc\u001b[0m \u001b[1;32min\u001b[0m \u001b[0mf\u001b[0m \u001b[1;33m]\u001b[0m\u001b[1;33m,\u001b[0m \u001b[0mu\u001b[0m\u001b[1;33m)\u001b[0m\u001b[1;33m\u001b[0m\u001b[0m\n\u001b[0m\u001b[0;32m    571\u001b[0m \u001b[1;33m\u001b[0m\u001b[0m\n\u001b[0;32m    572\u001b[0m \u001b[1;33m\u001b[0m\u001b[0m\n",
      "\u001b[1;32m~\\Anaconda3\\lib\\site-packages\\sympy\\polys\\densebasic.py\u001b[0m in \u001b[0;36mdmp_convert\u001b[1;34m(f, u, K0, K1)\u001b[0m\n\u001b[0;32m    568\u001b[0m     \u001b[0mv\u001b[0m \u001b[1;33m=\u001b[0m \u001b[0mu\u001b[0m \u001b[1;33m-\u001b[0m \u001b[1;36m1\u001b[0m\u001b[1;33m\u001b[0m\u001b[0m\n\u001b[0;32m    569\u001b[0m \u001b[1;33m\u001b[0m\u001b[0m\n\u001b[1;32m--> 570\u001b[1;33m     \u001b[1;32mreturn\u001b[0m \u001b[0mdmp_strip\u001b[0m\u001b[1;33m(\u001b[0m\u001b[1;33m[\u001b[0m \u001b[0mdmp_convert\u001b[0m\u001b[1;33m(\u001b[0m\u001b[0mc\u001b[0m\u001b[1;33m,\u001b[0m \u001b[0mv\u001b[0m\u001b[1;33m,\u001b[0m \u001b[0mK0\u001b[0m\u001b[1;33m,\u001b[0m \u001b[0mK1\u001b[0m\u001b[1;33m)\u001b[0m \u001b[1;32mfor\u001b[0m \u001b[0mc\u001b[0m \u001b[1;32min\u001b[0m \u001b[0mf\u001b[0m \u001b[1;33m]\u001b[0m\u001b[1;33m,\u001b[0m \u001b[0mu\u001b[0m\u001b[1;33m)\u001b[0m\u001b[1;33m\u001b[0m\u001b[0m\n\u001b[0m\u001b[0;32m    571\u001b[0m \u001b[1;33m\u001b[0m\u001b[0m\n\u001b[0;32m    572\u001b[0m \u001b[1;33m\u001b[0m\u001b[0m\n",
      "\u001b[1;32m~\\Anaconda3\\lib\\site-packages\\sympy\\polys\\densebasic.py\u001b[0m in \u001b[0;36m<listcomp>\u001b[1;34m(.0)\u001b[0m\n\u001b[0;32m    568\u001b[0m     \u001b[0mv\u001b[0m \u001b[1;33m=\u001b[0m \u001b[0mu\u001b[0m \u001b[1;33m-\u001b[0m \u001b[1;36m1\u001b[0m\u001b[1;33m\u001b[0m\u001b[0m\n\u001b[0;32m    569\u001b[0m \u001b[1;33m\u001b[0m\u001b[0m\n\u001b[1;32m--> 570\u001b[1;33m     \u001b[1;32mreturn\u001b[0m \u001b[0mdmp_strip\u001b[0m\u001b[1;33m(\u001b[0m\u001b[1;33m[\u001b[0m \u001b[0mdmp_convert\u001b[0m\u001b[1;33m(\u001b[0m\u001b[0mc\u001b[0m\u001b[1;33m,\u001b[0m \u001b[0mv\u001b[0m\u001b[1;33m,\u001b[0m \u001b[0mK0\u001b[0m\u001b[1;33m,\u001b[0m \u001b[0mK1\u001b[0m\u001b[1;33m)\u001b[0m \u001b[1;32mfor\u001b[0m \u001b[0mc\u001b[0m \u001b[1;32min\u001b[0m \u001b[0mf\u001b[0m \u001b[1;33m]\u001b[0m\u001b[1;33m,\u001b[0m \u001b[0mu\u001b[0m\u001b[1;33m)\u001b[0m\u001b[1;33m\u001b[0m\u001b[0m\n\u001b[0m\u001b[0;32m    571\u001b[0m \u001b[1;33m\u001b[0m\u001b[0m\n\u001b[0;32m    572\u001b[0m \u001b[1;33m\u001b[0m\u001b[0m\n",
      "\u001b[1;32m~\\Anaconda3\\lib\\site-packages\\sympy\\polys\\densebasic.py\u001b[0m in \u001b[0;36mdmp_convert\u001b[1;34m(f, u, K0, K1)\u001b[0m\n\u001b[0;32m    568\u001b[0m     \u001b[0mv\u001b[0m \u001b[1;33m=\u001b[0m \u001b[0mu\u001b[0m \u001b[1;33m-\u001b[0m \u001b[1;36m1\u001b[0m\u001b[1;33m\u001b[0m\u001b[0m\n\u001b[0;32m    569\u001b[0m \u001b[1;33m\u001b[0m\u001b[0m\n\u001b[1;32m--> 570\u001b[1;33m     \u001b[1;32mreturn\u001b[0m \u001b[0mdmp_strip\u001b[0m\u001b[1;33m(\u001b[0m\u001b[1;33m[\u001b[0m \u001b[0mdmp_convert\u001b[0m\u001b[1;33m(\u001b[0m\u001b[0mc\u001b[0m\u001b[1;33m,\u001b[0m \u001b[0mv\u001b[0m\u001b[1;33m,\u001b[0m \u001b[0mK0\u001b[0m\u001b[1;33m,\u001b[0m \u001b[0mK1\u001b[0m\u001b[1;33m)\u001b[0m \u001b[1;32mfor\u001b[0m \u001b[0mc\u001b[0m \u001b[1;32min\u001b[0m \u001b[0mf\u001b[0m \u001b[1;33m]\u001b[0m\u001b[1;33m,\u001b[0m \u001b[0mu\u001b[0m\u001b[1;33m)\u001b[0m\u001b[1;33m\u001b[0m\u001b[0m\n\u001b[0m\u001b[0;32m    571\u001b[0m \u001b[1;33m\u001b[0m\u001b[0m\n\u001b[0;32m    572\u001b[0m \u001b[1;33m\u001b[0m\u001b[0m\n",
      "\u001b[1;32m~\\Anaconda3\\lib\\site-packages\\sympy\\polys\\densebasic.py\u001b[0m in \u001b[0;36m<listcomp>\u001b[1;34m(.0)\u001b[0m\n\u001b[0;32m    568\u001b[0m     \u001b[0mv\u001b[0m \u001b[1;33m=\u001b[0m \u001b[0mu\u001b[0m \u001b[1;33m-\u001b[0m \u001b[1;36m1\u001b[0m\u001b[1;33m\u001b[0m\u001b[0m\n\u001b[0;32m    569\u001b[0m \u001b[1;33m\u001b[0m\u001b[0m\n\u001b[1;32m--> 570\u001b[1;33m     \u001b[1;32mreturn\u001b[0m \u001b[0mdmp_strip\u001b[0m\u001b[1;33m(\u001b[0m\u001b[1;33m[\u001b[0m \u001b[0mdmp_convert\u001b[0m\u001b[1;33m(\u001b[0m\u001b[0mc\u001b[0m\u001b[1;33m,\u001b[0m \u001b[0mv\u001b[0m\u001b[1;33m,\u001b[0m \u001b[0mK0\u001b[0m\u001b[1;33m,\u001b[0m \u001b[0mK1\u001b[0m\u001b[1;33m)\u001b[0m \u001b[1;32mfor\u001b[0m \u001b[0mc\u001b[0m \u001b[1;32min\u001b[0m \u001b[0mf\u001b[0m \u001b[1;33m]\u001b[0m\u001b[1;33m,\u001b[0m \u001b[0mu\u001b[0m\u001b[1;33m)\u001b[0m\u001b[1;33m\u001b[0m\u001b[0m\n\u001b[0m\u001b[0;32m    571\u001b[0m \u001b[1;33m\u001b[0m\u001b[0m\n\u001b[0;32m    572\u001b[0m \u001b[1;33m\u001b[0m\u001b[0m\n",
      "\u001b[1;32m~\\Anaconda3\\lib\\site-packages\\sympy\\polys\\densebasic.py\u001b[0m in \u001b[0;36mdmp_convert\u001b[1;34m(f, u, K0, K1)\u001b[0m\n\u001b[0;32m    568\u001b[0m     \u001b[0mv\u001b[0m \u001b[1;33m=\u001b[0m \u001b[0mu\u001b[0m \u001b[1;33m-\u001b[0m \u001b[1;36m1\u001b[0m\u001b[1;33m\u001b[0m\u001b[0m\n\u001b[0;32m    569\u001b[0m \u001b[1;33m\u001b[0m\u001b[0m\n\u001b[1;32m--> 570\u001b[1;33m     \u001b[1;32mreturn\u001b[0m \u001b[0mdmp_strip\u001b[0m\u001b[1;33m(\u001b[0m\u001b[1;33m[\u001b[0m \u001b[0mdmp_convert\u001b[0m\u001b[1;33m(\u001b[0m\u001b[0mc\u001b[0m\u001b[1;33m,\u001b[0m \u001b[0mv\u001b[0m\u001b[1;33m,\u001b[0m \u001b[0mK0\u001b[0m\u001b[1;33m,\u001b[0m \u001b[0mK1\u001b[0m\u001b[1;33m)\u001b[0m \u001b[1;32mfor\u001b[0m \u001b[0mc\u001b[0m \u001b[1;32min\u001b[0m \u001b[0mf\u001b[0m \u001b[1;33m]\u001b[0m\u001b[1;33m,\u001b[0m \u001b[0mu\u001b[0m\u001b[1;33m)\u001b[0m\u001b[1;33m\u001b[0m\u001b[0m\n\u001b[0m\u001b[0;32m    571\u001b[0m \u001b[1;33m\u001b[0m\u001b[0m\n\u001b[0;32m    572\u001b[0m \u001b[1;33m\u001b[0m\u001b[0m\n",
      "\u001b[1;32m~\\Anaconda3\\lib\\site-packages\\sympy\\polys\\densebasic.py\u001b[0m in \u001b[0;36mdmp_strip\u001b[1;34m(f, u)\u001b[0m\n\u001b[0;32m    310\u001b[0m         \u001b[1;32mreturn\u001b[0m \u001b[0mdmp_zero\u001b[0m\u001b[1;33m(\u001b[0m\u001b[0mu\u001b[0m\u001b[1;33m)\u001b[0m\u001b[1;33m\u001b[0m\u001b[0m\n\u001b[0;32m    311\u001b[0m     \u001b[1;32melse\u001b[0m\u001b[1;33m:\u001b[0m\u001b[1;33m\u001b[0m\u001b[0m\n\u001b[1;32m--> 312\u001b[1;33m         \u001b[1;32mreturn\u001b[0m \u001b[0mf\u001b[0m\u001b[1;33m[\u001b[0m\u001b[0mi\u001b[0m\u001b[1;33m:\u001b[0m\u001b[1;33m]\u001b[0m\u001b[1;33m\u001b[0m\u001b[0m\n\u001b[0m\u001b[0;32m    313\u001b[0m \u001b[1;33m\u001b[0m\u001b[0m\n\u001b[0;32m    314\u001b[0m \u001b[1;33m\u001b[0m\u001b[0m\n",
      "\u001b[1;31mKeyboardInterrupt\u001b[0m: "
     ]
    }
   ],
   "source": [
    "G0 = GrobAdd_Buchberger(list(G),lin_fcns[0])\n",
    "for g in G0:\n",
    "    print(g)"
   ]
  },
  {
   "cell_type": "code",
   "execution_count": null,
   "metadata": {
    "collapsed": true
   },
   "outputs": [],
   "source": []
  }
 ],
 "metadata": {
  "kernelspec": {
   "display_name": "Python 3",
   "language": "python",
   "name": "python3"
  },
  "language_info": {
   "codemirror_mode": {
    "name": "ipython",
    "version": 3
   },
   "file_extension": ".py",
   "mimetype": "text/x-python",
   "name": "python",
   "nbconvert_exporter": "python",
   "pygments_lexer": "ipython3",
   "version": "3.6.3"
  }
 },
 "nbformat": 4,
 "nbformat_minor": 2
}
