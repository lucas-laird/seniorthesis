{
 "cells": [
  {
   "cell_type": "code",
   "execution_count": 19,
   "metadata": {
    "collapsed": true
   },
   "outputs": [],
   "source": [
    "import numpy as np\n",
    "from sympy import *\n",
    "from math import floor\n",
    "import time"
   ]
  },
  {
   "cell_type": "code",
   "execution_count": 2,
   "metadata": {
    "collapsed": true
   },
   "outputs": [],
   "source": [
    "def create_polys(k,a):\n",
    "    #Setup polynomial system for H_k,a without knowing what R is\n",
    "    variable_string = 'z1'\n",
    "    for i in range(1,k*a):\n",
    "        variable_string = variable_string +',z{} '.format(i+1)\n",
    "    z = var(variable_string)\n",
    "    P = []\n",
    "    f = 0\n",
    "    for i in range(k):\n",
    "        Pi = []\n",
    "        func = 0\n",
    "        func2 = 0\n",
    "        for j in range(0,a):\n",
    "            Pi.append(z[i*a+j]*(z[i*a+j]-1)*(z[i*a+j]+1)) #1st condition zi*(zi-1)*(zi+1)\n",
    "            func= func + z[i*a+j]**2\n",
    "            func2 = func2 + z[i*a+j]\n",
    "            f = f + z[i*a+j]**2 #f so that sum(zi**2) neq 0\n",
    "        func = (2-func)*(func)\n",
    "        Pi.append(func)\n",
    "        Pi.append(func2)\n",
    "        P.append(Pi)\n",
    "    fs = [f-2*i for i in range(1,k+1)]\n",
    "    return(P,fs,z)"
   ]
  },
  {
   "cell_type": "code",
   "execution_count": 17,
   "metadata": {
    "collapsed": true
   },
   "outputs": [],
   "source": [
    "P,fs,z = create_polys(4,3)\n",
    "a = 3\n",
    "k = 4"
   ]
  },
  {
   "cell_type": "markdown",
   "metadata": {},
   "source": [
    "Test 1:  \n",
    "Does G(P) = G(P_1) U G(P_2)..."
   ]
  },
  {
   "cell_type": "code",
   "execution_count": 8,
   "metadata": {},
   "outputs": [
    {
     "name": "stdout",
     "output_type": "stream",
     "text": [
      "z1 + z2 + z3\n",
      "z2**3 - z2\n",
      "z2**2*z3 + z2*z3**2\n",
      "z3**3 - z3\n",
      "z4 + z5 + z6\n",
      "z5**3 - z5\n",
      "z5**2*z6 + z5*z6**2\n",
      "z6**3 - z6\n",
      "z7 + z8 + z9\n",
      "z8**3 - z8\n",
      "z8**2*z9 + z8*z9**2\n",
      "z9**3 - z9\n",
      "z10 + z11 + z12\n",
      "z11**3 - z11\n",
      "z11**2*z12 + z11*z12**2\n",
      "z12**3 - z12\n"
     ]
    }
   ],
   "source": [
    "all_P = []\n",
    "for p in P:\n",
    "    for f in p:\n",
    "        all_P.append(f)\n",
    "G = groebner(all_P,order = 'lex')\n",
    "for g in list(G):\n",
    "    print(g)"
   ]
  },
  {
   "cell_type": "code",
   "execution_count": 10,
   "metadata": {},
   "outputs": [
    {
     "name": "stdout",
     "output_type": "stream",
     "text": [
      "z1 + z2 + z3\n",
      "z2**3 - z2\n",
      "z2**2*z3 + z2*z3**2\n",
      "z3**3 - z3\n",
      "z4 + z5 + z6\n",
      "z5**3 - z5\n",
      "z5**2*z6 + z5*z6**2\n",
      "z6**3 - z6\n",
      "z7 + z8 + z9\n",
      "z8**3 - z8\n",
      "z8**2*z9 + z8*z9**2\n",
      "z9**3 - z9\n",
      "z10 + z11 + z12\n",
      "z11**3 - z11\n",
      "z11**2*z12 + z11*z12**2\n",
      "z12**3 - z12\n"
     ]
    }
   ],
   "source": [
    "G_list = []\n",
    "for p in P:\n",
    "    temp = groebner(p,order = 'lex')\n",
    "    G_list.append(list(temp))\n",
    "for g in G_list:\n",
    "    for f in g:\n",
    "        print(f)"
   ]
  },
  {
   "cell_type": "markdown",
   "metadata": {},
   "source": [
    "Results: Yes the Groebner basis is the same either way."
   ]
  },
  {
   "cell_type": "markdown",
   "metadata": {},
   "source": [
    "Test 2: Is G(P_1) = G(P_2) with a change of variables?"
   ]
  },
  {
   "cell_type": "code",
   "execution_count": 13,
   "metadata": {
    "collapsed": true
   },
   "outputs": [],
   "source": [
    "P1 = P[0]\n",
    "P2 = P[1]\n",
    "G1 = groebner(P1,order = 'lex')\n",
    "G2 = groebner(P2,order = 'lex')\n",
    "test_G2 = []\n",
    "replacements = [(z[i],z[a+i]) for i in range(a)]\n",
    "for g in list(G1):\n",
    "    temp = g.subs(replacements)\n",
    "    test_G2.append(temp)"
   ]
  },
  {
   "cell_type": "code",
   "execution_count": 15,
   "metadata": {},
   "outputs": [
    {
     "name": "stdout",
     "output_type": "stream",
     "text": [
      "True Groebner Basis\n",
      "z4 + z5 + z6\n",
      "z5**3 - z5\n",
      "z5**2*z6 + z5*z6**2\n",
      "z6**3 - z6\n",
      "Substituted version\n",
      "z4 + z5 + z6\n",
      "z5**3 - z5\n",
      "z5**2*z6 + z5*z6**2\n",
      "z6**3 - z6\n"
     ]
    }
   ],
   "source": [
    "print('True Groebner Basis')\n",
    "for g in list(G2):\n",
    "    print(g)\n",
    "print('Substituted version')\n",
    "for g in test_G2:\n",
    "    print(g)"
   ]
  },
  {
   "cell_type": "markdown",
   "metadata": {},
   "source": [
    "Results: Yes G(P_1) = G(P_2) just changing z1->z(a+1) z2->z(a+2) and so on."
   ]
  },
  {
   "cell_type": "markdown",
   "metadata": {},
   "source": [
    "Test 3:  \n",
    "Is G(P) = G(P_1) U G(P_2) U ... U G(P_k) if we use the substitution instead of actually computing G(P_i) for all i?"
   ]
  },
  {
   "cell_type": "code",
   "execution_count": 16,
   "metadata": {},
   "outputs": [
    {
     "name": "stdout",
     "output_type": "stream",
     "text": [
      "z1 + z2 + z3\n",
      "z2**3 - z2\n",
      "z2**2*z3 + z2*z3**2\n",
      "z3**3 - z3\n",
      "z4 + z5 + z6\n",
      "z5**3 - z5\n",
      "z5**2*z6 + z5*z6**2\n",
      "z6**3 - z6\n",
      "z7 + z8 + z9\n",
      "z8**3 - z8\n",
      "z8**2*z9 + z8*z9**2\n",
      "z9**3 - z9\n",
      "z10 + z11 + z12\n",
      "z11**3 - z11\n",
      "z11**2*z12 + z11*z12**2\n",
      "z12**3 - z12\n"
     ]
    }
   ],
   "source": [
    "G = groebner(all_P,order = 'lex')\n",
    "for g in list(G):\n",
    "    print(g)"
   ]
  },
  {
   "cell_type": "code",
   "execution_count": 18,
   "metadata": {},
   "outputs": [
    {
     "name": "stdout",
     "output_type": "stream",
     "text": [
      "z1 + z2 + z3\n",
      "z2**3 - z2\n",
      "z2**2*z3 + z2*z3**2\n",
      "z3**3 - z3\n",
      "z4 + z5 + z6\n",
      "z5**3 - z5\n",
      "z5**2*z6 + z5*z6**2\n",
      "z6**3 - z6\n",
      "z7 + z8 + z9\n",
      "z8**3 - z8\n",
      "z8**2*z9 + z8*z9**2\n",
      "z9**3 - z9\n",
      "z10 + z11 + z12\n",
      "z11**3 - z11\n",
      "z11**2*z12 + z11*z12**2\n",
      "z12**3 - z12\n"
     ]
    }
   ],
   "source": [
    "G0 = groebner(P[0],order = 'lex')\n",
    "G_list = [G0]\n",
    "for i in range(1,k):\n",
    "    replacements = [(z[j],z[a*i+j]) for j in range(a)]\n",
    "    temp_base = []\n",
    "    for g in G0:\n",
    "        temp_fcn = g.subs(replacements)\n",
    "        temp_base.append(temp_fcn)\n",
    "    G_list.append(temp_base)\n",
    "\n",
    "for g in G_list:\n",
    "    for f in g:\n",
    "        print(f)"
   ]
  },
  {
   "cell_type": "markdown",
   "metadata": {},
   "source": [
    "Results: Yes this approach works."
   ]
  },
  {
   "cell_type": "markdown",
   "metadata": {
    "collapsed": true
   },
   "source": [
    "Time tests"
   ]
  },
  {
   "cell_type": "code",
   "execution_count": 21,
   "metadata": {},
   "outputs": [],
   "source": [
    "k = 7\n",
    "a = 4\n",
    "P,fs,z = create_polys(k,a)\n",
    "all_P = []\n",
    "for p in P:\n",
    "    for f in p:\n",
    "        all_P.append(f)"
   ]
  },
  {
   "cell_type": "code",
   "execution_count": 24,
   "metadata": {},
   "outputs": [
    {
     "name": "stdout",
     "output_type": "stream",
     "text": [
      "Time taken: 0.46 seconds\n"
     ]
    }
   ],
   "source": [
    "start = time.time()\n",
    "G = groebner(all_P,order = 'lex')\n",
    "end = time.time()\n",
    "print('Time taken: {:.2f} seconds'.format(end-start))"
   ]
  },
  {
   "cell_type": "code",
   "execution_count": 25,
   "metadata": {},
   "outputs": [
    {
     "name": "stdout",
     "output_type": "stream",
     "text": [
      "Time taken: 0.07 seconds\n"
     ]
    }
   ],
   "source": [
    "start = time.time()\n",
    "G0 = groebner(P[0],order = 'lex')\n",
    "G0 = list(G0)\n",
    "G = [g for g in G0]\n",
    "for i in range(1,k):\n",
    "    replacements = [(z[j],z[a*i+j]) for j in range(a)]\n",
    "    for g in G0:\n",
    "        G.append(g.subs(replacements))\n",
    "end = time.time()\n",
    "print('Time taken: {:.2f} seconds'.format(end-start))"
   ]
  },
  {
   "cell_type": "code",
   "execution_count": 26,
   "metadata": {
    "collapsed": true
   },
   "outputs": [],
   "source": [
    "def spoly(f1,f2,order = 'lex'):\n",
    "    LM1 = LM(f1,order = order)\n",
    "    LT1 = LT(f1,order = order)\n",
    "    LM2 = LM(f2,order = order)\n",
    "    LT2 = LT(f2,order = order)\n",
    "    numerator = lcm(LM1,LM2)\n",
    "    S = numerator/LT1*f1 - numerator/LT2 * f2\n",
    "    return(expand(S))\n",
    "\n",
    "def minimize_GBasis(G, order = 'lex'):\n",
    "    for i,g in enumerate(G):\n",
    "        G[i] = g/LC(g,order = order)\n",
    "    n = len(G)\n",
    "    G2 = []\n",
    "    for g in G:\n",
    "        H = [f for f in G]\n",
    "        H.remove(g)\n",
    "        H = [LT(f,order = order) for f in H]\n",
    "        LTg = LT(g,order = order)\n",
    "        q,r = reduced(LTg, H, order = order)\n",
    "        if not r == 0:\n",
    "            G2.append(g)\n",
    "    return(G2)\n",
    "\n",
    "def reduce_GBasis(G, order = 'lex'):\n",
    "    G = minimize_GBasis(G, order = order)\n",
    "    for i,g in enumerate(G):\n",
    "        H = [f for f in G if not f == g]\n",
    "        q,r = reduced(g,H, order = order)\n",
    "        G[i] = r\n",
    "    return(G)\n",
    "\n",
    "def GrobAdd_Buchberger(G,f, order = 'lex'):\n",
    "    Q = [f]\n",
    "    while len(Q) > 0:\n",
    "        g = Q.pop(0)\n",
    "        for g2 in G: \n",
    "            S = spoly(g, g2, order = order)\n",
    "            q,r = reduced(S,G,order = order)\n",
    "            if not r == 0: \n",
    "                Q.append(r)\n",
    "        G.append(f)\n",
    "    G = reduce_GBasis(G,order = order)\n",
    "    return(G)"
   ]
  },
  {
   "cell_type": "code",
   "execution_count": 27,
   "metadata": {
    "collapsed": true
   },
   "outputs": [],
   "source": [
    "k = 7\n",
    "a = 4\n",
    "P,fs,z = create_polys(k,a)\n",
    "all_P = []\n",
    "for p in P:\n",
    "    for f in p:\n",
    "        all_P.append(f)"
   ]
  },
  {
   "cell_type": "code",
   "execution_count": null,
   "metadata": {
    "collapsed": true
   },
   "outputs": [],
   "source": []
  }
 ],
 "metadata": {
  "kernelspec": {
   "display_name": "Python 3",
   "language": "python",
   "name": "python3"
  },
  "language_info": {
   "codemirror_mode": {
    "name": "ipython",
    "version": 3
   },
   "file_extension": ".py",
   "mimetype": "text/x-python",
   "name": "python",
   "nbconvert_exporter": "python",
   "pygments_lexer": "ipython3",
   "version": "3.6.3"
  }
 },
 "nbformat": 4,
 "nbformat_minor": 2
}
