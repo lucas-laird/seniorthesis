{
 "cells": [
  {
   "cell_type": "code",
   "execution_count": 2,
   "metadata": {
    "collapsed": true
   },
   "outputs": [],
   "source": [
    "import numpy as np\n",
    "from sympy import *"
   ]
  },
  {
   "cell_type": "markdown",
   "metadata": {},
   "source": [
    "Computing S-Polynomials"
   ]
  },
  {
   "cell_type": "code",
   "execution_count": 3,
   "metadata": {
    "collapsed": true
   },
   "outputs": [],
   "source": [
    "def spoly(f1,f2,order = 'lex'):\n",
    "    LM1 = LM(f1,order = order)\n",
    "    LT1 = LT(f1,order = order)\n",
    "    LM2 = LM(f2,order = order)\n",
    "    LT2 = LT(f2,order = order)\n",
    "    numerator = lcm(LM1,LM2)\n",
    "    S = numerator/LT1*f1 - numerator/LT2 * f2\n",
    "    return(expand(S))"
   ]
  },
  {
   "cell_type": "markdown",
   "metadata": {},
   "source": [
    "Example"
   ]
  },
  {
   "cell_type": "code",
   "execution_count": 4,
   "metadata": {},
   "outputs": [
    {
     "name": "stdout",
     "output_type": "stream",
     "text": [
      "5*x**2*y**3/2 + 2*x*y**2/3 - y**3/3\n"
     ]
    }
   ],
   "source": [
    "x,y = var('x,y')\n",
    "f1 = 3*(x**3)*y + 2*x*y - y**2\n",
    "f2 = 2*x*(y**2)-5*y**3\n",
    "print(spoly(f1,f2,order = 'lex'))"
   ]
  },
  {
   "cell_type": "markdown",
   "metadata": {},
   "source": [
    "Computing Groebner Basis using Buchberger's Algorithm"
   ]
  },
  {
   "cell_type": "code",
   "execution_count": 5,
   "metadata": {
    "collapsed": true
   },
   "outputs": [],
   "source": [
    "def GBasis_BuchAlg(F,order = 'lex'):\n",
    "    Q = [g for g in F]\n",
    "    while len(Q) > 0:\n",
    "        g = Q.pop(0)\n",
    "        temp = [f for f in F if not f == g]\n",
    "        for f in temp:\n",
    "            S = spoly(g,f, order = order)\n",
    "            q,r = reduced(S, F, order = order)\n",
    "            if not r == 0:\n",
    "                F.append(r)\n",
    "                Q.append(r)\n",
    "    return(F)"
   ]
  },
  {
   "cell_type": "markdown",
   "metadata": {},
   "source": [
    "Examples"
   ]
  },
  {
   "cell_type": "code",
   "execution_count": 6,
   "metadata": {},
   "outputs": [
    {
     "name": "stdout",
     "output_type": "stream",
     "text": [
      "[x*y - x, x**2 - y, y**2 - y]\n"
     ]
    }
   ],
   "source": [
    "x,y = var('x,y')\n",
    "F = [x*y-x, x**2-y]\n",
    "G = GBasis_BuchAlg(F, order = 'lex')\n",
    "print(G)"
   ]
  },
  {
   "cell_type": "code",
   "execution_count": 7,
   "metadata": {},
   "outputs": [
    {
     "name": "stdout",
     "output_type": "stream",
     "text": [
      "[2*x**2 - 4*x + y**2 - 4*y + 3, x**2 - 2*x + 3*y**2 - 12*y + 9, -5*y**2/2 + 10*y - 15/2]\n"
     ]
    }
   ],
   "source": [
    "x,y = var('x,y')\n",
    "F = [2*x**2-4*x+y**2-4*y+3, x**2-2*x+3*y**2-12*y+9]\n",
    "G = GBasis_BuchAlg(F, order = 'lex')\n",
    "print(G)"
   ]
  },
  {
   "cell_type": "code",
   "execution_count": 8,
   "metadata": {},
   "outputs": [
    {
     "name": "stdout",
     "output_type": "stream",
     "text": [
      "[-x**2 + x*y**3, x**3*y**2 - y, -x**4 + y**2, -x*y + y**4]\n"
     ]
    }
   ],
   "source": [
    "x,y = var('x,y')\n",
    "F = [-x**2+x*y**3, x**3*y**2 - y]\n",
    "G = GBasis_BuchAlg(F,order = 'grlex')\n",
    "print(G)"
   ]
  },
  {
   "cell_type": "markdown",
   "metadata": {},
   "source": [
    "Minimizing Groebner Basis"
   ]
  },
  {
   "cell_type": "code",
   "execution_count": 9,
   "metadata": {
    "collapsed": true
   },
   "outputs": [],
   "source": [
    "def minimize_GBasis(G, order = 'lex'):\n",
    "    for i,g in enumerate(G):\n",
    "        G[i] = g/LC(g,order = order)\n",
    "    n = len(G)\n",
    "    G2 = []\n",
    "    for g in G:\n",
    "        H = [f for f in G]\n",
    "        H.remove(g)\n",
    "        H = [LT(f,order = order) for f in H]\n",
    "        LTg = LT(g,order = order)\n",
    "        q,r = reduced(LTg, H, order = order)\n",
    "        if not r == 0:\n",
    "            G2.append(g)\n",
    "    return(G2)\n",
    "        \n",
    "            "
   ]
  },
  {
   "cell_type": "markdown",
   "metadata": {},
   "source": [
    "Examples"
   ]
  },
  {
   "cell_type": "code",
   "execution_count": 10,
   "metadata": {},
   "outputs": [
    {
     "name": "stdout",
     "output_type": "stream",
     "text": [
      "[x**2, -x/2 + y**2, x*y]\n"
     ]
    }
   ],
   "source": [
    "x,y = var('x,y')\n",
    "F = [x**3 - 2*x*y, x**2*y-2*y**2 + x]\n",
    "G = GBasis_BuchAlg(F, order = 'grlex')\n",
    "MG = minimize_GBasis(G,order = 'grlex')\n",
    "print(MG)"
   ]
  },
  {
   "cell_type": "markdown",
   "metadata": {},
   "source": [
    "Reducing Groebner Basis"
   ]
  },
  {
   "cell_type": "code",
   "execution_count": 11,
   "metadata": {
    "collapsed": true
   },
   "outputs": [],
   "source": [
    "def reduce_GBasis(G, order = 'lex'):\n",
    "    G = minimize_GBasis(G, order = order)\n",
    "    for i,g in enumerate(G):\n",
    "        H = [f for f in G if not f == g]\n",
    "        q,r = reduced(g,H, order = order)\n",
    "        G[i] = r\n",
    "    return(G)"
   ]
  },
  {
   "cell_type": "code",
   "execution_count": 12,
   "metadata": {},
   "outputs": [
    {
     "name": "stdout",
     "output_type": "stream",
     "text": [
      "[x**2, -x/2 + y**2, x*y]\n",
      "[x**2, x*y, -x/2 + y**2]\n"
     ]
    }
   ],
   "source": [
    "x,y = var('x,y')\n",
    "F = [x**3 - 2*x*y, x**2*y-2*y**2 + x]\n",
    "G = GBasis_BuchAlg(F, order = 'grlex')\n",
    "RG = reduce_GBasis(G,order = 'grlex')\n",
    "print(RG)\n",
    "SG = groebner(F, order = 'grlex')\n",
    "print(list(SG))"
   ]
  },
  {
   "cell_type": "markdown",
   "metadata": {},
   "source": [
    "Putting it all together"
   ]
  },
  {
   "cell_type": "code",
   "execution_count": 13,
   "metadata": {
    "collapsed": true
   },
   "outputs": [],
   "source": [
    "def GrobAdd_Buchberger(G,f, order = 'lex'):\n",
    "    G.append(f)\n",
    "    Q = [f]\n",
    "    while len(Q) > 0:\n",
    "        g = Q.pop(0)\n",
    "        temp = [f for f in G if not f == g]\n",
    "        for f in temp: \n",
    "            S = spoly(g, f, order = order)\n",
    "            q,r = reduced(S,G,order = order)\n",
    "            if not r == 0: \n",
    "                G.append(r)\n",
    "                Q.append(r)\n",
    "    G = reduce_GBasis(G,order = order)\n",
    "    return(G)"
   ]
  },
  {
   "cell_type": "code",
   "execution_count": 15,
   "metadata": {},
   "outputs": [
    {
     "name": "stdout",
     "output_type": "stream",
     "text": [
      "[x - 2*y**2, y**3]\n",
      "[x - 2*y**2, y**3]\n",
      "[x - 2*y**2, y**3]\n"
     ]
    }
   ],
   "source": [
    "x,y = var('x,y')\n",
    "F = [x**3 - 2*x*y, x**2*y-2*y**2 + x]\n",
    "G = groebner(F,order = 'lex')\n",
    "G = list(G)\n",
    "print(G)\n",
    "f = x**2 - x*y**2 + x**2*y**3\n",
    "test = GrobAdd_Buchberger(G,f,order = 'lex')\n",
    "print(test)\n",
    "F.append(f)\n",
    "test = groebner(F,order = 'lex')\n",
    "print(list(test))"
   ]
  },
  {
   "cell_type": "code",
   "execution_count": null,
   "metadata": {
    "collapsed": true
   },
   "outputs": [],
   "source": []
  }
 ],
 "metadata": {
  "kernelspec": {
   "display_name": "Python 3",
   "language": "python",
   "name": "python3"
  },
  "language_info": {
   "codemirror_mode": {
    "name": "ipython",
    "version": 3
   },
   "file_extension": ".py",
   "mimetype": "text/x-python",
   "name": "python",
   "nbconvert_exporter": "python",
   "pygments_lexer": "ipython3",
   "version": "3.6.3"
  }
 },
 "nbformat": 4,
 "nbformat_minor": 2
}
