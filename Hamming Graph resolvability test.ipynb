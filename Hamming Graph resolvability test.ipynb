{
 "cells": [
  {
   "cell_type": "code",
   "execution_count": 1,
   "metadata": {},
   "outputs": [],
   "source": [
    "import numpy as np\n",
    "from sympy import *\n",
    "from math import floor\n",
    "import time"
   ]
  },
  {
   "cell_type": "code",
   "execution_count": null,
   "metadata": {},
   "outputs": [],
   "source": []
  },
  {
   "cell_type": "code",
   "execution_count": 2,
   "metadata": {},
   "outputs": [],
   "source": [
    "#Useful functions for both Hypercubes and general Hamming graphs\n",
    "def read_sets(filename):\n",
    "    #Read in the sets of a file\n",
    "    results = []\n",
    "    with open(filename,'r') as f:\n",
    "        for line in f.read().splitlines():\n",
    "            results.append(line.split(','))\n",
    "    return(results)\n",
    "\n",
    "def make_linearEqns(A,z):\n",
    "    #Takes matrix A and variable list z and converts it into a list of linear equations\n",
    "    z = Matrix(z)\n",
    "    A = Matrix(A)\n",
    "    A = A.rref()[0]\n",
    "    lin_fcns = A*z\n",
    "    return(list(lin_fcns))"
   ]
  },
  {
   "cell_type": "code",
   "execution_count": 3,
   "metadata": {},
   "outputs": [],
   "source": [
    "#Hypercube functions\n",
    "def apply_automorphism(R):\n",
    "    #Applies automorphism so that r1 = 0^k (Not useful for non-hypercubes)\n",
    "    position = [i for i,r in enumerate(R[0]) if r == '0']\n",
    "    R_new = [r for r in R]\n",
    "    for j,r in enumerate(R_new):\n",
    "        temp = list(r)\n",
    "        for i in position:\n",
    "            if temp[i] == '1':\n",
    "                temp[i] = '0'\n",
    "            else:\n",
    "                temp[i] = '1'\n",
    "        R_new[j] = ''.join(temp)\n",
    "    return(R_new)\n",
    "\n",
    "def hypercube_matrix(R):\n",
    "    A = np.zeros((len(R),len(R[0])))\n",
    "    for i,r in enumerate(R):\n",
    "        for j,letter in enumerate(r):\n",
    "            A[i,j] = int(letter)\n",
    "    return(A)\n",
    "\n",
    "def hypercube_polys(k):\n",
    "    variable_string = ''\n",
    "    for i in range(1,k+1):\n",
    "        variable_string = variable_string +'z{},'.format(i)\n",
    "    variable_string = variable_string[:-1]\n",
    "    z = var(variable_string)\n",
    "    P = []\n",
    "    f = 0\n",
    "    for i in range(k):\n",
    "        P.append(z[i]*(z[i]-1)*(z[i]+1))\n",
    "        f = f + z[i]**2\n",
    "    fs = []\n",
    "    for i in range(floor(k/2)):\n",
    "        fi = f-2*(i+1)\n",
    "        fs.append(fi)\n",
    "    return(P,fs,z)\n",
    "\n",
    "def check_hcube_resolving(R,k):\n",
    "    #Convert R so that r1 = 1^k\n",
    "    R = apply_automorphism(R)\n",
    "    #Create matrix A from automorphized R\n",
    "    A = hypercube_matrix(R)\n",
    "    #Get polynomial functions and variables for H_k,2\n",
    "    P,fs,z = hypercube_polys(k)\n",
    "    #Get linear functions from A matrix\n",
    "    lin_fcns = make_linearEqns(A,z)\n",
    "    #Get Grobner basis of P and linear functions\n",
    "    G = groebner(P+lin_fcns,order = 'lex')\n",
    "    for i,fi in enumerate(fs):\n",
    "        #Compute Grobner basis of G+fi\n",
    "        Gi = groebner(list(G)+[fi],order = 'lex')\n",
    "        #Solutions iff Gi neq 1, if Gi neq 1 then R is not resolving\n",
    "        if not (list(Gi) == [1]):\n",
    "            return False\n",
    "    return True\n",
    "    "
   ]
  },
  {
   "cell_type": "code",
   "execution_count": 4,
   "metadata": {},
   "outputs": [],
   "source": [
    "def OneHot(R,k,a,alphabet = None):\n",
    "    #Converts list of strings to list of one-hot encodings\n",
    "    if alphabet == None:\n",
    "        temp = [str(i) for i in range(a)]\n",
    "        alphabet = ''.join(temp)\n",
    "    encodings = []\n",
    "    for r in R:\n",
    "        encoding = np.zeros((a,k))\n",
    "        for i in range(k):\n",
    "            for j,letter in enumerate(alphabet):\n",
    "                if r[i] == letter:\n",
    "                    encoding[j,i] = 1\n",
    "        encodings.append(encoding)\n",
    "    return(encodings)\n",
    "\n",
    "def create_polys(k,a):\n",
    "    #Setup polynomial system for H_k,a without knowing what R is\n",
    "    variable_string = 'z1'\n",
    "    for i in range(1,k*a):\n",
    "        variable_string = variable_string +',z{} '.format(i+1)\n",
    "    z = var(variable_string)\n",
    "    P = []\n",
    "    f = 0\n",
    "    for i in range(k):\n",
    "        func = 0\n",
    "        #func2 = 0\n",
    "        for j in range(0,a):\n",
    "            P.append(z[i*a+j]*(z[i*a+j]-1)*(z[i*a+j]+1)) #1st condition zi*(zi-1)*(zi+1)\n",
    "            func= func + z[i*a+j]**2\n",
    "            #func2 = func2 + z[i*a+j]\n",
    "            f = f + z[i*a+j]**2 #f so that sum(zi**2) neq 0\n",
    "        func = (2-func)*(func)\n",
    "        P.append(func)\n",
    "        #P.append(func2)\n",
    "    \n",
    "    fs = [f-2*i for i in range(1,k+1)]\n",
    "    return(P,fs,z)\n",
    "    \n",
    "def make_matrix(R,k,a):\n",
    "    #Converts list of one-hot encodings to the linear system\n",
    "    temp = [r.flatten('F') for r in R]\n",
    "    for i in range(k):\n",
    "        added_row = np.zeros(k*a)\n",
    "        for j in range(a):\n",
    "            #This is the 2nd condition where sum(zi)_i*a+1^i*a+a = 0\n",
    "            added_row[i*a+j] = 1\n",
    "        temp.append(list(added_row))\n",
    "    return(np.array(temp,dtype = int))\n",
    "\n",
    "def check_resolving(R,k,a,alphabet = None):\n",
    "    (P,fs,z) = create_polys(k,a)\n",
    "    OH_encodedR = OneHot(R,k,a)\n",
    "    A = make_matrix(OH_encodedR,k,a)\n",
    "    lin_fcns = make_linearEqns(A,z)\n",
    "    G = groebner(P+lin_fcns,order = 'lex')\n",
    "    for fi in fs:\n",
    "        Gi = groebner(list(G)+[fi],order = 'lex')\n",
    "        if not (list(Gi) == [1]):\n",
    "            return False\n",
    "    return True\n"
   ]
  },
  {
   "cell_type": "code",
   "execution_count": 5,
   "metadata": {},
   "outputs": [
    {
     "name": "stdout",
     "output_type": "stream",
     "text": [
      "Set 1 is not resolving\n",
      "Set 2 is not resolving\n",
      "Set 3 is resolving\n",
      "Set 4 is resolving\n",
      "Set 5 is not resolving\n",
      "Set 6 is resolving\n",
      "Set 7 is resolving\n",
      "Set 8 is not resolving\n"
     ]
    }
   ],
   "source": [
    "#Simplified Hypercube approach test\n",
    "sets = read_sets('Test_Sets/H_2_8.txt')\n",
    "is_resolving = []\n",
    "for i,R in enumerate(sets):\n",
    "    resolve = check_hcube_resolving(R,8)\n",
    "    is_resolving.append(resolve)\n",
    "for i,r in enumerate(is_resolving):\n",
    "    if r:\n",
    "        print('Set {} is resolving'.format(i+1))\n",
    "    else:\n",
    "        print('Set {} is not resolving'.format(i+1))"
   ]
  },
  {
   "cell_type": "code",
   "execution_count": 17,
   "metadata": {},
   "outputs": [
    {
     "name": "stdout",
     "output_type": "stream",
     "text": [
      "Set 1 is not resolving\n",
      "Set 2 is not resolving\n",
      "Set 3 is resolving\n",
      "Set 4 is resolving\n",
      "Set 5 is not resolving\n",
      "Set 6 is resolving\n",
      "Set 7 is resolving\n",
      "Set 8 is not resolving\n"
     ]
    }
   ],
   "source": [
    "#Checking if general approach produces same results as above\n",
    "sets = read_sets('Test_Sets/H_2_8.txt')\n",
    "is_resolving = []\n",
    "for i,R in enumerate(sets):\n",
    "    resolve = check_resolving(R,8,2)\n",
    "    is_resolving.append(resolve)\n",
    "for i,r in enumerate(is_resolving):\n",
    "    if r:\n",
    "        print('Set {} is resolving'.format(i+1))\n",
    "    else:\n",
    "        print('Set {} is not resolving'.format(i+1))"
   ]
  },
  {
   "cell_type": "code",
   "execution_count": 18,
   "metadata": {},
   "outputs": [
    {
     "name": "stdout",
     "output_type": "stream",
     "text": [
      "Set 1 is resolving\n",
      "Set 2 is not resolving\n",
      "Set 3 is not resolving\n",
      "Set 4 is resolving\n",
      "Set 5 is resolving\n",
      "Set 6 is resolving\n",
      "Set 7 is not resolving\n",
      "Set 8 is not resolving\n"
     ]
    }
   ],
   "source": [
    "#Simplified Hypercube approach test\n",
    "sets = read_sets('Test_Sets/H_2_12.txt')\n",
    "is_resolving = []\n",
    "for i,R in enumerate(sets):\n",
    "    resolve = check_hcube_resolving(R,12)\n",
    "    is_resolving.append(resolve)\n",
    "for i,r in enumerate(is_resolving):\n",
    "    if r:\n",
    "        print('Set {} is resolving'.format(i+1))\n",
    "    else:\n",
    "        print('Set {} is not resolving'.format(i+1))"
   ]
  },
  {
   "cell_type": "code",
   "execution_count": 19,
   "metadata": {},
   "outputs": [
    {
     "name": "stdout",
     "output_type": "stream",
     "text": [
      "Set 1 is resolving\n",
      "Set 2 is not resolving\n",
      "Set 3 is not resolving\n",
      "Set 4 is resolving\n",
      "Set 5 is resolving\n",
      "Set 6 is resolving\n",
      "Set 7 is not resolving\n",
      "Set 8 is not resolving\n"
     ]
    }
   ],
   "source": [
    "#Checking if general approach produces same results as above\n",
    "sets = read_sets('Test_Sets/H_2_12.txt')\n",
    "is_resolving = []\n",
    "for i,R in enumerate(sets):\n",
    "    k = len(R[0])\n",
    "    resolve = check_resolving(R,k,2)\n",
    "    is_resolving.append(resolve)\n",
    "for i,r in enumerate(is_resolving):\n",
    "    if r:\n",
    "        print('Set {} is resolving'.format(i+1))\n",
    "    else:\n",
    "        print('Set {} is not resolving'.format(i+1))"
   ]
  },
  {
   "cell_type": "code",
   "execution_count": 10,
   "metadata": {},
   "outputs": [
    {
     "name": "stdout",
     "output_type": "stream",
     "text": [
      "Set 1 is resolving\n",
      "Set 2 is resolving\n",
      "Set 3 is resolving\n",
      "Set 4 is not resolving\n",
      "Set 5 is not resolving\n",
      "Set 6 is not resolving\n",
      "Set 7 is resolving\n",
      "Set 8 is not resolving\n",
      "Total Time: 1.19 seconds\n",
      "Average time: 0.15 seconds\n"
     ]
    }
   ],
   "source": [
    "#Using NON-IMPROVED ALGORITHM\n",
    "sets = read_sets('Test_Sets/H_3_5.txt')\n",
    "is_resolving = []\n",
    "time_total = 0\n",
    "num_sets = 0\n",
    "for i,R in enumerate(sets):\n",
    "    start = time.time()\n",
    "    resolve = check_resolving(R,5,3)\n",
    "    is_resolving.append(resolve)\n",
    "    end = time.time()\n",
    "    time_total = time_total + end-start\n",
    "    num_sets = num_sets+1\n",
    "\n",
    "avg_time = time_total/num_sets\n",
    "for i,r in enumerate(is_resolving):\n",
    "    if r:\n",
    "        print('Set {} is resolving'.format(i+1))\n",
    "    else:\n",
    "        print('Set {} is not resolving'.format(i+1))\n",
    "print('Total Time: {:.2f} seconds'.format(time_total))\n",
    "print('Average time: {:.2f} seconds'.format(avg_time))"
   ]
  },
  {
   "cell_type": "code",
   "execution_count": 13,
   "metadata": {},
   "outputs": [
    {
     "name": "stdout",
     "output_type": "stream",
     "text": [
      "[z1, z2, z3, z15 + z4, z5, -z15 + z6, -z15 + z7, z15 + z8, z9, z10, z11, z12, z13, z14 + z15, z15**3 - z15]\n"
     ]
    }
   ],
   "source": [
    "sets = read_sets('Test_Sets/H_3_5.txt')\n",
    "R = sets[3]\n",
    "a = 3\n",
    "k = 5\n",
    "P,fs,z = create_polys(5,3)\n",
    "G = groebner(P, order = 'lex')\n",
    "OH_encodedR = OneHot(R,k,a)\n",
    "A = make_matrix(OH_encodedR,k,a)\n",
    "lin_fcns = make_linearEqns(A,z)\n",
    "G = groebner(P+lin_fcns, order = 'lex')\n",
    "print(list(G))"
   ]
  },
  {
   "cell_type": "code",
   "execution_count": 9,
   "metadata": {},
   "outputs": [
    {
     "name": "stdout",
     "output_type": "stream",
     "text": [
      "Set 1 is resolving\n",
      "Set 2 is not resolving\n",
      "Set 3 is not resolving\n",
      "Set 4 is not resolving\n",
      "Set 5 is resolving\n",
      "Set 6 is resolving\n",
      "Set 7 is resolving\n",
      "Set 8 is not resolving\n",
      "Total Time: 2.68 seconds\n",
      "Average time: 0.33 seconds\n"
     ]
    }
   ],
   "source": [
    "sets = read_sets('Test_Sets/H_4_4.txt')\n",
    "is_resolving = []\n",
    "time_total = 0\n",
    "num_sets = 0\n",
    "for i,R in enumerate(sets):\n",
    "    start = time.time()\n",
    "    resolve = check_resolving(R,4,4)\n",
    "    is_resolving.append(resolve)\n",
    "    end = time.time()\n",
    "    time_total = time_total + end-start\n",
    "    num_sets = num_sets+1\n",
    "avg_time = time_total/num_sets\n",
    "for i,r in enumerate(is_resolving):\n",
    "    if r:\n",
    "        print('Set {} is resolving'.format(i+1))\n",
    "    else:\n",
    "        print('Set {} is not resolving'.format(i+1))\n",
    "print('Total Time: {:.2f} seconds'.format(time_total))\n",
    "print('Average time: {:.2f} seconds'.format(avg_time))"
   ]
  },
  {
   "cell_type": "code",
   "execution_count": 5,
   "metadata": {},
   "outputs": [
    {
     "ename": "KeyboardInterrupt",
     "evalue": "",
     "output_type": "error",
     "traceback": [
      "\u001b[1;31m---------------------------------------------------------------------------\u001b[0m",
      "\u001b[1;31mKeyboardInterrupt\u001b[0m                         Traceback (most recent call last)",
      "\u001b[1;32m<ipython-input-5-5149dd687ba8>\u001b[0m in \u001b[0;36m<module>\u001b[1;34m\u001b[0m\n\u001b[0;32m      5\u001b[0m \u001b[1;32mfor\u001b[0m \u001b[0mi\u001b[0m\u001b[1;33m,\u001b[0m\u001b[0mR\u001b[0m \u001b[1;32min\u001b[0m \u001b[0menumerate\u001b[0m\u001b[1;33m(\u001b[0m\u001b[0msets\u001b[0m\u001b[1;33m)\u001b[0m\u001b[1;33m:\u001b[0m\u001b[1;33m\u001b[0m\u001b[1;33m\u001b[0m\u001b[0m\n\u001b[0;32m      6\u001b[0m     \u001b[0mstart\u001b[0m \u001b[1;33m=\u001b[0m \u001b[0mtime\u001b[0m\u001b[1;33m.\u001b[0m\u001b[0mtime\u001b[0m\u001b[1;33m(\u001b[0m\u001b[1;33m)\u001b[0m\u001b[1;33m\u001b[0m\u001b[1;33m\u001b[0m\u001b[0m\n\u001b[1;32m----> 7\u001b[1;33m     \u001b[0mresolve\u001b[0m \u001b[1;33m=\u001b[0m \u001b[0mcheck_resolving\u001b[0m\u001b[1;33m(\u001b[0m\u001b[0mR\u001b[0m\u001b[1;33m,\u001b[0m\u001b[1;36m6\u001b[0m\u001b[1;33m,\u001b[0m\u001b[1;36m3\u001b[0m\u001b[1;33m)\u001b[0m\u001b[1;33m\u001b[0m\u001b[1;33m\u001b[0m\u001b[0m\n\u001b[0m\u001b[0;32m      8\u001b[0m     \u001b[0mis_resolving\u001b[0m\u001b[1;33m.\u001b[0m\u001b[0mappend\u001b[0m\u001b[1;33m(\u001b[0m\u001b[0mresolve\u001b[0m\u001b[1;33m)\u001b[0m\u001b[1;33m\u001b[0m\u001b[1;33m\u001b[0m\u001b[0m\n\u001b[0;32m      9\u001b[0m     \u001b[0mend\u001b[0m \u001b[1;33m=\u001b[0m \u001b[0mtime\u001b[0m\u001b[1;33m.\u001b[0m\u001b[0mtime\u001b[0m\u001b[1;33m(\u001b[0m\u001b[1;33m)\u001b[0m\u001b[1;33m\u001b[0m\u001b[1;33m\u001b[0m\u001b[0m\n",
      "\u001b[1;32m<ipython-input-4-f1416e11bb5e>\u001b[0m in \u001b[0;36mcheck_resolving\u001b[1;34m(R, k, a, alphabet)\u001b[0m\n\u001b[0;32m     53\u001b[0m     \u001b[0mA\u001b[0m \u001b[1;33m=\u001b[0m \u001b[0mmake_matrix\u001b[0m\u001b[1;33m(\u001b[0m\u001b[0mOH_encodedR\u001b[0m\u001b[1;33m,\u001b[0m\u001b[0mk\u001b[0m\u001b[1;33m,\u001b[0m\u001b[0ma\u001b[0m\u001b[1;33m)\u001b[0m\u001b[1;33m\u001b[0m\u001b[1;33m\u001b[0m\u001b[0m\n\u001b[0;32m     54\u001b[0m     \u001b[0mlin_fcns\u001b[0m \u001b[1;33m=\u001b[0m \u001b[0mmake_linearEqns\u001b[0m\u001b[1;33m(\u001b[0m\u001b[0mA\u001b[0m\u001b[1;33m,\u001b[0m\u001b[0mz\u001b[0m\u001b[1;33m)\u001b[0m\u001b[1;33m\u001b[0m\u001b[1;33m\u001b[0m\u001b[0m\n\u001b[1;32m---> 55\u001b[1;33m     \u001b[0mG\u001b[0m \u001b[1;33m=\u001b[0m \u001b[0mgroebner\u001b[0m\u001b[1;33m(\u001b[0m\u001b[0mP\u001b[0m\u001b[1;33m+\u001b[0m\u001b[0mlin_fcns\u001b[0m\u001b[1;33m,\u001b[0m\u001b[0morder\u001b[0m \u001b[1;33m=\u001b[0m \u001b[1;34m'lex'\u001b[0m\u001b[1;33m)\u001b[0m\u001b[1;33m\u001b[0m\u001b[1;33m\u001b[0m\u001b[0m\n\u001b[0m\u001b[0;32m     56\u001b[0m     \u001b[1;32mfor\u001b[0m \u001b[0mfi\u001b[0m \u001b[1;32min\u001b[0m \u001b[0mfs\u001b[0m\u001b[1;33m:\u001b[0m\u001b[1;33m\u001b[0m\u001b[1;33m\u001b[0m\u001b[0m\n\u001b[0;32m     57\u001b[0m         \u001b[0mGi\u001b[0m \u001b[1;33m=\u001b[0m \u001b[0mgroebner\u001b[0m\u001b[1;33m(\u001b[0m\u001b[0mlist\u001b[0m\u001b[1;33m(\u001b[0m\u001b[0mG\u001b[0m\u001b[1;33m)\u001b[0m\u001b[1;33m+\u001b[0m\u001b[1;33m[\u001b[0m\u001b[0mfi\u001b[0m\u001b[1;33m]\u001b[0m\u001b[1;33m,\u001b[0m\u001b[0morder\u001b[0m \u001b[1;33m=\u001b[0m \u001b[1;34m'lex'\u001b[0m\u001b[1;33m)\u001b[0m\u001b[1;33m\u001b[0m\u001b[1;33m\u001b[0m\u001b[0m\n",
      "\u001b[1;32m~\\Anaconda3\\lib\\site-packages\\sympy\\polys\\polytools.py\u001b[0m in \u001b[0;36mgroebner\u001b[1;34m(F, *gens, **args)\u001b[0m\n\u001b[0;32m   6745\u001b[0m \u001b[1;33m\u001b[0m\u001b[0m\n\u001b[0;32m   6746\u001b[0m     \"\"\"\n\u001b[1;32m-> 6747\u001b[1;33m     \u001b[1;32mreturn\u001b[0m \u001b[0mGroebnerBasis\u001b[0m\u001b[1;33m(\u001b[0m\u001b[0mF\u001b[0m\u001b[1;33m,\u001b[0m \u001b[1;33m*\u001b[0m\u001b[0mgens\u001b[0m\u001b[1;33m,\u001b[0m \u001b[1;33m**\u001b[0m\u001b[0margs\u001b[0m\u001b[1;33m)\u001b[0m\u001b[1;33m\u001b[0m\u001b[1;33m\u001b[0m\u001b[0m\n\u001b[0m\u001b[0;32m   6748\u001b[0m \u001b[1;33m\u001b[0m\u001b[0m\n\u001b[0;32m   6749\u001b[0m \u001b[1;33m\u001b[0m\u001b[0m\n",
      "\u001b[1;32m~\\Anaconda3\\lib\\site-packages\\sympy\\polys\\polytools.py\u001b[0m in \u001b[0;36m__new__\u001b[1;34m(cls, F, *gens, **args)\u001b[0m\n\u001b[0;32m   6784\u001b[0m         \u001b[0mpolys\u001b[0m \u001b[1;33m=\u001b[0m \u001b[1;33m[\u001b[0m\u001b[0mring\u001b[0m\u001b[1;33m.\u001b[0m\u001b[0mfrom_dict\u001b[0m\u001b[1;33m(\u001b[0m\u001b[0mpoly\u001b[0m\u001b[1;33m.\u001b[0m\u001b[0mrep\u001b[0m\u001b[1;33m.\u001b[0m\u001b[0mto_dict\u001b[0m\u001b[1;33m(\u001b[0m\u001b[1;33m)\u001b[0m\u001b[1;33m)\u001b[0m \u001b[1;32mfor\u001b[0m \u001b[0mpoly\u001b[0m \u001b[1;32min\u001b[0m \u001b[0mpolys\u001b[0m \u001b[1;32mif\u001b[0m \u001b[0mpoly\u001b[0m\u001b[1;33m]\u001b[0m\u001b[1;33m\u001b[0m\u001b[1;33m\u001b[0m\u001b[0m\n\u001b[0;32m   6785\u001b[0m \u001b[1;33m\u001b[0m\u001b[0m\n\u001b[1;32m-> 6786\u001b[1;33m         \u001b[0mG\u001b[0m \u001b[1;33m=\u001b[0m \u001b[0m_groebner\u001b[0m\u001b[1;33m(\u001b[0m\u001b[0mpolys\u001b[0m\u001b[1;33m,\u001b[0m \u001b[0mring\u001b[0m\u001b[1;33m,\u001b[0m \u001b[0mmethod\u001b[0m\u001b[1;33m=\u001b[0m\u001b[0mopt\u001b[0m\u001b[1;33m.\u001b[0m\u001b[0mmethod\u001b[0m\u001b[1;33m)\u001b[0m\u001b[1;33m\u001b[0m\u001b[1;33m\u001b[0m\u001b[0m\n\u001b[0m\u001b[0;32m   6787\u001b[0m         \u001b[0mG\u001b[0m \u001b[1;33m=\u001b[0m \u001b[1;33m[\u001b[0m\u001b[0mPoly\u001b[0m\u001b[1;33m.\u001b[0m\u001b[0m_from_dict\u001b[0m\u001b[1;33m(\u001b[0m\u001b[0mg\u001b[0m\u001b[1;33m,\u001b[0m \u001b[0mopt\u001b[0m\u001b[1;33m)\u001b[0m \u001b[1;32mfor\u001b[0m \u001b[0mg\u001b[0m \u001b[1;32min\u001b[0m \u001b[0mG\u001b[0m\u001b[1;33m]\u001b[0m\u001b[1;33m\u001b[0m\u001b[1;33m\u001b[0m\u001b[0m\n\u001b[0;32m   6788\u001b[0m \u001b[1;33m\u001b[0m\u001b[0m\n",
      "\u001b[1;32m~\\Anaconda3\\lib\\site-packages\\sympy\\polys\\groebnertools.py\u001b[0m in \u001b[0;36mgroebner\u001b[1;34m(seq, ring, method)\u001b[0m\n\u001b[0;32m     43\u001b[0m             \u001b[0mseq\u001b[0m \u001b[1;33m=\u001b[0m \u001b[1;33m[\u001b[0m \u001b[0ms\u001b[0m\u001b[1;33m.\u001b[0m\u001b[0mset_ring\u001b[0m\u001b[1;33m(\u001b[0m\u001b[0mring\u001b[0m\u001b[1;33m)\u001b[0m \u001b[1;32mfor\u001b[0m \u001b[0ms\u001b[0m \u001b[1;32min\u001b[0m \u001b[0mseq\u001b[0m \u001b[1;33m]\u001b[0m\u001b[1;33m\u001b[0m\u001b[1;33m\u001b[0m\u001b[0m\n\u001b[0;32m     44\u001b[0m \u001b[1;33m\u001b[0m\u001b[0m\n\u001b[1;32m---> 45\u001b[1;33m     \u001b[0mG\u001b[0m \u001b[1;33m=\u001b[0m \u001b[0m_groebner\u001b[0m\u001b[1;33m(\u001b[0m\u001b[0mseq\u001b[0m\u001b[1;33m,\u001b[0m \u001b[0mring\u001b[0m\u001b[1;33m)\u001b[0m\u001b[1;33m\u001b[0m\u001b[1;33m\u001b[0m\u001b[0m\n\u001b[0m\u001b[0;32m     46\u001b[0m \u001b[1;33m\u001b[0m\u001b[0m\n\u001b[0;32m     47\u001b[0m     \u001b[1;32mif\u001b[0m \u001b[0morig\u001b[0m \u001b[1;32mis\u001b[0m \u001b[1;32mnot\u001b[0m \u001b[1;32mNone\u001b[0m\u001b[1;33m:\u001b[0m\u001b[1;33m\u001b[0m\u001b[1;33m\u001b[0m\u001b[0m\n",
      "\u001b[1;32m~\\Anaconda3\\lib\\site-packages\\sympy\\polys\\groebnertools.py\u001b[0m in \u001b[0;36m_buchberger\u001b[1;34m(f, ring)\u001b[0m\n\u001b[0;32m    248\u001b[0m \u001b[1;33m\u001b[0m\u001b[0m\n\u001b[0;32m    249\u001b[0m     \u001b[1;32mfor\u001b[0m \u001b[0mig\u001b[0m \u001b[1;32min\u001b[0m \u001b[0mG\u001b[0m\u001b[1;33m:\u001b[0m\u001b[1;33m\u001b[0m\u001b[1;33m\u001b[0m\u001b[0m\n\u001b[1;32m--> 250\u001b[1;33m         \u001b[0mht\u001b[0m \u001b[1;33m=\u001b[0m \u001b[0mnormal\u001b[0m\u001b[1;33m(\u001b[0m\u001b[0mf\u001b[0m\u001b[1;33m[\u001b[0m\u001b[0mig\u001b[0m\u001b[1;33m]\u001b[0m\u001b[1;33m,\u001b[0m \u001b[0mG\u001b[0m \u001b[1;33m-\u001b[0m \u001b[0mset\u001b[0m\u001b[1;33m(\u001b[0m\u001b[1;33m[\u001b[0m\u001b[0mig\u001b[0m\u001b[1;33m]\u001b[0m\u001b[1;33m)\u001b[0m\u001b[1;33m)\u001b[0m\u001b[1;33m\u001b[0m\u001b[1;33m\u001b[0m\u001b[0m\n\u001b[0m\u001b[0;32m    251\u001b[0m \u001b[1;33m\u001b[0m\u001b[0m\n\u001b[0;32m    252\u001b[0m         \u001b[1;32mif\u001b[0m \u001b[0mht\u001b[0m\u001b[1;33m:\u001b[0m\u001b[1;33m\u001b[0m\u001b[1;33m\u001b[0m\u001b[0m\n",
      "\u001b[1;32m~\\Anaconda3\\lib\\site-packages\\sympy\\polys\\groebnertools.py\u001b[0m in \u001b[0;36mnormal\u001b[1;34m(g, J)\u001b[0m\n\u001b[0;32m    102\u001b[0m \u001b[1;33m\u001b[0m\u001b[0m\n\u001b[0;32m    103\u001b[0m     \u001b[1;32mdef\u001b[0m \u001b[0mnormal\u001b[0m\u001b[1;33m(\u001b[0m\u001b[0mg\u001b[0m\u001b[1;33m,\u001b[0m \u001b[0mJ\u001b[0m\u001b[1;33m)\u001b[0m\u001b[1;33m:\u001b[0m\u001b[1;33m\u001b[0m\u001b[1;33m\u001b[0m\u001b[0m\n\u001b[1;32m--> 104\u001b[1;33m         \u001b[0mh\u001b[0m \u001b[1;33m=\u001b[0m \u001b[0mg\u001b[0m\u001b[1;33m.\u001b[0m\u001b[0mrem\u001b[0m\u001b[1;33m(\u001b[0m\u001b[1;33m[\u001b[0m \u001b[0mf\u001b[0m\u001b[1;33m[\u001b[0m\u001b[0mj\u001b[0m\u001b[1;33m]\u001b[0m \u001b[1;32mfor\u001b[0m \u001b[0mj\u001b[0m \u001b[1;32min\u001b[0m \u001b[0mJ\u001b[0m \u001b[1;33m]\u001b[0m\u001b[1;33m)\u001b[0m\u001b[1;33m\u001b[0m\u001b[1;33m\u001b[0m\u001b[0m\n\u001b[0m\u001b[0;32m    105\u001b[0m \u001b[1;33m\u001b[0m\u001b[0m\n\u001b[0;32m    106\u001b[0m         \u001b[1;32mif\u001b[0m \u001b[1;32mnot\u001b[0m \u001b[0mh\u001b[0m\u001b[1;33m:\u001b[0m\u001b[1;33m\u001b[0m\u001b[1;33m\u001b[0m\u001b[0m\n",
      "\u001b[1;32m~\\Anaconda3\\lib\\site-packages\\sympy\\polys\\rings.py\u001b[0m in \u001b[0;36mrem\u001b[1;34m(self, G)\u001b[0m\n\u001b[0;32m   1491\u001b[0m                         \u001b[1;32melse\u001b[0m\u001b[1;33m:\u001b[0m\u001b[1;33m\u001b[0m\u001b[1;33m\u001b[0m\u001b[0m\n\u001b[0;32m   1492\u001b[0m                             \u001b[0mf\u001b[0m\u001b[1;33m[\u001b[0m\u001b[0mm1\u001b[0m\u001b[1;33m]\u001b[0m \u001b[1;33m=\u001b[0m \u001b[0mc1\u001b[0m\u001b[1;33m\u001b[0m\u001b[1;33m\u001b[0m\u001b[0m\n\u001b[1;32m-> 1493\u001b[1;33m                     \u001b[0mltm\u001b[0m \u001b[1;33m=\u001b[0m \u001b[0mf\u001b[0m\u001b[1;33m.\u001b[0m\u001b[0mleading_expv\u001b[0m\u001b[1;33m(\u001b[0m\u001b[1;33m)\u001b[0m\u001b[1;33m\u001b[0m\u001b[1;33m\u001b[0m\u001b[0m\n\u001b[0m\u001b[0;32m   1494\u001b[0m                     \u001b[1;32mif\u001b[0m \u001b[0mltm\u001b[0m \u001b[1;32mis\u001b[0m \u001b[1;32mnot\u001b[0m \u001b[1;32mNone\u001b[0m\u001b[1;33m:\u001b[0m\u001b[1;33m\u001b[0m\u001b[1;33m\u001b[0m\u001b[0m\n\u001b[0;32m   1495\u001b[0m                         \u001b[0mltf\u001b[0m \u001b[1;33m=\u001b[0m \u001b[0mltm\u001b[0m\u001b[1;33m,\u001b[0m \u001b[0mf\u001b[0m\u001b[1;33m[\u001b[0m\u001b[0mltm\u001b[0m\u001b[1;33m]\u001b[0m\u001b[1;33m\u001b[0m\u001b[1;33m\u001b[0m\u001b[0m\n",
      "\u001b[1;32m~\\Anaconda3\\lib\\site-packages\\sympy\\polys\\rings.py\u001b[0m in \u001b[0;36mleading_expv\u001b[1;34m(self)\u001b[0m\n\u001b[0;32m   1673\u001b[0m         \"\"\"\n\u001b[0;32m   1674\u001b[0m         \u001b[1;32mif\u001b[0m \u001b[0mself\u001b[0m\u001b[1;33m:\u001b[0m\u001b[1;33m\u001b[0m\u001b[1;33m\u001b[0m\u001b[0m\n\u001b[1;32m-> 1675\u001b[1;33m             \u001b[1;32mreturn\u001b[0m \u001b[0mself\u001b[0m\u001b[1;33m.\u001b[0m\u001b[0mring\u001b[0m\u001b[1;33m.\u001b[0m\u001b[0mleading_expv\u001b[0m\u001b[1;33m(\u001b[0m\u001b[0mself\u001b[0m\u001b[1;33m)\u001b[0m\u001b[1;33m\u001b[0m\u001b[1;33m\u001b[0m\u001b[0m\n\u001b[0m\u001b[0;32m   1676\u001b[0m         \u001b[1;32melse\u001b[0m\u001b[1;33m:\u001b[0m\u001b[1;33m\u001b[0m\u001b[1;33m\u001b[0m\u001b[0m\n\u001b[0;32m   1677\u001b[0m             \u001b[1;32mreturn\u001b[0m \u001b[1;32mNone\u001b[0m\u001b[1;33m\u001b[0m\u001b[1;33m\u001b[0m\u001b[0m\n",
      "\u001b[1;31mKeyboardInterrupt\u001b[0m: "
     ]
    }
   ],
   "source": [
    "sets = read_sets('Test_Sets/H_3_6.txt')\n",
    "is_resolving = []\n",
    "time_total = 0\n",
    "num_sets = 0\n",
    "for i,R in enumerate(sets):\n",
    "    start = time.time()\n",
    "    resolve = check_resolving(R,6,3)\n",
    "    is_resolving.append(resolve)\n",
    "    end = time.time()\n",
    "    time_total = time_total + end-start\n",
    "    num_sets = num_sets+1\n",
    "avg_time = time_total/num_sets\n",
    "for i,r in enumerate(is_resolving):\n",
    "    if r:\n",
    "        print('Set {} is resolving'.format(i+1))\n",
    "    else:\n",
    "        print('Set {} is not resolving'.format(i+1))\n",
    "print('Total Time: {:.2f} seconds'.format(time_total))\n",
    "print('Average time: {:.2f} seconds'.format(avg_time))"
   ]
  }
 ],
 "metadata": {
  "kernelspec": {
   "display_name": "Python 3",
   "language": "python",
   "name": "python3"
  },
  "language_info": {
   "codemirror_mode": {
    "name": "ipython",
    "version": 3
   },
   "file_extension": ".py",
   "mimetype": "text/x-python",
   "name": "python",
   "nbconvert_exporter": "python",
   "pygments_lexer": "ipython3",
   "version": "3.7.1"
  }
 },
 "nbformat": 4,
 "nbformat_minor": 2
}
