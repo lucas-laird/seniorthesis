{
 "cells": [
  {
   "cell_type": "code",
   "execution_count": 8,
   "metadata": {},
   "outputs": [],
   "source": [
    "import numpy as np\n",
    "from sympy import *\n",
    "from math import floor"
   ]
  },
  {
   "cell_type": "markdown",
   "metadata": {},
   "source": [
    "Weird behvavior that makes me suspect something is wrong with the code itself:  \n",
    "\n",
    "1. If I do the sum(zi) for a position = 0 as a row in the linear equations, I get a different result than if I do it as part of the polynomial system. This doesn't make any sense and I don't understand why it's happening.\n",
    "\n",
    "2. If I put the above condition into the polynomial system, then I get correct results for all of the hypercubes with both the general approach and the simplified approach. If I put the condition in the linear equations I get incorrect results with the general approach. \n",
    "\n",
    "3. If I put the condition into the polynomial system, and test on a>2 systems, I sometimes get all correct, sometimes I don't. I also only ever mis-identify something as resolving when it is not resolving, never the other way around.\n",
    "\n",
    "4. If I put the condition into the linear system and test on a>2 systems, I basically just get everything is resolving which makes no sense."
   ]
  },
  {
   "cell_type": "code",
   "execution_count": 47,
   "metadata": {},
   "outputs": [],
   "source": [
    "#Useful functions for both Hypercubes and general Hamming graphs\n",
    "def read_sets(filename):\n",
    "    #Read in the sets of a file\n",
    "    results = []\n",
    "    with open(filename,'r') as f:\n",
    "        for line in f.read().splitlines():\n",
    "            results.append(line.split(','))\n",
    "    return(results)\n",
    "\n",
    "def make_linearEqns(A,z):\n",
    "    #Takes matrix A and variable list z and converts it into a list of linear equations\n",
    "    z = np.array(z)\n",
    "    fcn_mat = A*z\n",
    "    lin_fcns = [np.sum(row) for row in fcn_mat]\n",
    "    return(lin_fcns)"
   ]
  },
  {
   "cell_type": "code",
   "execution_count": 48,
   "metadata": {},
   "outputs": [],
   "source": [
    "#Hypercube functions\n",
    "def apply_automorphism(R):\n",
    "    #Applies automorphism so that r1 = 0^k (Not useful for non-hypercubes)\n",
    "    position = [i for i,r in enumerate(R[0]) if r == '0']\n",
    "    R_new = [r for r in R]\n",
    "    for j,r in enumerate(R_new):\n",
    "        temp = list(r)\n",
    "        for i in position:\n",
    "            if temp[i] == '1':\n",
    "                temp[i] = '0'\n",
    "            else:\n",
    "                temp[i] = '1'\n",
    "        R_new[j] = ''.join(temp)\n",
    "    return(R_new)\n",
    "\n",
    "def hypercube_matrix(R):\n",
    "    A = np.zeros((len(R),len(R[0])))\n",
    "    for i,r in enumerate(R):\n",
    "        for j,letter in enumerate(r):\n",
    "            A[i,j] = int(letter)\n",
    "    return(A)\n",
    "\n",
    "def hypercube_polys(k):\n",
    "    variable_string = ''\n",
    "    for i in range(1,k+1):\n",
    "        variable_string = variable_string +'z{},'.format(i)\n",
    "    variable_string = variable_string[:-1]\n",
    "    z = var(variable_string)\n",
    "    P = []\n",
    "    f = 0\n",
    "    for i in range(k):\n",
    "        P.append(z[i]*(z[i]-1)*(z[i]+1))\n",
    "        f = f + z[i]**2\n",
    "    fs = []\n",
    "    for i in range(floor(k/2)):\n",
    "        fi = f-2*(i+1)\n",
    "        fs.append(fi)\n",
    "    return(P,fs,z)\n",
    "\n",
    "def check_hcube_resolving(R,k):\n",
    "    #Convert R so that r1 = 1^k\n",
    "    R = apply_automorphism(R)\n",
    "    #Create matrix A from automorphized R\n",
    "    A = hypercube_matrix(R)\n",
    "    #Get polynomial functions and variables for H_k,2\n",
    "    P,fs,z = hypercube_polys(k)\n",
    "    #Get linear functions from A matrix\n",
    "    lin_fcns = make_linearEqns(A,z)\n",
    "    #Get Grobner basis of P and linear functions\n",
    "    G = groebner(P+lin_fcns,order = 'lex')\n",
    "    for i,fi in enumerate(fs):\n",
    "        #Compute Grobner basis of G+fi\n",
    "        Gi = groebner(list(G)+[fi],order = 'lex')\n",
    "        #Solutions iff Gi neq 1, if Gi neq 1 then R is not resolving\n",
    "        if not (list(Gi) == [1]):\n",
    "            return False\n",
    "    return True\n",
    "    "
   ]
  },
  {
   "cell_type": "code",
   "execution_count": 64,
   "metadata": {},
   "outputs": [],
   "source": [
    "def OneHot(R,k,a,alphabet = None):\n",
    "    #Converts list of strings to list of one-hot encodings\n",
    "    if alphabet == None:\n",
    "        temp = [str(i) for i in range(a)]\n",
    "        alphabet = ''.join(temp)\n",
    "    encodings = []\n",
    "    for r in R:\n",
    "        encoding = np.zeros((a,k))\n",
    "        for i in range(k):\n",
    "            for j,letter in enumerate(alphabet):\n",
    "                if r[i] == letter:\n",
    "                    encoding[j,i] = 1\n",
    "        encodings.append(encoding)\n",
    "    return(encodings)\n",
    "\n",
    "def create_polys(k,a):\n",
    "    #Setup polynomial system for H_k,a without knowing what R is\n",
    "    variable_string = 'z1'\n",
    "    for i in range(1,k*a):\n",
    "        variable_string = variable_string +',z{} '.format(i+1)\n",
    "    z = var(variable_string)\n",
    "    P = []\n",
    "    f = 0\n",
    "    for i in range(k):\n",
    "        func = 0\n",
    "        func2 = 0\n",
    "        for j in range(0,a):\n",
    "            P.append(z[i*a+j]*(z[i*a+j]-1)*(z[i*a+j]+1)) #1st condition zi*(zi-1)*(zi+1)\n",
    "            func= func + z[i*a+j]**2\n",
    "            func2 = func2 + z[i*a+j]\n",
    "            f = f + z[i*a+j]**2 #f so that sum(zi**2) neq 0\n",
    "        func = (2-func)*(func)\n",
    "        P.append(func)\n",
    "        P.append(func2)\n",
    "    \n",
    "    fs = [f-2*i for i in range(1,k+1)]\n",
    "    return(P,fs,z)\n",
    "    \n",
    "def make_matrix(R):\n",
    "    #Converts list of one-hot encodings to the linear system\n",
    "    temp = [r.flatten('F') for r in R]\n",
    "    #for i in range(k):\n",
    "    #    added_row = np.zeros(k*a)\n",
    "    #    for j in range(a):\n",
    "    #        #This is the 2nd condition where sum(zi)_i*a+1^i*a+a = 0\n",
    "    #        added_row[i*a+j] = 1\n",
    "    #    temp.append(list(added_row))\n",
    "    return(np.array(temp))\n",
    "\n",
    "def check_resolving(R,k,a,alphabet = None):\n",
    "    (P,fs,z) = create_polys(k,a)\n",
    "    OH_encodedR = OneHot(R,k,a)\n",
    "    A = make_matrix(OH_encodedR)\n",
    "    lin_fcns = make_linearEqns(A,z)\n",
    "    G = groebner(P+lin_fcns,order = 'lex')\n",
    "    for fi in fs:\n",
    "        Gi = groebner(list(G)+[fi],order = 'lex')\n",
    "        if not (list(Gi) == [1]):\n",
    "            return False\n",
    "    return True\n"
   ]
  },
  {
   "cell_type": "code",
   "execution_count": 65,
   "metadata": {},
   "outputs": [
    {
     "name": "stdout",
     "output_type": "stream",
     "text": [
      "Set 1 is not resolving\n",
      "Set 2 is not resolving\n",
      "Set 3 is resolving\n",
      "Set 4 is resolving\n",
      "Set 5 is not resolving\n",
      "Set 6 is resolving\n",
      "Set 7 is resolving\n",
      "Set 8 is not resolving\n"
     ]
    }
   ],
   "source": [
    "#Simplified Hypercube approach test\n",
    "sets = read_sets('Test_Sets/H_2_8.txt')\n",
    "is_resolving = []\n",
    "for i,R in enumerate(sets):\n",
    "    resolve = check_hcube_resolving(R,8)\n",
    "    is_resolving.append(resolve)\n",
    "for i,r in enumerate(is_resolving):\n",
    "    if r:\n",
    "        print('Set {} is resolving'.format(i+1))\n",
    "    else:\n",
    "        print('Set {} is not resolving'.format(i+1))"
   ]
  },
  {
   "cell_type": "code",
   "execution_count": 66,
   "metadata": {},
   "outputs": [
    {
     "name": "stdout",
     "output_type": "stream",
     "text": [
      "Set 1 is not resolving\n",
      "Set 2 is not resolving\n",
      "Set 3 is resolving\n",
      "Set 4 is resolving\n",
      "Set 5 is not resolving\n",
      "Set 6 is resolving\n",
      "Set 7 is resolving\n",
      "Set 8 is not resolving\n"
     ]
    }
   ],
   "source": [
    "#Checking if general approach produces same results as above\n",
    "sets = read_sets('Test_Sets/H_2_8.txt')\n",
    "is_resolving = []\n",
    "for i,R in enumerate(sets):\n",
    "    resolve = check_resolving(R,8,2)\n",
    "    is_resolving.append(resolve)\n",
    "for i,r in enumerate(is_resolving):\n",
    "    if r:\n",
    "        print('Set {} is resolving'.format(i+1))\n",
    "    else:\n",
    "        print('Set {} is not resolving'.format(i+1))"
   ]
  },
  {
   "cell_type": "code",
   "execution_count": 67,
   "metadata": {},
   "outputs": [
    {
     "name": "stdout",
     "output_type": "stream",
     "text": [
      "Set 1 is resolving\n",
      "Set 2 is not resolving\n",
      "Set 3 is not resolving\n",
      "Set 4 is resolving\n",
      "Set 5 is resolving\n",
      "Set 6 is resolving\n",
      "Set 7 is not resolving\n",
      "Set 8 is not resolving\n"
     ]
    }
   ],
   "source": [
    "#Simplified Hypercube approach test\n",
    "sets = read_sets('Test_Sets/H_2_12.txt')\n",
    "is_resolving = []\n",
    "for i,R in enumerate(sets):\n",
    "    resolve = check_hcube_resolving(R,12)\n",
    "    is_resolving.append(resolve)\n",
    "for i,r in enumerate(is_resolving):\n",
    "    if r:\n",
    "        print('Set {} is resolving'.format(i+1))\n",
    "    else:\n",
    "        print('Set {} is not resolving'.format(i+1))"
   ]
  },
  {
   "cell_type": "code",
   "execution_count": 68,
   "metadata": {},
   "outputs": [
    {
     "name": "stdout",
     "output_type": "stream",
     "text": [
      "Set 1 is resolving\n",
      "Set 2 is not resolving\n",
      "Set 3 is not resolving\n",
      "Set 4 is resolving\n",
      "Set 5 is resolving\n",
      "Set 6 is resolving\n",
      "Set 7 is not resolving\n",
      "Set 8 is not resolving\n"
     ]
    }
   ],
   "source": [
    "#Checking if general approach produces same results as above\n",
    "sets = read_sets('Test_Sets/H_2_12.txt')\n",
    "is_resolving = []\n",
    "for i,R in enumerate(sets):\n",
    "    k = len(R[0])\n",
    "    resolve = check_resolving(R,k,2)\n",
    "    is_resolving.append(resolve)\n",
    "for i,r in enumerate(is_resolving):\n",
    "    if r:\n",
    "        print('Set {} is resolving'.format(i+1))\n",
    "    else:\n",
    "        print('Set {} is not resolving'.format(i+1))"
   ]
  },
  {
   "cell_type": "code",
   "execution_count": 54,
   "metadata": {},
   "outputs": [
    {
     "name": "stdout",
     "output_type": "stream",
     "text": [
      "Set 1 is resolving\n",
      "Set 2 is resolving\n",
      "Set 3 is resolving\n",
      "Set 4 is resolving\n",
      "Set 5 is not resolving\n",
      "Set 6 is not resolving\n",
      "Set 7 is resolving\n",
      "Set 8 is resolving\n"
     ]
    }
   ],
   "source": [
    "sets = read_sets('Test_Sets/H_3_5.txt')\n",
    "is_resolving = []\n",
    "for i,R in enumerate(sets):\n",
    "    resolve = check_resolving(R,5,3)\n",
    "    is_resolving.append(resolve)\n",
    "for i,r in enumerate(is_resolving):\n",
    "    if r:\n",
    "        print('Set {} is resolving'.format(i+1))\n",
    "    else:\n",
    "        print('Set {} is not resolving'.format(i+1))\n",
    "\n",
    "#4,8,5,6 are not resolving\n",
    "#4 and 8 are the ones that aren't working"
   ]
  },
  {
   "cell_type": "code",
   "execution_count": 55,
   "metadata": {},
   "outputs": [
    {
     "name": "stdout",
     "output_type": "stream",
     "text": [
      "Set 1 is resolving\n",
      "Set 2 is not resolving\n",
      "Set 3 is not resolving\n",
      "Set 4 is not resolving\n",
      "Set 5 is resolving\n",
      "Set 6 is resolving\n",
      "Set 7 is resolving\n",
      "Set 8 is not resolving\n"
     ]
    }
   ],
   "source": [
    "#This one works?!\n",
    "sets = read_sets('Test_Sets/H_4_4.txt')\n",
    "is_resolving = []\n",
    "for i,R in enumerate(sets):\n",
    "    resolve = check_resolving(R,4,4)\n",
    "    is_resolving.append(resolve)\n",
    "for i,r in enumerate(is_resolving):\n",
    "    if r:\n",
    "        print('Set {} is resolving'.format(i+1))\n",
    "    else:\n",
    "        print('Set {} is not resolving'.format(i+1))"
   ]
  },
  {
   "cell_type": "code",
   "execution_count": 56,
   "metadata": {},
   "outputs": [
    {
     "name": "stdout",
     "output_type": "stream",
     "text": [
      "Set 1 is resolving\n",
      "Set 2 is resolving\n",
      "Set 3 is resolving\n",
      "Set 4 is not resolving\n",
      "Set 5 is not resolving\n",
      "Set 6 is resolving\n",
      "Set 7 is resolving\n",
      "Set 8 is not resolving\n"
     ]
    }
   ],
   "source": [
    "sets = read_sets('Test_Sets/H_4_5.txt')\n",
    "is_resolving = []\n",
    "for i,R in enumerate(sets):\n",
    "    resolve = check_resolving(R,5,4)\n",
    "    is_resolving.append(resolve)\n",
    "for i,r in enumerate(is_resolving):\n",
    "    if r:\n",
    "        print('Set {} is resolving'.format(i+1))\n",
    "    else:\n",
    "        print('Set {} is not resolving'.format(i+1))\n",
    "\n",
    "#8,4,5,1\n",
    "#This misses Set 1 as not resolving"
   ]
  },
  {
   "cell_type": "code",
   "execution_count": 57,
   "metadata": {},
   "outputs": [
    {
     "name": "stdout",
     "output_type": "stream",
     "text": [
      "Set 1 is resolving\n",
      "Set 2 is resolving\n",
      "Set 3 is resolving\n",
      "Set 4 is not resolving\n",
      "Set 5 is resolving\n",
      "Set 6 is resolving\n",
      "Set 7 is resolving\n",
      "Set 8 is resolving\n"
     ]
    }
   ],
   "source": [
    "sets = read_sets('Test_Sets/H_4_6.txt')\n",
    "is_resolving = []\n",
    "for i,R in enumerate(sets):\n",
    "    resolve = check_resolving(R,6,4)\n",
    "    is_resolving.append(resolve)\n",
    "for i,r in enumerate(is_resolving):\n",
    "    if r:\n",
    "        print('Set {} is resolving'.format(i+1))\n",
    "    else:\n",
    "        print('Set {} is not resolving'.format(i+1))\n",
    "\n"
   ]
  }
 ],
 "metadata": {
  "kernelspec": {
   "display_name": "Python 3",
   "language": "python",
   "name": "python3"
  },
  "language_info": {
   "codemirror_mode": {
    "name": "ipython",
    "version": 3
   },
   "file_extension": ".py",
   "mimetype": "text/x-python",
   "name": "python",
   "nbconvert_exporter": "python",
   "pygments_lexer": "ipython3",
   "version": "3.7.1"
  }
 },
 "nbformat": 4,
 "nbformat_minor": 2
}
