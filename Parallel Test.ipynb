{
 "cells": [
  {
   "cell_type": "code",
   "execution_count": 1,
   "metadata": {},
   "outputs": [],
   "source": [
    "import numpy as np\n",
    "from sympy import *\n",
    "from math import floor\n",
    "import time\n",
    "from itertools import product\n",
    "from itertools import combinations\n",
    "import multiprocessing as mp"
   ]
  },
  {
   "cell_type": "code",
   "execution_count": 2,
   "metadata": {},
   "outputs": [],
   "source": [
    "def make_linearEqns(A,z):\n",
    "    #Takes matrix A and variable list z and converts it into a list of linear equations\n",
    "    z = Matrix(z)\n",
    "    A = Matrix(A)\n",
    "    A = A.rref()[0]\n",
    "    lin_fcns = A*z\n",
    "    lin_fcns = [f for f in lin_fcns if f != 0]\n",
    "    return(list(lin_fcns))\n",
    "#Hypercube functions\n",
    "def apply_automorphism(R):\n",
    "    #Applies automorphism so that r1 = 0^k (Not useful for non-hypercubes)\n",
    "    position = [i for i,r in enumerate(R[0]) if r == '0']\n",
    "    R_new = [r for r in R]\n",
    "    for j,r in enumerate(R_new):\n",
    "        temp = list(r)\n",
    "        for i in position:\n",
    "            if temp[i] == '1':\n",
    "                temp[i] = '0'\n",
    "            else:\n",
    "                temp[i] = '1'\n",
    "        R_new[j] = ''.join(temp)\n",
    "    return(R_new)\n",
    "\n",
    "def hypercube_matrix(R):\n",
    "    A = np.zeros((len(R),len(R[0])))\n",
    "    for i,r in enumerate(R):\n",
    "        for j,letter in enumerate(r):\n",
    "            A[i,j] = int(letter)\n",
    "    return(A)\n",
    "\n",
    "def hypercube_polys(k):\n",
    "    variable_string = ''\n",
    "    for i in range(1,k+1):\n",
    "        variable_string = variable_string +'z{},'.format(i)\n",
    "    variable_string = variable_string[:-1]\n",
    "    z = var(variable_string)\n",
    "    P = []\n",
    "    f = 0\n",
    "    for i in range(k):\n",
    "        P.append(z[i]*(z[i]-1)*(z[i]+1))\n",
    "        f = f + z[i]**2\n",
    "    fs = []\n",
    "    for i in range(floor(k/2)):\n",
    "        fi = f-2*(i+1)\n",
    "        fs.append(fi)\n",
    "    return(P,fs,z)\n",
    "\n",
    "def check_hcube_resolving(A,k):\n",
    "    P,fs,z = hypercube_polys(k)\n",
    "    #Get linear functions from A matrix\n",
    "    lin_fcns = make_linearEqns(A,z)\n",
    "    #Get Grobner basis of P and linear functions\n",
    "    G = groebner(P+lin_fcns,order = 'lex')\n",
    "    for i,fi in enumerate(fs):\n",
    "        #Compute Grobner basis of G+fi\n",
    "        Gi = groebner(list(G)+[fi],order = 'lex')\n",
    "        #Solutions iff Gi neq 1, if Gi neq 1 then R is not resolving\n",
    "        if not (list(Gi) == [1]):\n",
    "            return False\n",
    "    return True\n",
    "    "
   ]
  },
  {
   "cell_type": "code",
   "execution_count": 3,
   "metadata": {},
   "outputs": [],
   "source": [
    "def preprocess_hcube(k):\n",
    "    P,fs,z = hypercube_polys(k)\n",
    "    Gs = []\n",
    "    for i,fi in enumerate(fs):\n",
    "        G = groebner(P+[fi], order = 'lex')\n",
    "        Gs.append(G)\n",
    "    return (Gs,z)"
   ]
  },
  {
   "cell_type": "code",
   "execution_count": 4,
   "metadata": {},
   "outputs": [],
   "source": [
    "def threaded_hcube_resolving(Gs, lin_fcns):\n",
    "    for G in Gs:\n",
    "        Gi = groebner(list(G)+lin_fcns, order = 'lex')\n",
    "        if (list(Gi) != [1]):\n",
    "            return False\n",
    "    return True"
   ]
  },
  {
   "cell_type": "code",
   "execution_count": 5,
   "metadata": {},
   "outputs": [],
   "source": [
    "def generate_ResSet_threaded(Gs,z,k):\n",
    "    print(k)\n",
    "    ones_string = '1'*k\n",
    "    nodes = [''.join(x) for x in product('01',repeat = k)]\n",
    "    nodes.remove(ones_string)\n",
    "    random_indices = np.random.permutation(len(nodes))\n",
    "    R = [ones_string]\n",
    "    rank = 0\n",
    "    for i in random_indices:\n",
    "        node = nodes[i]\n",
    "        A = hypercube_matrix(R+[node])\n",
    "        new_rank = np.linalg.matrix_rank(A)\n",
    "        if new_rank > rank:\n",
    "            rank = new_rank\n",
    "            R.append(node)\n",
    "            lin_fcns = make_linearEqns(A,z)\n",
    "            is_resolving = threaded_hcube_resolving(Gs,lin_fcns)\n",
    "            if is_resolving:\n",
    "                return(R)"
   ]
  },
  {
   "cell_type": "code",
   "execution_count": null,
   "metadata": {},
   "outputs": [],
   "source": [
    "k = 3\n",
    "num_sets = 4\n",
    "num_cores = mp.cpu_count()\n",
    "Sets = []\n",
    "Gs,z = preprocess_hcube(k)\n",
    "args = ((Gs,z,k),)*num_sets\n",
    "with mp.Pool(processes=num_cores) as pool:\n",
    "    result = pool.map(generate_ResSet_threaded,args)\n",
    "    print(result.get(timeout = 1))\n",
    "    "
   ]
  },
  {
   "cell_type": "code",
   "execution_count": null,
   "metadata": {},
   "outputs": [],
   "source": [
    "ks = np.arange(3,7,1)\n",
    "num_sets = 10\n",
    "num_cores = mp.cpu_count()\n",
    "Sets = []\n",
    "sizes = []\n",
    "for k in ks:\n",
    "    Gs,z = preprocess_hcube(k)\n",
    "    pool = ThreadPool(processes = num_cores)\n",
    "    args = ((Gs,z,k),)*num_sets\n",
    "    async_result = [pool.apply_async(generate_ResSet_threaded, args = arg)\n",
    "                for arg in args]\n",
    "    return_val = [result.get() for result in async_result]\n",
    "    Size_list = [len(R) for R in return_val]\n",
    "    Size_list = set(Size_list)\n",
    "    sizes.append(list(Size_list))\n",
    "    Sets.append()"
   ]
  }
 ],
 "metadata": {
  "kernelspec": {
   "display_name": "Python 3",
   "language": "python",
   "name": "python3"
  },
  "language_info": {
   "codemirror_mode": {
    "name": "ipython",
    "version": 3
   },
   "file_extension": ".py",
   "mimetype": "text/x-python",
   "name": "python",
   "nbconvert_exporter": "python",
   "pygments_lexer": "ipython3",
   "version": "3.7.1"
  }
 },
 "nbformat": 4,
 "nbformat_minor": 2
}
