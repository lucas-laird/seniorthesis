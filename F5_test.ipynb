{
 "cells": [
  {
   "cell_type": "code",
   "execution_count": 1,
   "metadata": {},
   "outputs": [],
   "source": [
    "import numpy as np\n",
    "from sympy import *"
   ]
  },
  {
   "cell_type": "code",
   "execution_count": 11,
   "metadata": {},
   "outputs": [],
   "source": [
    "#Signature is stored as tuple (m,i) where m is the monomial and i is the index\n",
    "#Poly is stored as a polynomial ie. x**a + x**b +...\n",
    "class LabeledPolynomial:\n",
    "    def __init__(self, sign, poly, order = 'lex'):\n",
    "        self.poly = poly\n",
    "        self.sign = sign\n",
    "        self.order = order\n",
    "    \n",
    "    def subtract(self,G):\n",
    "        if signature_cmp(self.sign,G.sign,order = self.order):\n",
    "            sign = self.sign\n",
    "        else:\n",
    "            sign = G.sign\n",
    "        \n",
    "        poly = self.poly-G.poly\n",
    "        return(LabeledPolynomial(sign,poly,order = self.order))\n",
    "    \n",
    "    def multiply(self,m):\n",
    "        sign = (self.sign[0]*m,self.sign[1])\n",
    "        poly = expand(self.poly*m)\n",
    "        return(LabeledPolynomial(sign,poly,order = self.order))"
   ]
  },
  {
   "cell_type": "code",
   "execution_count": 12,
   "metadata": {},
   "outputs": [],
   "source": [
    "def monomial_cmp(u,v,order = 'lex'):\n",
    "    #Return True if u > v\n",
    "    temp = u+v\n",
    "    highest_mon = LT(temp,order = order)\n",
    "    if highest_mon == u:\n",
    "        return True\n",
    "    else:\n",
    "        return False\n",
    "\n",
    "    \n",
    "def signature_cmp(f,g,order = 'lex'):\n",
    "    #Return True if f > g\n",
    "    if (f[1] < g[1]):\n",
    "        return True\n",
    "    if (f[1] == g[1]):\n",
    "        if monomial_cmp(f[0],g[0]):\n",
    "            return True\n",
    "    return False\n",
    "\n",
    "def CP(F,G):\n",
    "    LM1 = LM(F.poly,order = F.order)\n",
    "    LT1 = LT(F.poly,order = F.order)\n",
    "    LM2 = LM(G.poly,order = G.order)\n",
    "    LT2 = LT(G.poly,order = G.order)\n",
    "    numerator = lcm(LM1,LM2)\n",
    "    u = simplify(numerator/LT1)\n",
    "    v = simplify(numerator/LT2)\n",
    "    return((u,F,v,G))\n",
    "\n",
    "def spoly(pair):\n",
    "    lbp1 = pair[1].multiply(pair[0])\n",
    "    lbp2 = pair[3].multiply(pair[2])\n",
    "    return(lbp1.subtract(lbp2))"
   ]
  },
  {
   "cell_type": "code",
   "execution_count": 4,
   "metadata": {},
   "outputs": [],
   "source": [
    "def is_divisible(F,B):\n",
    "    for G in B:\n",
    "        if G.sign[1] > F.sign[1]:\n",
    "            lpp = LM(G.poly,order = G.order)\n",
    "            if rem(F.sign[0],lpp) == 0:\n",
    "                return True\n",
    "    return False\n",
    "\n",
    "def is_rewritable(F,B,u):\n",
    "    index = B.index(F)\n",
    "    for i in range(index+1,len(B)):\n",
    "        G = B[i]\n",
    "        if G.sign[1] == F.sign[1]:\n",
    "            if G.sign[0] == 1:\n",
    "                return True\n",
    "            if not F.sign[0] == 1:\n",
    "                lppg = LM(G.sign[0],order = G.order)\n",
    "                lppf = LM(F.sign[0],order = F.order)\n",
    "                lppf = lppf*u\n",
    "                if rem(lppf,lppg) == 0:\n",
    "                    return True\n",
    "    return False\n",
    "            "
   ]
  },
  {
   "cell_type": "code",
   "execution_count": 5,
   "metadata": {},
   "outputs": [],
   "source": [
    "def f5_reduce(F,B):\n",
    "    can_reduce = True\n",
    "    while can_reduce:\n",
    "        if (F.poly == 0):\n",
    "            return(F)\n",
    "        can_reduce = False\n",
    "        for G in B:\n",
    "            if rem(LM(F.poly,order = F.order),LM(G.poly,order = G.order)) == 0:\n",
    "                m = LT(F.poly,order = F.order)/LT(G.poly,order = G.order)\n",
    "                cxG = G.multiply(m)\n",
    "                if signature_cmp(F.sign,cxG.sign):\n",
    "                    if not is_divisible(cxG,B):\n",
    "                        if not is_rewritable(G,B,m):\n",
    "                            F = F.subtract(cxG)\n",
    "                            can_reduce = True\n",
    "                            break\n",
    "                            \n",
    "    return(F)"
   ]
  },
  {
   "cell_type": "code",
   "execution_count": 6,
   "metadata": {},
   "outputs": [],
   "source": [
    "def f5_groebner(polys, order = 'lex'):\n",
    "    B = []\n",
    "    for i,p in enumerate(polys):\n",
    "        b = LabeledPolynomial((1,i),p,order = order)\n",
    "        B.append(b)\n",
    "    n = len(B)\n",
    "    pairs = []\n",
    "    for i in range(n-1):\n",
    "        for j in range(i+1,n):\n",
    "            pairs.append(CP(B[i],B[j]))\n",
    "    while len(pairs) > 0:\n",
    "        cp = pairs.pop()\n",
    "        uF = cp[1].multiply(cp[0])\n",
    "        if not (is_divisible(uF,B) or is_rewritable(cp[1],B,cp[0])):\n",
    "            vG = cp[3].multiply(cp[2])\n",
    "            if not (is_divisible(vG,B) or is_rewritable(cp[3],B,cp[2])):\n",
    "                S = spoly(cp)\n",
    "                P = f5_reduce(S,B)\n",
    "                if not P.poly == 0:\n",
    "                    for b in B:\n",
    "                        pairs.append(CP(b,P))\n",
    "                    B.append(P)\n",
    "    return([b.poly for b in B])"
   ]
  },
  {
   "cell_type": "code",
   "execution_count": 7,
   "metadata": {},
   "outputs": [],
   "source": [
    "def reduce_groebner(G,order = 'lex'):\n",
    "    H = []\n",
    "    for i,g in enumerate(G):\n",
    "        temp = [f for f in G if not f == g]\n",
    "        m = LM(g,order = order)\n",
    "        q,r = reduced(m,temp)\n",
    "        if not r == 0:\n",
    "            H.append(g/LC(g,order = order))\n",
    "            \n",
    "    for i,h in enumerate(H):\n",
    "        temp = [f for f in H if not f == h]\n",
    "        q,r = reduced(h,temp)\n",
    "        H[i] = r\n",
    "    return(H)"
   ]
  },
  {
   "cell_type": "code",
   "execution_count": 8,
   "metadata": {},
   "outputs": [],
   "source": [
    "x,y,z = var('x,y,z')\n",
    "f_list = [x**2+y,x*y-z,y**2+x*z]\n",
    "sign_list = [(1,1),(1,2),(y,1)]"
   ]
  },
  {
   "cell_type": "code",
   "execution_count": 8,
   "metadata": {},
   "outputs": [],
   "source": [
    "B = []\n",
    "for i in range(len(f_list)):\n",
    "    B.append(LabeledPolynomial(sign_list[i],f_list[i], order = 'grevlex'))\n"
   ]
  },
  {
   "cell_type": "code",
   "execution_count": 9,
   "metadata": {},
   "outputs": [],
   "source": [
    "pair = CP(B[2],B[1])"
   ]
  },
  {
   "cell_type": "code",
   "execution_count": 10,
   "metadata": {},
   "outputs": [
    {
     "name": "stdout",
     "output_type": "stream",
     "text": [
      "(x*y, 1) x**2*z + x*y**2\n",
      "(y, 2) x*y**2 - y*z\n"
     ]
    }
   ],
   "source": [
    "uF = pair[1].multiply(pair[0])\n",
    "vG = pair[3].multiply(pair[2])\n",
    "print(uF.sign,uF.poly)\n",
    "print(vG.sign,vG.poly)"
   ]
  },
  {
   "cell_type": "code",
   "execution_count": 11,
   "metadata": {},
   "outputs": [
    {
     "name": "stdout",
     "output_type": "stream",
     "text": [
      "True\n"
     ]
    }
   ],
   "source": [
    "result = is_divisible(uF,B)\n",
    "print(result)"
   ]
  },
  {
   "cell_type": "code",
   "execution_count": 12,
   "metadata": {},
   "outputs": [],
   "source": [
    "x,y = var('x,y')\n",
    "f_list = [x**2+x*y, x**2+y, x*y-y]\n",
    "sign_list = [(1,1),(1,2),(1,1)]"
   ]
  },
  {
   "cell_type": "code",
   "execution_count": 13,
   "metadata": {},
   "outputs": [],
   "source": [
    "B = []\n",
    "for i in range(len(f_list)):\n",
    "    B.append(LabeledPolynomial(sign_list[i],f_list[i], order = 'grevlex'))\n"
   ]
  },
  {
   "cell_type": "code",
   "execution_count": 14,
   "metadata": {},
   "outputs": [],
   "source": [
    "pair = CP(B[0],B[2])"
   ]
  },
  {
   "cell_type": "code",
   "execution_count": 15,
   "metadata": {},
   "outputs": [
    {
     "name": "stdout",
     "output_type": "stream",
     "text": [
      "y x\n"
     ]
    }
   ],
   "source": [
    "print(pair[0],pair[2])"
   ]
  },
  {
   "cell_type": "code",
   "execution_count": 16,
   "metadata": {},
   "outputs": [
    {
     "name": "stdout",
     "output_type": "stream",
     "text": [
      "True\n"
     ]
    }
   ],
   "source": [
    "result = is_rewritable(pair[1],B,pair[0])\n",
    "print(result)"
   ]
  },
  {
   "cell_type": "code",
   "execution_count": 17,
   "metadata": {},
   "outputs": [],
   "source": [
    "x,y,z = var('x,y,z')\n",
    "f_list = [x*z**2+y**2, x*y+x*z, y*z+z]\n",
    "sign_list = [(1,1),(1,2),(1,3)]"
   ]
  },
  {
   "cell_type": "code",
   "execution_count": 18,
   "metadata": {},
   "outputs": [],
   "source": [
    "B = []\n",
    "for i in range(len(f_list)):\n",
    "    B.append(LabeledPolynomial(sign_list[i],f_list[i], order = 'grevlex'))\n"
   ]
  },
  {
   "cell_type": "code",
   "execution_count": 19,
   "metadata": {},
   "outputs": [
    {
     "name": "stdout",
     "output_type": "stream",
     "text": [
      "z x\n"
     ]
    }
   ],
   "source": [
    "pair = CP(B[1],B[2])\n",
    "print(pair[0],pair[2])"
   ]
  },
  {
   "cell_type": "code",
   "execution_count": 20,
   "metadata": {},
   "outputs": [],
   "source": [
    "S = spoly(pair)"
   ]
  },
  {
   "cell_type": "code",
   "execution_count": 21,
   "metadata": {},
   "outputs": [
    {
     "name": "stdout",
     "output_type": "stream",
     "text": [
      "x*z**2 - x*z\n",
      "(z, 2)\n"
     ]
    }
   ],
   "source": [
    "print(S.poly)\n",
    "print(S.sign)"
   ]
  },
  {
   "cell_type": "code",
   "execution_count": 22,
   "metadata": {},
   "outputs": [],
   "source": [
    "P = f5_reduce(S,B)"
   ]
  },
  {
   "cell_type": "code",
   "execution_count": 23,
   "metadata": {},
   "outputs": [
    {
     "name": "stdout",
     "output_type": "stream",
     "text": [
      "x*z**2 - x*z\n"
     ]
    }
   ],
   "source": [
    "print(P.poly)"
   ]
  },
  {
   "cell_type": "code",
   "execution_count": 8,
   "metadata": {},
   "outputs": [
    {
     "name": "stdout",
     "output_type": "stream",
     "text": [
      "[x**2 - y, x*y - x, y**2 - y]\n"
     ]
    }
   ],
   "source": [
    "x,y = var('x,y')\n",
    "polys = [x*y-x, x**2-y]\n",
    "G = groebner(polys,order = 'lex', method = 'f5b')\n",
    "print(list(G))"
   ]
  },
  {
   "cell_type": "code",
   "execution_count": 9,
   "metadata": {},
   "outputs": [
    {
     "name": "stdout",
     "output_type": "stream",
     "text": [
      "[x*y - x, x**2 - y, y**2 - y]\n"
     ]
    }
   ],
   "source": [
    "test_G = f5_groebner(polys, order = 'lex')\n",
    "print(test_G)"
   ]
  },
  {
   "cell_type": "code",
   "execution_count": 9,
   "metadata": {},
   "outputs": [
    {
     "name": "stdout",
     "output_type": "stream",
     "text": [
      "[x - 2*y**2, y**3]\n"
     ]
    }
   ],
   "source": [
    "x,y = var('x,y')\n",
    "polys = [x**3 - 2*x*y, x**2*y-2*y**2 + x,x**2 - x*y**2 + x**2*y**3]\n",
    "G = groebner(polys,order = 'lex')\n",
    "print(list(G))"
   ]
  },
  {
   "cell_type": "code",
   "execution_count": 13,
   "metadata": {},
   "outputs": [],
   "source": [
    "test_G = f5_groebner(polys,order = 'lex')"
   ]
  },
  {
   "cell_type": "code",
   "execution_count": 14,
   "metadata": {},
   "outputs": [],
   "source": [
    "reduced_G = reduce_groebner(test_G,order = 'lex')"
   ]
  },
  {
   "cell_type": "code",
   "execution_count": 15,
   "metadata": {},
   "outputs": [
    {
     "name": "stdout",
     "output_type": "stream",
     "text": [
      "[x - 2*y**2, y**3]\n"
     ]
    }
   ],
   "source": [
    "print(reduced_G)"
   ]
  },
  {
   "cell_type": "code",
   "execution_count": 16,
   "metadata": {},
   "outputs": [
    {
     "name": "stdout",
     "output_type": "stream",
     "text": [
      "[x**3 - 2*x*y, x**2*y + x - 2*y**2, x**2*y**3 + x**2 - x*y**2, -x**2 + 2*x*y**2 - 2*y**4, 2*x*y**5 + x*y**2 - 2*y**7 - 2*y**4, -x*y**4/2 - x*y/2 + y**9 + y**6 + y**3, -x*y**2/2 + 2*y**10 + y**7 + y**4, x*y + 4*y**12 - 2*y**3, -4*y**13 - 4*y**10 - 2*y**7, 2*x*y**3 + x - 2*y**5 - 2*y**2, x*y**2/2 + y**7, x/2 - 2*y**8 - y**5 - y**2, 4*y**10 + 4*y**7 + 2*y**4, -12*y**9 - 8*y**6 - 4*y**3, y**7/3 + y**4/6, y**6/6 + y**3/3, -3*y**4/2, 2*y**3]\n"
     ]
    }
   ],
   "source": [
    "print(test_G)"
   ]
  },
  {
   "cell_type": "code",
   "execution_count": null,
   "metadata": {},
   "outputs": [],
   "source": []
  }
 ],
 "metadata": {
  "kernelspec": {
   "display_name": "Python 3",
   "language": "python",
   "name": "python3"
  },
  "language_info": {
   "codemirror_mode": {
    "name": "ipython",
    "version": 3
   },
   "file_extension": ".py",
   "mimetype": "text/x-python",
   "name": "python",
   "nbconvert_exporter": "python",
   "pygments_lexer": "ipython3",
   "version": "3.7.1"
  }
 },
 "nbformat": 4,
 "nbformat_minor": 2
}
